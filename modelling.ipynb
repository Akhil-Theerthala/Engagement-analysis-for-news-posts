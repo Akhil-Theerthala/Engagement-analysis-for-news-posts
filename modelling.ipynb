{
 "cells": [
  {
   "cell_type": "code",
   "execution_count": 1,
   "metadata": {
    "collapsed": true,
    "id": "SmnS_LzfHDe0"
   },
   "outputs": [
    {
     "data": {
      "text/plain": [
       "['0',\n",
       " '1',\n",
       " '2',\n",
       " '3',\n",
       " '4',\n",
       " '5',\n",
       " '6',\n",
       " 'posted_at',\n",
       " 'post_type_link',\n",
       " 'post_type_music',\n",
       " 'post_type_note',\n",
       " 'post_type_offer',\n",
       " 'post_type_photo',\n",
       " 'post_type_status',\n",
       " 'post_type_video',\n",
       " 'status_type_added_video',\n",
       " 'status_type_created_event',\n",
       " 'status_type_created_note',\n",
       " 'status_type_mobile_status_update',\n",
       " 'status_type_published_story',\n",
       " 'status_type_shared_story',\n",
       " 'source_bbc',\n",
       " 'source_cbs',\n",
       " 'source_cnn',\n",
       " 'source_lat',\n",
       " 'source_nbc',\n",
       " 'source_nyt',\n",
       " 'source_wsj']"
      ]
     },
     "execution_count": 1,
     "metadata": {},
     "output_type": "execute_result"
    }
   ],
   "source": [
    "import pandas as pd\n",
    "import numpy as np\n",
    "import pickle\n",
    "import plotly.graph_objects as go\n",
    "\n",
    "from sklearn.multioutput import MultiOutputRegressor, RegressorChain\n",
    "from sklearn.linear_model import LinearRegression\n",
    "from sklearn.svm import SVR\n",
    "from sklearn.tree import DecisionTreeRegressor\n",
    "from sklearn.ensemble import RandomForestRegressor\n",
    "from sklearn.metrics import mean_squared_error,mean_absolute_error, r2_score\n",
    "from sklearn.preprocessing import StandardScaler, MinMaxScaler\n",
    "from sklearn.compose import ColumnTransformer\n",
    "from sklearn.model_selection import train_test_split, RandomizedSearchCV, GridSearchCV\n",
    "\n",
    "#importing the data\n",
    "x = pd.read_csv('x.csv').drop('Unnamed: 0', axis=1)\n",
    "y = pd.read_csv('y.csv').drop('Unnamed: 0', axis=1)\n",
    "\n",
    "#storing the details\n",
    "x_cols = list(x.columns)\n",
    "titles = list(y.columns)\n",
    "\n",
    "x_cols"
   ]
  },
  {
   "cell_type": "code",
   "execution_count": 2,
   "metadata": {},
   "outputs": [],
   "source": [
    "#Specific cols\n",
    "num_cols = ['posted_at', '0', '1', '2', '3', '4', '5', '6']\n",
    "cols = [col for col in x_cols if col not in num_cols]\n",
    "\n",
    "#preprocessing the values\n",
    "preprocess = ColumnTransformer([\n",
    "    (\n",
    "        'numeric',\n",
    "        MinMaxScaler(),\n",
    "        num_cols\n",
    "    )\n",
    "], remainder='passthrough')\n",
    "\n",
    "x = preprocess.fit_transform(x)\n",
    "\n",
    "#Getting the final order of columns right...\n",
    "final_cols = []\n",
    "final_cols.extend(num_cols)\n",
    "final_cols.extend(cols)\n",
    "# print(final_cols)\n",
    "\n",
    "x_true = pd.DataFrame(x, columns = final_cols)\n",
    "\n",
    "#Train,test split\n",
    "x_train,x_val,y_train,y_val = train_test_split(x, np.array(y.values), test_size=0.1, shuffle=True, random_state=35)"
   ]
  },
  {
   "cell_type": "code",
   "execution_count": 3,
   "metadata": {
    "collapsed": false
   },
   "outputs": [],
   "source": [
    "def save_model(pkl_model,name):\n",
    "    pkl_dir = './models/ml/'\n",
    "    pkl_filename =pkl_dir+ name+'.pkl'\n",
    "    with open(pkl_filename, 'wb') as file:\n",
    "        pickle.dump(pkl_model, file)"
   ]
  },
  {
   "cell_type": "markdown",
   "metadata": {
    "collapsed": false,
    "id": "BXpHCiZ3HDfD"
   },
   "source": [
    "## Decision Tree"
   ]
  },
  {
   "cell_type": "code",
   "execution_count": 4,
   "metadata": {
    "id": "ptZqVlHYHDfF"
   },
   "outputs": [
    {
     "data": {
      "text/plain": [
       "array([[4.531e+03, 6.790e+02, 1.458e+03, ..., 1.000e+00, 0.000e+00,\n",
       "        0.000e+00],\n",
       "       [6.300e+01, 4.100e+01, 8.000e+00, ..., 0.000e+00, 0.000e+00,\n",
       "        0.000e+00],\n",
       "       [3.120e+02, 1.200e+01, 2.400e+01, ..., 0.000e+00, 0.000e+00,\n",
       "        0.000e+00],\n",
       "       ...,\n",
       "       [1.150e+02, 1.170e+02, 4.100e+01, ..., 2.000e+00, 0.000e+00,\n",
       "        1.800e+01],\n",
       "       [2.250e+02, 7.000e+00, 3.300e+01, ..., 0.000e+00, 0.000e+00,\n",
       "        0.000e+00],\n",
       "       [2.700e+02, 7.300e+01, 6.700e+01, ..., 0.000e+00, 0.000e+00,\n",
       "        0.000e+00]])"
      ]
     },
     "execution_count": 4,
     "metadata": {},
     "output_type": "execute_result"
    }
   ],
   "source": [
    "tree = DecisionTreeRegressor()\n",
    "tree.fit(x_train,y_train)\n",
    "pred = tree.predict(x_val)\n",
    "save_model(tree, 'tree')\n",
    "pred"
   ]
  },
  {
   "cell_type": "code",
   "execution_count": 5,
   "metadata": {
    "colab": {
     "base_uri": "https://localhost:8080/"
    },
    "id": "axP0IqrsHDfG",
    "outputId": "94d39741-82c4-4d33-a3af-85a997286659"
   },
   "outputs": [
    {
     "name": "stdout",
     "output_type": "stream",
     "text": [
      "Mean Squared Error for parameter - 0: 155427075.79255384\n",
      "Mean Absolute Error for parameter - 0: 3213.723166991915\n",
      "\n",
      "\n",
      "Mean Squared Error for parameter - 1: 2034161.994916539\n",
      "Mean Absolute Error for parameter - 1: 407.59093601895734\n",
      "\n",
      "\n",
      "Mean Squared Error for parameter - 2: 110771795.85685723\n",
      "Mean Absolute Error for parameter - 2: 1225.407617786451\n",
      "\n",
      "\n",
      "Mean Squared Error for parameter - 3: 955020.6008546487\n",
      "Mean Absolute Error for parameter - 3: 103.14678003902984\n",
      "\n",
      "\n",
      "Mean Squared Error for parameter - 4: 177643.06560147754\n",
      "Mean Absolute Error for parameter - 4: 50.589489824365764\n",
      "\n",
      "\n",
      "Mean Squared Error for parameter - 5: 261887.60554171313\n",
      "Mean Absolute Error for parameter - 5: 51.392737663785894\n",
      "\n",
      "\n",
      "Mean Squared Error for parameter - 6: 1194716.8559381098\n",
      "Mean Absolute Error for parameter - 6: 109.17047672149428\n",
      "\n",
      "\n",
      "Mean Squared Error for parameter - 7: 19.748222748815166\n",
      "Mean Absolute Error for parameter - 7: 0.10360328965709506\n",
      "\n",
      "\n",
      "Mean Squared Error for parameter - 8: 245445.88145560358\n",
      "Mean Absolute Error for parameter - 8: 62.593967800390296\n",
      "\n",
      "\n"
     ]
    }
   ],
   "source": [
    "decision_tree_scores = []\n",
    "\n",
    "for i in range(9):\n",
    "    mse = mean_squared_error(y_true=y_val[:,i],y_pred=pred[:,i])\n",
    "    mae = mean_absolute_error(y_pred=pred[:,i],y_true=y_val[:,i])\n",
    "    print(f'Mean Squared Error for parameter - {i}: {mse}')\n",
    "    print(f'Mean Absolute Error for parameter - {i}: {mae}')\n",
    "    decision_tree_scores.append([mse,mae])\n",
    "    print('\\n')\n",
    "\n",
    "decision_tree_scores.append([mean_squared_error(y_true=y_val,y_pred=pred),mean_absolute_error(y_true=y_val,y_pred=pred)])\n"
   ]
  },
  {
   "cell_type": "code",
   "execution_count": 6,
   "metadata": {
    "id": "POuzrFvyHDfG"
   },
   "outputs": [],
   "source": [
    "#Scores for estimation\n",
    "df = pd.DataFrame(decision_tree_scores, columns=['D-Tree: MSE', 'D-Tree: MAE'])"
   ]
  },
  {
   "cell_type": "code",
   "execution_count": 7,
   "metadata": {
    "colab": {
     "base_uri": "https://localhost:8080/",
     "height": 332
    },
    "id": "FFTjjW48HDfH",
    "outputId": "7f1fbcc2-0707-482e-f9e2-67d766b57db1"
   },
   "outputs": [
    {
     "data": {
      "text/html": [
       "<div>\n",
       "<style scoped>\n",
       "    .dataframe tbody tr th:only-of-type {\n",
       "        vertical-align: middle;\n",
       "    }\n",
       "\n",
       "    .dataframe tbody tr th {\n",
       "        vertical-align: top;\n",
       "    }\n",
       "\n",
       "    .dataframe thead th {\n",
       "        text-align: right;\n",
       "    }\n",
       "</style>\n",
       "<table border=\"1\" class=\"dataframe\">\n",
       "  <thead>\n",
       "    <tr style=\"text-align: right;\">\n",
       "      <th></th>\n",
       "      <th>D-Tree: MSE</th>\n",
       "      <th>D-Tree: MAE</th>\n",
       "    </tr>\n",
       "  </thead>\n",
       "  <tbody>\n",
       "    <tr>\n",
       "      <th>0</th>\n",
       "      <td>1.554271e+08</td>\n",
       "      <td>3213.723167</td>\n",
       "    </tr>\n",
       "    <tr>\n",
       "      <th>1</th>\n",
       "      <td>2.034162e+06</td>\n",
       "      <td>407.590936</td>\n",
       "    </tr>\n",
       "    <tr>\n",
       "      <th>2</th>\n",
       "      <td>1.107718e+08</td>\n",
       "      <td>1225.407618</td>\n",
       "    </tr>\n",
       "    <tr>\n",
       "      <th>3</th>\n",
       "      <td>9.550206e+05</td>\n",
       "      <td>103.146780</td>\n",
       "    </tr>\n",
       "    <tr>\n",
       "      <th>4</th>\n",
       "      <td>1.776431e+05</td>\n",
       "      <td>50.589490</td>\n",
       "    </tr>\n",
       "    <tr>\n",
       "      <th>5</th>\n",
       "      <td>2.618876e+05</td>\n",
       "      <td>51.392738</td>\n",
       "    </tr>\n",
       "    <tr>\n",
       "      <th>6</th>\n",
       "      <td>1.194717e+06</td>\n",
       "      <td>109.170477</td>\n",
       "    </tr>\n",
       "    <tr>\n",
       "      <th>7</th>\n",
       "      <td>1.974822e+01</td>\n",
       "      <td>0.103603</td>\n",
       "    </tr>\n",
       "    <tr>\n",
       "      <th>8</th>\n",
       "      <td>2.454459e+05</td>\n",
       "      <td>62.593968</td>\n",
       "    </tr>\n",
       "    <tr>\n",
       "      <th>9</th>\n",
       "      <td>3.011864e+07</td>\n",
       "      <td>580.413197</td>\n",
       "    </tr>\n",
       "  </tbody>\n",
       "</table>\n",
       "</div>"
      ],
      "text/plain": [
       "    D-Tree: MSE  D-Tree: MAE\n",
       "0  1.554271e+08  3213.723167\n",
       "1  2.034162e+06   407.590936\n",
       "2  1.107718e+08  1225.407618\n",
       "3  9.550206e+05   103.146780\n",
       "4  1.776431e+05    50.589490\n",
       "5  2.618876e+05    51.392738\n",
       "6  1.194717e+06   109.170477\n",
       "7  1.974822e+01     0.103603\n",
       "8  2.454459e+05    62.593968\n",
       "9  3.011864e+07   580.413197"
      ]
     },
     "execution_count": 7,
     "metadata": {},
     "output_type": "execute_result"
    }
   ],
   "source": [
    "df"
   ]
  },
  {
   "cell_type": "markdown",
   "metadata": {
    "collapsed": false,
    "id": "IvFXNucoHDfH"
   },
   "source": [
    "## Linear Regression"
   ]
  },
  {
   "cell_type": "code",
   "execution_count": 8,
   "metadata": {
    "colab": {
     "base_uri": "https://localhost:8080/"
    },
    "id": "1KQWzwyTHDfH",
    "outputId": "17ecde5e-09fa-4538-f874-ee31f3932945"
   },
   "outputs": [
    {
     "data": {
      "text/plain": [
       "array([[ 1.89821431e+03,  3.77100781e+02,  5.18675763e+02, ...,\n",
       "         5.98889116e+01,  1.29839587e-02,  4.81661634e+01],\n",
       "       [ 5.63820589e+02,  1.32401367e+02,  2.07415830e+02, ...,\n",
       "        -1.88244357e+01, -4.03289076e-02, -5.29825708e+00],\n",
       "       [ 2.24379550e+02,  4.67564166e+01,  3.95421647e+01, ...,\n",
       "        -9.37006205e+00, -2.90435723e-02, -6.07405874e-01],\n",
       "       ...,\n",
       "       [ 1.15194958e+03,  1.52696231e+02,  2.80257042e+02, ...,\n",
       "         6.69989147e+01,  5.36724263e-02,  4.93259114e+01],\n",
       "       [ 1.60134605e+02,  2.42599005e+01, -4.21637426e+01, ...,\n",
       "        -1.11635254e+01, -3.51447711e-02, -2.00306544e+00],\n",
       "       [ 5.56812095e+02,  7.41114346e+01,  1.36785062e+02, ...,\n",
       "         2.71787130e+00,  7.68578926e-02,  3.79325132e+00]])"
      ]
     },
     "execution_count": 8,
     "metadata": {},
     "output_type": "execute_result"
    }
   ],
   "source": [
    "linear = LinearRegression()\n",
    "linear.fit(x_train,y_train)\n",
    "pred = linear.predict(x_val)\n",
    "pred"
   ]
  },
  {
   "cell_type": "code",
   "execution_count": 9,
   "metadata": {
    "colab": {
     "base_uri": "https://localhost:8080/"
    },
    "id": "Q8XzHRW1HDfI",
    "outputId": "eb36f8fd-ca60-4572-f1e1-61de923a8c5b"
   },
   "outputs": [
    {
     "name": "stdout",
     "output_type": "stream",
     "text": [
      "Mean Squared Error for parameter - 0: 53697273.6670696\n",
      "Mean Absolute Error for parameter - 0: 2527.2910190351754\n",
      "\n",
      "\n",
      "Mean Squared Error for parameter - 1: 526587.4806407465\n",
      "Mean Absolute Error for parameter - 1: 313.42099817978465\n",
      "\n",
      "\n",
      "Mean Squared Error for parameter - 2: 22787796.5495937\n",
      "Mean Absolute Error for parameter - 2: 964.1215841482918\n",
      "\n",
      "\n",
      "Mean Squared Error for parameter - 3: 377344.6044159607\n",
      "Mean Absolute Error for parameter - 3: 116.84565302541033\n",
      "\n",
      "\n",
      "Mean Squared Error for parameter - 4: 50373.31509349026\n",
      "Mean Absolute Error for parameter - 4: 53.140339968859315\n",
      "\n",
      "\n",
      "Mean Squared Error for parameter - 5: 142957.96963121952\n",
      "Mean Absolute Error for parameter - 5: 57.18502746623867\n",
      "\n",
      "\n",
      "Mean Squared Error for parameter - 6: 834264.8763750159\n",
      "Mean Absolute Error for parameter - 6: 120.44196797472078\n",
      "\n",
      "\n",
      "Mean Squared Error for parameter - 7: 16.48753696761974\n",
      "Mean Absolute Error for parameter - 7: 0.1444522770757158\n",
      "\n",
      "\n",
      "Mean Squared Error for parameter - 8: 165361.8997871118\n",
      "Mean Absolute Error for parameter - 8: 72.14107146165256\n",
      "\n",
      "\n"
     ]
    }
   ],
   "source": [
    "\n",
    "save_model(linear, 'linear_reg')\n",
    "\n",
    "linear_regression_scores = []\n",
    "\n",
    "for i in range(9):\n",
    "    mse = mean_squared_error(y_true=y_val[:,i],y_pred=pred[:,i])\n",
    "    mae = mean_absolute_error(y_pred=pred[:,i],y_true=y_val[:,i])\n",
    "    print(f'Mean Squared Error for parameter - {i}: {mse}')\n",
    "    print(f'Mean Absolute Error for parameter - {i}: {mae}')\n",
    "    linear_regression_scores.append([mse,mae])\n",
    "    print('\\n')\n",
    "\n",
    "linear_regression_scores.append([mean_squared_error(y_true=y_val,y_pred=pred),mean_absolute_error(y_true=y_val,y_pred=pred)])\n",
    "df = pd.concat([df,pd.DataFrame(linear_regression_scores, columns=['Linear: MSE', 'Linear: MAE'])],\n",
    "          axis=1)"
   ]
  },
  {
   "cell_type": "markdown",
   "metadata": {
    "collapsed": false,
    "id": "7jGhJHNvHDfL"
   },
   "source": [
    "## Perceptron Model"
   ]
  },
  {
   "cell_type": "code",
   "execution_count": 10,
   "metadata": {
    "id": "1PuDumaXHDfL"
   },
   "outputs": [],
   "source": [
    "import tensorflow as tf\n",
    "from tensorflow import keras\n",
    "from keras.models import Sequential\n",
    "from keras.layers import Dense,Dropout"
   ]
  },
  {
   "cell_type": "code",
   "execution_count": 14,
   "metadata": {
    "id": "9mrdCVC0HDfL"
   },
   "outputs": [],
   "source": [
    "model = Sequential(\n",
    "    [\n",
    "        Dense(128, input_dim=28, activation='relu', kernel_initializer='normal'),\n",
    "        Dropout(0.2),\n",
    "        Dense(64, activation='relu', kernel_initializer='normal'),\n",
    "        Dropout(0.3),\n",
    "        Dense(32, activation='relu', kernel_initializer='normal'),\n",
    "        Dense(9, kernel_initializer='normal')\n",
    "    ]\n",
    ")\n",
    "\n",
    "model.compile(loss='mse', optimizer='adam', metrics=[ tf.keras.metrics.MeanSquaredError()])"
   ]
  },
  {
   "cell_type": "code",
   "execution_count": 12,
   "metadata": {
    "colab": {
     "base_uri": "https://localhost:8080/"
    },
    "id": "hSXIWDeCIi-P",
    "outputId": "ea985206-93a2-411c-e925-21a0318a39f1"
   },
   "outputs": [
    {
     "data": {
      "text/plain": [
       "(258255, 28)"
      ]
     },
     "execution_count": 12,
     "metadata": {},
     "output_type": "execute_result"
    }
   ],
   "source": [
    "x_train.shape"
   ]
  },
  {
   "cell_type": "code",
   "execution_count": 13,
   "metadata": {
    "colab": {
     "base_uri": "https://localhost:8080/"
    },
    "id": "YZhxbKRnHDfL",
    "outputId": "aa172080-56ce-4570-8fd3-31649343ed60"
   },
   "outputs": [
    {
     "name": "stdout",
     "output_type": "stream",
     "text": [
      "Epoch 1/100\n",
      "4036/4036 [==============================] - 8s 2ms/step - loss: 26202250.0000 - mean_squared_error: 26202250.0000\n",
      "Epoch 2/100\n",
      "4036/4036 [==============================] - 7s 2ms/step - loss: 26076114.0000 - mean_squared_error: 26076114.0000\n",
      "Epoch 3/100\n",
      "4036/4036 [==============================] - 7s 2ms/step - loss: 26060752.0000 - mean_squared_error: 26060752.0000\n",
      "Epoch 4/100\n",
      "4036/4036 [==============================] - 7s 2ms/step - loss: 26065988.0000 - mean_squared_error: 26065988.0000\n",
      "Epoch 5/100\n",
      "1164/4036 [=======>......................] - ETA: 4s - loss: 20701380.0000 - mean_squared_error: 20701380.0000"
     ]
    },
    {
     "ename": "KeyboardInterrupt",
     "evalue": "",
     "output_type": "error",
     "traceback": [
      "\u001b[1;31m---------------------------------------------------------------------------\u001b[0m",
      "\u001b[1;31mKeyboardInterrupt\u001b[0m                         Traceback (most recent call last)",
      "Cell \u001b[1;32mIn [13], line 1\u001b[0m\n\u001b[1;32m----> 1\u001b[0m model\u001b[39m.\u001b[39;49mfit(x_train,y_train, epochs\u001b[39m=\u001b[39;49m\u001b[39m100\u001b[39;49m, batch_size\u001b[39m=\u001b[39;49m\u001b[39m64\u001b[39;49m)\n",
      "File \u001b[1;32mc:\\Users\\akhil\\miniconda3\\envs\\btp\\lib\\site-packages\\keras\\utils\\traceback_utils.py:65\u001b[0m, in \u001b[0;36mfilter_traceback.<locals>.error_handler\u001b[1;34m(*args, **kwargs)\u001b[0m\n\u001b[0;32m     63\u001b[0m filtered_tb \u001b[39m=\u001b[39m \u001b[39mNone\u001b[39;00m\n\u001b[0;32m     64\u001b[0m \u001b[39mtry\u001b[39;00m:\n\u001b[1;32m---> 65\u001b[0m     \u001b[39mreturn\u001b[39;00m fn(\u001b[39m*\u001b[39margs, \u001b[39m*\u001b[39m\u001b[39m*\u001b[39mkwargs)\n\u001b[0;32m     66\u001b[0m \u001b[39mexcept\u001b[39;00m \u001b[39mException\u001b[39;00m \u001b[39mas\u001b[39;00m e:\n\u001b[0;32m     67\u001b[0m     filtered_tb \u001b[39m=\u001b[39m _process_traceback_frames(e\u001b[39m.\u001b[39m__traceback__)\n",
      "File \u001b[1;32mc:\\Users\\akhil\\miniconda3\\envs\\btp\\lib\\site-packages\\keras\\engine\\training.py:1650\u001b[0m, in \u001b[0;36mModel.fit\u001b[1;34m(self, x, y, batch_size, epochs, verbose, callbacks, validation_split, validation_data, shuffle, class_weight, sample_weight, initial_epoch, steps_per_epoch, validation_steps, validation_batch_size, validation_freq, max_queue_size, workers, use_multiprocessing)\u001b[0m\n\u001b[0;32m   1642\u001b[0m \u001b[39mwith\u001b[39;00m tf\u001b[39m.\u001b[39mprofiler\u001b[39m.\u001b[39mexperimental\u001b[39m.\u001b[39mTrace(\n\u001b[0;32m   1643\u001b[0m     \u001b[39m\"\u001b[39m\u001b[39mtrain\u001b[39m\u001b[39m\"\u001b[39m,\n\u001b[0;32m   1644\u001b[0m     epoch_num\u001b[39m=\u001b[39mepoch,\n\u001b[1;32m   (...)\u001b[0m\n\u001b[0;32m   1647\u001b[0m     _r\u001b[39m=\u001b[39m\u001b[39m1\u001b[39m,\n\u001b[0;32m   1648\u001b[0m ):\n\u001b[0;32m   1649\u001b[0m     callbacks\u001b[39m.\u001b[39mon_train_batch_begin(step)\n\u001b[1;32m-> 1650\u001b[0m     tmp_logs \u001b[39m=\u001b[39m \u001b[39mself\u001b[39;49m\u001b[39m.\u001b[39;49mtrain_function(iterator)\n\u001b[0;32m   1651\u001b[0m     \u001b[39mif\u001b[39;00m data_handler\u001b[39m.\u001b[39mshould_sync:\n\u001b[0;32m   1652\u001b[0m         context\u001b[39m.\u001b[39masync_wait()\n",
      "File \u001b[1;32mc:\\Users\\akhil\\miniconda3\\envs\\btp\\lib\\site-packages\\tensorflow\\python\\util\\traceback_utils.py:150\u001b[0m, in \u001b[0;36mfilter_traceback.<locals>.error_handler\u001b[1;34m(*args, **kwargs)\u001b[0m\n\u001b[0;32m    148\u001b[0m filtered_tb \u001b[39m=\u001b[39m \u001b[39mNone\u001b[39;00m\n\u001b[0;32m    149\u001b[0m \u001b[39mtry\u001b[39;00m:\n\u001b[1;32m--> 150\u001b[0m   \u001b[39mreturn\u001b[39;00m fn(\u001b[39m*\u001b[39margs, \u001b[39m*\u001b[39m\u001b[39m*\u001b[39mkwargs)\n\u001b[0;32m    151\u001b[0m \u001b[39mexcept\u001b[39;00m \u001b[39mException\u001b[39;00m \u001b[39mas\u001b[39;00m e:\n\u001b[0;32m    152\u001b[0m   filtered_tb \u001b[39m=\u001b[39m _process_traceback_frames(e\u001b[39m.\u001b[39m__traceback__)\n",
      "File \u001b[1;32mc:\\Users\\akhil\\miniconda3\\envs\\btp\\lib\\site-packages\\tensorflow\\python\\eager\\polymorphic_function\\polymorphic_function.py:880\u001b[0m, in \u001b[0;36mFunction.__call__\u001b[1;34m(self, *args, **kwds)\u001b[0m\n\u001b[0;32m    877\u001b[0m compiler \u001b[39m=\u001b[39m \u001b[39m\"\u001b[39m\u001b[39mxla\u001b[39m\u001b[39m\"\u001b[39m \u001b[39mif\u001b[39;00m \u001b[39mself\u001b[39m\u001b[39m.\u001b[39m_jit_compile \u001b[39melse\u001b[39;00m \u001b[39m\"\u001b[39m\u001b[39mnonXla\u001b[39m\u001b[39m\"\u001b[39m\n\u001b[0;32m    879\u001b[0m \u001b[39mwith\u001b[39;00m OptionalXlaContext(\u001b[39mself\u001b[39m\u001b[39m.\u001b[39m_jit_compile):\n\u001b[1;32m--> 880\u001b[0m   result \u001b[39m=\u001b[39m \u001b[39mself\u001b[39m\u001b[39m.\u001b[39m_call(\u001b[39m*\u001b[39margs, \u001b[39m*\u001b[39m\u001b[39m*\u001b[39mkwds)\n\u001b[0;32m    882\u001b[0m new_tracing_count \u001b[39m=\u001b[39m \u001b[39mself\u001b[39m\u001b[39m.\u001b[39mexperimental_get_tracing_count()\n\u001b[0;32m    883\u001b[0m without_tracing \u001b[39m=\u001b[39m (tracing_count \u001b[39m==\u001b[39m new_tracing_count)\n",
      "File \u001b[1;32mc:\\Users\\akhil\\miniconda3\\envs\\btp\\lib\\site-packages\\tensorflow\\python\\eager\\polymorphic_function\\polymorphic_function.py:912\u001b[0m, in \u001b[0;36mFunction._call\u001b[1;34m(self, *args, **kwds)\u001b[0m\n\u001b[0;32m    909\u001b[0m   \u001b[39mself\u001b[39m\u001b[39m.\u001b[39m_lock\u001b[39m.\u001b[39mrelease()\n\u001b[0;32m    910\u001b[0m   \u001b[39m# In this case we have created variables on the first call, so we run the\u001b[39;00m\n\u001b[0;32m    911\u001b[0m   \u001b[39m# defunned version which is guaranteed to never create variables.\u001b[39;00m\n\u001b[1;32m--> 912\u001b[0m   \u001b[39mreturn\u001b[39;00m \u001b[39mself\u001b[39m\u001b[39m.\u001b[39m_no_variable_creation_fn(\u001b[39m*\u001b[39margs, \u001b[39m*\u001b[39m\u001b[39m*\u001b[39mkwds)  \u001b[39m# pylint: disable=not-callable\u001b[39;00m\n\u001b[0;32m    913\u001b[0m \u001b[39melif\u001b[39;00m \u001b[39mself\u001b[39m\u001b[39m.\u001b[39m_variable_creation_fn \u001b[39mis\u001b[39;00m \u001b[39mnot\u001b[39;00m \u001b[39mNone\u001b[39;00m:\n\u001b[0;32m    914\u001b[0m   \u001b[39m# Release the lock early so that multiple threads can perform the call\u001b[39;00m\n\u001b[0;32m    915\u001b[0m   \u001b[39m# in parallel.\u001b[39;00m\n\u001b[0;32m    916\u001b[0m   \u001b[39mself\u001b[39m\u001b[39m.\u001b[39m_lock\u001b[39m.\u001b[39mrelease()\n",
      "File \u001b[1;32mc:\\Users\\akhil\\miniconda3\\envs\\btp\\lib\\site-packages\\tensorflow\\python\\eager\\polymorphic_function\\tracing_compiler.py:134\u001b[0m, in \u001b[0;36mTracingCompiler.__call__\u001b[1;34m(self, *args, **kwargs)\u001b[0m\n\u001b[0;32m    131\u001b[0m \u001b[39mwith\u001b[39;00m \u001b[39mself\u001b[39m\u001b[39m.\u001b[39m_lock:\n\u001b[0;32m    132\u001b[0m   (concrete_function,\n\u001b[0;32m    133\u001b[0m    filtered_flat_args) \u001b[39m=\u001b[39m \u001b[39mself\u001b[39m\u001b[39m.\u001b[39m_maybe_define_function(args, kwargs)\n\u001b[1;32m--> 134\u001b[0m \u001b[39mreturn\u001b[39;00m concrete_function\u001b[39m.\u001b[39;49m_call_flat(\n\u001b[0;32m    135\u001b[0m     filtered_flat_args, captured_inputs\u001b[39m=\u001b[39;49mconcrete_function\u001b[39m.\u001b[39;49mcaptured_inputs)\n",
      "File \u001b[1;32mc:\\Users\\akhil\\miniconda3\\envs\\btp\\lib\\site-packages\\tensorflow\\python\\eager\\polymorphic_function\\monomorphic_function.py:1745\u001b[0m, in \u001b[0;36mConcreteFunction._call_flat\u001b[1;34m(self, args, captured_inputs, cancellation_manager)\u001b[0m\n\u001b[0;32m   1741\u001b[0m possible_gradient_type \u001b[39m=\u001b[39m gradients_util\u001b[39m.\u001b[39mPossibleTapeGradientTypes(args)\n\u001b[0;32m   1742\u001b[0m \u001b[39mif\u001b[39;00m (possible_gradient_type \u001b[39m==\u001b[39m gradients_util\u001b[39m.\u001b[39mPOSSIBLE_GRADIENT_TYPES_NONE\n\u001b[0;32m   1743\u001b[0m     \u001b[39mand\u001b[39;00m executing_eagerly):\n\u001b[0;32m   1744\u001b[0m   \u001b[39m# No tape is watching; skip to running the function.\u001b[39;00m\n\u001b[1;32m-> 1745\u001b[0m   \u001b[39mreturn\u001b[39;00m \u001b[39mself\u001b[39m\u001b[39m.\u001b[39m_build_call_outputs(\u001b[39mself\u001b[39;49m\u001b[39m.\u001b[39;49m_inference_function\u001b[39m.\u001b[39;49mcall(\n\u001b[0;32m   1746\u001b[0m       ctx, args, cancellation_manager\u001b[39m=\u001b[39;49mcancellation_manager))\n\u001b[0;32m   1747\u001b[0m forward_backward \u001b[39m=\u001b[39m \u001b[39mself\u001b[39m\u001b[39m.\u001b[39m_select_forward_and_backward_functions(\n\u001b[0;32m   1748\u001b[0m     args,\n\u001b[0;32m   1749\u001b[0m     possible_gradient_type,\n\u001b[0;32m   1750\u001b[0m     executing_eagerly)\n\u001b[0;32m   1751\u001b[0m forward_function, args_with_tangents \u001b[39m=\u001b[39m forward_backward\u001b[39m.\u001b[39mforward()\n",
      "File \u001b[1;32mc:\\Users\\akhil\\miniconda3\\envs\\btp\\lib\\site-packages\\tensorflow\\python\\eager\\polymorphic_function\\monomorphic_function.py:378\u001b[0m, in \u001b[0;36m_EagerDefinedFunction.call\u001b[1;34m(self, ctx, args, cancellation_manager)\u001b[0m\n\u001b[0;32m    376\u001b[0m \u001b[39mwith\u001b[39;00m _InterpolateFunctionError(\u001b[39mself\u001b[39m):\n\u001b[0;32m    377\u001b[0m   \u001b[39mif\u001b[39;00m cancellation_manager \u001b[39mis\u001b[39;00m \u001b[39mNone\u001b[39;00m:\n\u001b[1;32m--> 378\u001b[0m     outputs \u001b[39m=\u001b[39m execute\u001b[39m.\u001b[39;49mexecute(\n\u001b[0;32m    379\u001b[0m         \u001b[39mstr\u001b[39;49m(\u001b[39mself\u001b[39;49m\u001b[39m.\u001b[39;49msignature\u001b[39m.\u001b[39;49mname),\n\u001b[0;32m    380\u001b[0m         num_outputs\u001b[39m=\u001b[39;49m\u001b[39mself\u001b[39;49m\u001b[39m.\u001b[39;49m_num_outputs,\n\u001b[0;32m    381\u001b[0m         inputs\u001b[39m=\u001b[39;49margs,\n\u001b[0;32m    382\u001b[0m         attrs\u001b[39m=\u001b[39;49mattrs,\n\u001b[0;32m    383\u001b[0m         ctx\u001b[39m=\u001b[39;49mctx)\n\u001b[0;32m    384\u001b[0m   \u001b[39melse\u001b[39;00m:\n\u001b[0;32m    385\u001b[0m     outputs \u001b[39m=\u001b[39m execute\u001b[39m.\u001b[39mexecute_with_cancellation(\n\u001b[0;32m    386\u001b[0m         \u001b[39mstr\u001b[39m(\u001b[39mself\u001b[39m\u001b[39m.\u001b[39msignature\u001b[39m.\u001b[39mname),\n\u001b[0;32m    387\u001b[0m         num_outputs\u001b[39m=\u001b[39m\u001b[39mself\u001b[39m\u001b[39m.\u001b[39m_num_outputs,\n\u001b[1;32m   (...)\u001b[0m\n\u001b[0;32m    390\u001b[0m         ctx\u001b[39m=\u001b[39mctx,\n\u001b[0;32m    391\u001b[0m         cancellation_manager\u001b[39m=\u001b[39mcancellation_manager)\n",
      "File \u001b[1;32mc:\\Users\\akhil\\miniconda3\\envs\\btp\\lib\\site-packages\\tensorflow\\python\\eager\\execute.py:52\u001b[0m, in \u001b[0;36mquick_execute\u001b[1;34m(op_name, num_outputs, inputs, attrs, ctx, name)\u001b[0m\n\u001b[0;32m     50\u001b[0m \u001b[39mtry\u001b[39;00m:\n\u001b[0;32m     51\u001b[0m   ctx\u001b[39m.\u001b[39mensure_initialized()\n\u001b[1;32m---> 52\u001b[0m   tensors \u001b[39m=\u001b[39m pywrap_tfe\u001b[39m.\u001b[39;49mTFE_Py_Execute(ctx\u001b[39m.\u001b[39;49m_handle, device_name, op_name,\n\u001b[0;32m     53\u001b[0m                                       inputs, attrs, num_outputs)\n\u001b[0;32m     54\u001b[0m \u001b[39mexcept\u001b[39;00m core\u001b[39m.\u001b[39m_NotOkStatusException \u001b[39mas\u001b[39;00m e:\n\u001b[0;32m     55\u001b[0m   \u001b[39mif\u001b[39;00m name \u001b[39mis\u001b[39;00m \u001b[39mnot\u001b[39;00m \u001b[39mNone\u001b[39;00m:\n",
      "\u001b[1;31mKeyboardInterrupt\u001b[0m: "
     ]
    }
   ],
   "source": [
    "model.fit(x_train,y_train, epochs=100, batch_size=64)"
   ]
  },
  {
   "cell_type": "code",
   "execution_count": null,
   "metadata": {
    "colab": {
     "base_uri": "https://localhost:8080/"
    },
    "id": "sMAxy-P6I0O3",
    "outputId": "8d72dc5c-a83f-4e72-f939-072e4e8c9b0d"
   },
   "outputs": [
    {
     "name": "stdout",
     "output_type": "stream",
     "text": [
      "897/897 [==============================] - 1s 862us/step\n"
     ]
    },
    {
     "data": {
      "text/plain": [
       "8551660.8224382"
      ]
     },
     "execution_count": 27,
     "metadata": {},
     "output_type": "execute_result"
    }
   ],
   "source": [
    "pred = model.predict(x_val)\n",
    "save_model(model.get_weights(), 'mlp')\n",
    "mean_squared_error(y_val,pred)"
   ]
  },
  {
   "cell_type": "code",
   "execution_count": null,
   "metadata": {
    "colab": {
     "base_uri": "https://localhost:8080/"
    },
    "id": "xScCl_7QJetl",
    "outputId": "656a8b4a-4c30-44c0-de00-ca2bbec81d80"
   },
   "outputs": [
    {
     "name": "stdout",
     "output_type": "stream",
     "text": [
      "Mean Squared Error for parameter - 0: 52234964.5916712\n",
      "Mean Absolute Error for parameter - 0: 2317.5895466353854\n",
      "\n",
      "\n",
      "Mean Squared Error for parameter - 1: 530076.9305467502\n",
      "Mean Absolute Error for parameter - 1: 322.34879506289013\n",
      "\n",
      "\n",
      "Mean Squared Error for parameter - 2: 22648936.779867854\n",
      "Mean Absolute Error for parameter - 2: 902.1285160480518\n",
      "\n",
      "\n",
      "Mean Squared Error for parameter - 3: 368524.59328898333\n",
      "Mean Absolute Error for parameter - 3: 98.04973729545105\n",
      "\n",
      "\n",
      "Mean Squared Error for parameter - 4: 48801.08206270511\n",
      "Mean Absolute Error for parameter - 4: 43.85214703556868\n",
      "\n",
      "\n",
      "Mean Squared Error for parameter - 5: 142112.8598613282\n",
      "Mean Absolute Error for parameter - 5: 54.58217834495372\n",
      "\n",
      "\n",
      "Mean Squared Error for parameter - 6: 827438.1763346178\n",
      "Mean Absolute Error for parameter - 6: 99.63161903033192\n",
      "\n",
      "\n",
      "Mean Squared Error for parameter - 7: 23.759674158001495\n",
      "Mean Absolute Error for parameter - 7: 1.7878587650550937\n",
      "\n",
      "\n",
      "Mean Squared Error for parameter - 8: 164068.6286368086\n",
      "Mean Absolute Error for parameter - 8: 62.609393536562635\n",
      "\n",
      "\n"
     ]
    }
   ],
   "source": [
    "perceptron_scores = []\n",
    "\n",
    "for i in range(9):\n",
    "    mse = mean_squared_error(y_true=y_val[:,i],y_pred=pred[:,i])\n",
    "    mae = mean_absolute_error(y_pred=pred[:,i],y_true=y_val[:,i])\n",
    "    print(f'Mean Squared Error for parameter - {i}: {mse}')\n",
    "    print(f'Mean Absolute Error for parameter - {i}: {mae}')\n",
    "    perceptron_scores.append([mse,mae])\n",
    "    print('\\n')\n",
    "\n",
    "perceptron_scores.append([mean_squared_error(y_true=y_val,y_pred=pred),mean_absolute_error(y_true=y_val,y_pred=pred)])\n",
    "df = pd.concat([df,pd.DataFrame(perceptron_scores, columns=['Perceptron: MSE', 'Perceptron: MAE'])],\n",
    "          axis=1)"
   ]
  },
  {
   "cell_type": "markdown",
   "metadata": {},
   "source": [
    "## Poisson Regressor"
   ]
  },
  {
   "cell_type": "code",
   "execution_count": null,
   "metadata": {},
   "outputs": [],
   "source": [
    "from sklearn.linear_model import PoissonRegressor\n",
    "model_poisson = MultiOutputRegressor(PoissonRegressor(max_iter=750))\n",
    "model_poisson.fit(x_train,y_train)\n",
    "pred = model_poisson.predict(x_val)\n",
    "\n",
    "save_model(model_poisson, 'poisson')"
   ]
  },
  {
   "cell_type": "code",
   "execution_count": null,
   "metadata": {},
   "outputs": [
    {
     "name": "stdout",
     "output_type": "stream",
     "text": [
      "Mean Squared Error for parameter - 0: 53539484.079763964\n",
      "Mean Absolute Error for parameter - 0: 2476.3155666088255\n",
      "\n",
      "\n",
      "Mean Squared Error for parameter - 1: 525430.7909710949\n",
      "Mean Absolute Error for parameter - 1: 309.69550002198275\n",
      "\n",
      "\n",
      "Mean Squared Error for parameter - 2: 22763826.167400718\n",
      "Mean Absolute Error for parameter - 2: 951.3843142407246\n",
      "\n",
      "\n",
      "Mean Squared Error for parameter - 3: 369868.061903982\n",
      "Mean Absolute Error for parameter - 3: 92.60498207098482\n",
      "\n",
      "\n",
      "Mean Squared Error for parameter - 4: 49444.73869530452\n",
      "Mean Absolute Error for parameter - 4: 43.75426268666298\n",
      "\n",
      "\n",
      "Mean Squared Error for parameter - 5: 142139.37166297334\n",
      "Mean Absolute Error for parameter - 5: 47.15254501310381\n",
      "\n",
      "\n",
      "Mean Squared Error for parameter - 6: 830292.865747621\n",
      "Mean Absolute Error for parameter - 6: 100.63708311233765\n",
      "\n",
      "\n",
      "Mean Squared Error for parameter - 7: 16.49299391264631\n",
      "Mean Absolute Error for parameter - 7: 0.12315077717015262\n",
      "\n",
      "\n",
      "Mean Squared Error for parameter - 8: 164225.3613842202\n",
      "Mean Absolute Error for parameter - 8: 60.369414096845986\n",
      "\n",
      "\n"
     ]
    }
   ],
   "source": [
    "poisson_scores = []\n",
    "\n",
    "for i in range(9):\n",
    "    mse = mean_squared_error(y_true=y_val[:,i],y_pred=pred[:,i])\n",
    "    mae = mean_absolute_error(y_pred=pred[:,i],y_true=y_val[:,i])\n",
    "    print(f'Mean Squared Error for parameter - {i}: {mse}')\n",
    "    print(f'Mean Absolute Error for parameter - {i}: {mae}')\n",
    "    poisson_scores.append([mse,mae])\n",
    "    print('\\n')\n",
    "\n",
    "poisson_scores.append([mean_squared_error(y_true=y_val,y_pred=pred),mean_absolute_error(y_true=y_val,y_pred=pred)])\n",
    "df = pd.concat([df,pd.DataFrame(poisson_scores, columns=['Poisson: MSE', 'Poisson: MAE'])],\n",
    "          axis=1)"
   ]
  },
  {
   "cell_type": "markdown",
   "metadata": {
    "collapsed": false
   },
   "source": [
    "# Observing the results"
   ]
  },
  {
   "cell_type": "code",
   "execution_count": null,
   "metadata": {
    "id": "4is2lXCmHDfJ"
   },
   "outputs": [],
   "source": [
    "mae_cols = [col for col in df.columns if 'MAE' in col]\n",
    "mse_cols = [col for col in df.columns if 'MSE' in col]"
   ]
  },
  {
   "cell_type": "code",
   "execution_count": null,
   "metadata": {
    "colab": {
     "base_uri": "https://localhost:8080/",
     "height": 332
    },
    "id": "kQ1cQ5wWKnTM",
    "outputId": "aba5c8ef-d784-4d0d-9f3a-c75dffc60755"
   },
   "outputs": [
    {
     "data": {
      "text/html": [
       "<div>\n",
       "<style scoped>\n",
       "    .dataframe tbody tr th:only-of-type {\n",
       "        vertical-align: middle;\n",
       "    }\n",
       "\n",
       "    .dataframe tbody tr th {\n",
       "        vertical-align: top;\n",
       "    }\n",
       "\n",
       "    .dataframe thead th {\n",
       "        text-align: right;\n",
       "    }\n",
       "</style>\n",
       "<table border=\"1\" class=\"dataframe\">\n",
       "  <thead>\n",
       "    <tr style=\"text-align: right;\">\n",
       "      <th></th>\n",
       "      <th>D-Tree: MSE</th>\n",
       "      <th>Linear: MSE</th>\n",
       "      <th>Perceptron: MSE</th>\n",
       "      <th>Poisson: MSE</th>\n",
       "    </tr>\n",
       "  </thead>\n",
       "  <tbody>\n",
       "    <tr>\n",
       "      <th>0</th>\n",
       "      <td>1.532330e+08</td>\n",
       "      <td>5.369727e+07</td>\n",
       "      <td>5.223496e+07</td>\n",
       "      <td>5.353948e+07</td>\n",
       "    </tr>\n",
       "    <tr>\n",
       "      <th>1</th>\n",
       "      <td>1.963522e+06</td>\n",
       "      <td>5.265875e+05</td>\n",
       "      <td>5.300769e+05</td>\n",
       "      <td>5.254308e+05</td>\n",
       "    </tr>\n",
       "    <tr>\n",
       "      <th>2</th>\n",
       "      <td>1.078526e+08</td>\n",
       "      <td>2.278780e+07</td>\n",
       "      <td>2.264894e+07</td>\n",
       "      <td>2.276383e+07</td>\n",
       "    </tr>\n",
       "    <tr>\n",
       "      <th>3</th>\n",
       "      <td>9.505056e+05</td>\n",
       "      <td>3.773446e+05</td>\n",
       "      <td>3.685246e+05</td>\n",
       "      <td>3.698681e+05</td>\n",
       "    </tr>\n",
       "    <tr>\n",
       "      <th>4</th>\n",
       "      <td>1.602737e+05</td>\n",
       "      <td>5.037332e+04</td>\n",
       "      <td>4.880108e+04</td>\n",
       "      <td>4.944474e+04</td>\n",
       "    </tr>\n",
       "    <tr>\n",
       "      <th>5</th>\n",
       "      <td>2.600434e+05</td>\n",
       "      <td>1.429580e+05</td>\n",
       "      <td>1.421129e+05</td>\n",
       "      <td>1.421394e+05</td>\n",
       "    </tr>\n",
       "    <tr>\n",
       "      <th>6</th>\n",
       "      <td>1.247015e+06</td>\n",
       "      <td>8.342649e+05</td>\n",
       "      <td>8.274382e+05</td>\n",
       "      <td>8.302929e+05</td>\n",
       "    </tr>\n",
       "    <tr>\n",
       "      <th>7</th>\n",
       "      <td>1.982959e+01</td>\n",
       "      <td>1.648754e+01</td>\n",
       "      <td>2.375967e+01</td>\n",
       "      <td>1.649299e+01</td>\n",
       "    </tr>\n",
       "    <tr>\n",
       "      <th>8</th>\n",
       "      <td>2.242667e+05</td>\n",
       "      <td>1.653619e+05</td>\n",
       "      <td>1.640686e+05</td>\n",
       "      <td>1.642254e+05</td>\n",
       "    </tr>\n",
       "    <tr>\n",
       "      <th>9</th>\n",
       "      <td>2.954347e+07</td>\n",
       "      <td>8.731331e+06</td>\n",
       "      <td>8.551661e+06</td>\n",
       "      <td>8.709414e+06</td>\n",
       "    </tr>\n",
       "  </tbody>\n",
       "</table>\n",
       "</div>"
      ],
      "text/plain": [
       "    D-Tree: MSE   Linear: MSE  Perceptron: MSE  Poisson: MSE\n",
       "0  1.532330e+08  5.369727e+07     5.223496e+07  5.353948e+07\n",
       "1  1.963522e+06  5.265875e+05     5.300769e+05  5.254308e+05\n",
       "2  1.078526e+08  2.278780e+07     2.264894e+07  2.276383e+07\n",
       "3  9.505056e+05  3.773446e+05     3.685246e+05  3.698681e+05\n",
       "4  1.602737e+05  5.037332e+04     4.880108e+04  4.944474e+04\n",
       "5  2.600434e+05  1.429580e+05     1.421129e+05  1.421394e+05\n",
       "6  1.247015e+06  8.342649e+05     8.274382e+05  8.302929e+05\n",
       "7  1.982959e+01  1.648754e+01     2.375967e+01  1.649299e+01\n",
       "8  2.242667e+05  1.653619e+05     1.640686e+05  1.642254e+05\n",
       "9  2.954347e+07  8.731331e+06     8.551661e+06  8.709414e+06"
      ]
     },
     "execution_count": 32,
     "metadata": {},
     "output_type": "execute_result"
    }
   ],
   "source": [
    "df[mse_cols]"
   ]
  },
  {
   "cell_type": "code",
   "execution_count": null,
   "metadata": {},
   "outputs": [
    {
     "data": {
      "text/plain": [
       "['likes_count',\n",
       " 'comments_count',\n",
       " 'shares_count',\n",
       " 'love_count',\n",
       " 'wow_count',\n",
       " 'haha_count',\n",
       " 'sad_count',\n",
       " 'thankful_count',\n",
       " 'angry_count']"
      ]
     },
     "execution_count": 33,
     "metadata": {},
     "output_type": "execute_result"
    }
   ],
   "source": [
    "titles"
   ]
  },
  {
   "cell_type": "code",
   "execution_count": null,
   "metadata": {},
   "outputs": [],
   "source": [
    "titles.extend([\"Overall\"])"
   ]
  },
  {
   "cell_type": "code",
   "execution_count": null,
   "metadata": {
    "colab": {
     "base_uri": "https://localhost:8080/",
     "height": 542
    },
    "id": "s7AgTEQFHDfK",
    "outputId": "0302e427-17ff-4955-b0ef-9b539d5b0f3b"
   },
   "outputs": [
    {
     "data": {
      "application/vnd.plotly.v1+json": {
       "config": {
        "plotlyServerURL": "https://plot.ly"
       },
       "data": [
        {
         "mode": "lines+markers",
         "name": "likes_count",
         "type": "scatter",
         "x": [
          "D-Tree: MAE",
          "Linear: MAE",
          "Perceptron: MAE",
          "Poisson: MAE"
         ],
         "y": [
          3200.957633468079,
          2527.2910190351754,
          2317.5895466353854,
          2476.3155666088255
         ]
        },
        {
         "mode": "lines+markers",
         "name": "comments_count",
         "type": "scatter",
         "x": [
          "D-Tree: MAE",
          "Linear: MAE",
          "Perceptron: MAE",
          "Poisson: MAE"
         ],
         "y": [
          403.8072118065236,
          313.42099817978465,
          322.34879506289013,
          309.69550002198275
         ]
        },
        {
         "mode": "lines+markers",
         "name": "shares_count",
         "type": "scatter",
         "x": [
          "D-Tree: MAE",
          "Linear: MAE",
          "Perceptron: MAE",
          "Poisson: MAE"
         ],
         "y": [
          1212.3882596877613,
          964.1215841482918,
          902.1285160480518,
          951.3843142407246
         ]
        },
        {
         "mode": "lines+markers",
         "name": "love_count",
         "type": "scatter",
         "x": [
          "D-Tree: MAE",
          "Linear: MAE",
          "Perceptron: MAE",
          "Poisson: MAE"
         ],
         "y": [
          101.88946194591581,
          116.84565302541033,
          98.04973729545105,
          92.60498207098482
         ]
        },
        {
         "mode": "lines+markers",
         "name": "wow_count",
         "type": "scatter",
         "x": [
          "D-Tree: MAE",
          "Linear: MAE",
          "Perceptron: MAE",
          "Poisson: MAE"
         ],
         "y": [
          49.539204070253696,
          53.140339968859315,
          43.85214703556868,
          43.75426268666298
         ]
        },
        {
         "mode": "lines+markers",
         "name": "haha_count",
         "type": "scatter",
         "x": [
          "D-Tree: MAE",
          "Linear: MAE",
          "Perceptron: MAE",
          "Poisson: MAE"
         ],
         "y": [
          50.909743518260385,
          57.18502746623867,
          54.58217834495372,
          47.15254501310381
         ]
        },
        {
         "mode": "lines+markers",
         "name": "sad_count",
         "type": "scatter",
         "x": [
          "D-Tree: MAE",
          "Linear: MAE",
          "Perceptron: MAE",
          "Poisson: MAE"
         ],
         "y": [
          109.59900334541399,
          120.44196797472078,
          99.63161903033192,
          100.63708311233765
         ]
        },
        {
         "mode": "lines+markers",
         "name": "thankful_count",
         "type": "scatter",
         "x": [
          "D-Tree: MAE",
          "Linear: MAE",
          "Perceptron: MAE",
          "Poisson: MAE"
         ],
         "y": [
          0.1044047950933928,
          0.1444522770757158,
          1.7878587650550937,
          0.12315077717015262
         ]
        },
        {
         "mode": "lines+markers",
         "name": "angry_count",
         "type": "scatter",
         "x": [
          "D-Tree: MAE",
          "Linear: MAE",
          "Perceptron: MAE",
          "Poisson: MAE"
         ],
         "y": [
          62.436332589908,
          72.14107146165256,
          62.609393536562635,
          60.369414096845986
         ]
        },
        {
         "mode": "lines+markers",
         "name": "Overall",
         "type": "scatter",
         "x": [
          "D-Tree: MAE",
          "Linear: MAE",
          "Perceptron: MAE",
          "Poisson: MAE"
         ],
         "y": [
          576.8479172474676,
          469.4146792819121,
          433.6199768615833,
          453.55964651429383
         ]
        }
       ],
       "layout": {
        "template": {
         "data": {
          "bar": [
           {
            "error_x": {
             "color": "#2a3f5f"
            },
            "error_y": {
             "color": "#2a3f5f"
            },
            "marker": {
             "line": {
              "color": "#E5ECF6",
              "width": 0.5
             },
             "pattern": {
              "fillmode": "overlay",
              "size": 10,
              "solidity": 0.2
             }
            },
            "type": "bar"
           }
          ],
          "barpolar": [
           {
            "marker": {
             "line": {
              "color": "#E5ECF6",
              "width": 0.5
             },
             "pattern": {
              "fillmode": "overlay",
              "size": 10,
              "solidity": 0.2
             }
            },
            "type": "barpolar"
           }
          ],
          "carpet": [
           {
            "aaxis": {
             "endlinecolor": "#2a3f5f",
             "gridcolor": "white",
             "linecolor": "white",
             "minorgridcolor": "white",
             "startlinecolor": "#2a3f5f"
            },
            "baxis": {
             "endlinecolor": "#2a3f5f",
             "gridcolor": "white",
             "linecolor": "white",
             "minorgridcolor": "white",
             "startlinecolor": "#2a3f5f"
            },
            "type": "carpet"
           }
          ],
          "choropleth": [
           {
            "colorbar": {
             "outlinewidth": 0,
             "ticks": ""
            },
            "type": "choropleth"
           }
          ],
          "contour": [
           {
            "colorbar": {
             "outlinewidth": 0,
             "ticks": ""
            },
            "colorscale": [
             [
              0,
              "#0d0887"
             ],
             [
              0.1111111111111111,
              "#46039f"
             ],
             [
              0.2222222222222222,
              "#7201a8"
             ],
             [
              0.3333333333333333,
              "#9c179e"
             ],
             [
              0.4444444444444444,
              "#bd3786"
             ],
             [
              0.5555555555555556,
              "#d8576b"
             ],
             [
              0.6666666666666666,
              "#ed7953"
             ],
             [
              0.7777777777777778,
              "#fb9f3a"
             ],
             [
              0.8888888888888888,
              "#fdca26"
             ],
             [
              1,
              "#f0f921"
             ]
            ],
            "type": "contour"
           }
          ],
          "contourcarpet": [
           {
            "colorbar": {
             "outlinewidth": 0,
             "ticks": ""
            },
            "type": "contourcarpet"
           }
          ],
          "heatmap": [
           {
            "colorbar": {
             "outlinewidth": 0,
             "ticks": ""
            },
            "colorscale": [
             [
              0,
              "#0d0887"
             ],
             [
              0.1111111111111111,
              "#46039f"
             ],
             [
              0.2222222222222222,
              "#7201a8"
             ],
             [
              0.3333333333333333,
              "#9c179e"
             ],
             [
              0.4444444444444444,
              "#bd3786"
             ],
             [
              0.5555555555555556,
              "#d8576b"
             ],
             [
              0.6666666666666666,
              "#ed7953"
             ],
             [
              0.7777777777777778,
              "#fb9f3a"
             ],
             [
              0.8888888888888888,
              "#fdca26"
             ],
             [
              1,
              "#f0f921"
             ]
            ],
            "type": "heatmap"
           }
          ],
          "heatmapgl": [
           {
            "colorbar": {
             "outlinewidth": 0,
             "ticks": ""
            },
            "colorscale": [
             [
              0,
              "#0d0887"
             ],
             [
              0.1111111111111111,
              "#46039f"
             ],
             [
              0.2222222222222222,
              "#7201a8"
             ],
             [
              0.3333333333333333,
              "#9c179e"
             ],
             [
              0.4444444444444444,
              "#bd3786"
             ],
             [
              0.5555555555555556,
              "#d8576b"
             ],
             [
              0.6666666666666666,
              "#ed7953"
             ],
             [
              0.7777777777777778,
              "#fb9f3a"
             ],
             [
              0.8888888888888888,
              "#fdca26"
             ],
             [
              1,
              "#f0f921"
             ]
            ],
            "type": "heatmapgl"
           }
          ],
          "histogram": [
           {
            "marker": {
             "pattern": {
              "fillmode": "overlay",
              "size": 10,
              "solidity": 0.2
             }
            },
            "type": "histogram"
           }
          ],
          "histogram2d": [
           {
            "colorbar": {
             "outlinewidth": 0,
             "ticks": ""
            },
            "colorscale": [
             [
              0,
              "#0d0887"
             ],
             [
              0.1111111111111111,
              "#46039f"
             ],
             [
              0.2222222222222222,
              "#7201a8"
             ],
             [
              0.3333333333333333,
              "#9c179e"
             ],
             [
              0.4444444444444444,
              "#bd3786"
             ],
             [
              0.5555555555555556,
              "#d8576b"
             ],
             [
              0.6666666666666666,
              "#ed7953"
             ],
             [
              0.7777777777777778,
              "#fb9f3a"
             ],
             [
              0.8888888888888888,
              "#fdca26"
             ],
             [
              1,
              "#f0f921"
             ]
            ],
            "type": "histogram2d"
           }
          ],
          "histogram2dcontour": [
           {
            "colorbar": {
             "outlinewidth": 0,
             "ticks": ""
            },
            "colorscale": [
             [
              0,
              "#0d0887"
             ],
             [
              0.1111111111111111,
              "#46039f"
             ],
             [
              0.2222222222222222,
              "#7201a8"
             ],
             [
              0.3333333333333333,
              "#9c179e"
             ],
             [
              0.4444444444444444,
              "#bd3786"
             ],
             [
              0.5555555555555556,
              "#d8576b"
             ],
             [
              0.6666666666666666,
              "#ed7953"
             ],
             [
              0.7777777777777778,
              "#fb9f3a"
             ],
             [
              0.8888888888888888,
              "#fdca26"
             ],
             [
              1,
              "#f0f921"
             ]
            ],
            "type": "histogram2dcontour"
           }
          ],
          "mesh3d": [
           {
            "colorbar": {
             "outlinewidth": 0,
             "ticks": ""
            },
            "type": "mesh3d"
           }
          ],
          "parcoords": [
           {
            "line": {
             "colorbar": {
              "outlinewidth": 0,
              "ticks": ""
             }
            },
            "type": "parcoords"
           }
          ],
          "pie": [
           {
            "automargin": true,
            "type": "pie"
           }
          ],
          "scatter": [
           {
            "fillpattern": {
             "fillmode": "overlay",
             "size": 10,
             "solidity": 0.2
            },
            "type": "scatter"
           }
          ],
          "scatter3d": [
           {
            "line": {
             "colorbar": {
              "outlinewidth": 0,
              "ticks": ""
             }
            },
            "marker": {
             "colorbar": {
              "outlinewidth": 0,
              "ticks": ""
             }
            },
            "type": "scatter3d"
           }
          ],
          "scattercarpet": [
           {
            "marker": {
             "colorbar": {
              "outlinewidth": 0,
              "ticks": ""
             }
            },
            "type": "scattercarpet"
           }
          ],
          "scattergeo": [
           {
            "marker": {
             "colorbar": {
              "outlinewidth": 0,
              "ticks": ""
             }
            },
            "type": "scattergeo"
           }
          ],
          "scattergl": [
           {
            "marker": {
             "colorbar": {
              "outlinewidth": 0,
              "ticks": ""
             }
            },
            "type": "scattergl"
           }
          ],
          "scattermapbox": [
           {
            "marker": {
             "colorbar": {
              "outlinewidth": 0,
              "ticks": ""
             }
            },
            "type": "scattermapbox"
           }
          ],
          "scatterpolar": [
           {
            "marker": {
             "colorbar": {
              "outlinewidth": 0,
              "ticks": ""
             }
            },
            "type": "scatterpolar"
           }
          ],
          "scatterpolargl": [
           {
            "marker": {
             "colorbar": {
              "outlinewidth": 0,
              "ticks": ""
             }
            },
            "type": "scatterpolargl"
           }
          ],
          "scatterternary": [
           {
            "marker": {
             "colorbar": {
              "outlinewidth": 0,
              "ticks": ""
             }
            },
            "type": "scatterternary"
           }
          ],
          "surface": [
           {
            "colorbar": {
             "outlinewidth": 0,
             "ticks": ""
            },
            "colorscale": [
             [
              0,
              "#0d0887"
             ],
             [
              0.1111111111111111,
              "#46039f"
             ],
             [
              0.2222222222222222,
              "#7201a8"
             ],
             [
              0.3333333333333333,
              "#9c179e"
             ],
             [
              0.4444444444444444,
              "#bd3786"
             ],
             [
              0.5555555555555556,
              "#d8576b"
             ],
             [
              0.6666666666666666,
              "#ed7953"
             ],
             [
              0.7777777777777778,
              "#fb9f3a"
             ],
             [
              0.8888888888888888,
              "#fdca26"
             ],
             [
              1,
              "#f0f921"
             ]
            ],
            "type": "surface"
           }
          ],
          "table": [
           {
            "cells": {
             "fill": {
              "color": "#EBF0F8"
             },
             "line": {
              "color": "white"
             }
            },
            "header": {
             "fill": {
              "color": "#C8D4E3"
             },
             "line": {
              "color": "white"
             }
            },
            "type": "table"
           }
          ]
         },
         "layout": {
          "annotationdefaults": {
           "arrowcolor": "#2a3f5f",
           "arrowhead": 0,
           "arrowwidth": 1
          },
          "autotypenumbers": "strict",
          "coloraxis": {
           "colorbar": {
            "outlinewidth": 0,
            "ticks": ""
           }
          },
          "colorscale": {
           "diverging": [
            [
             0,
             "#8e0152"
            ],
            [
             0.1,
             "#c51b7d"
            ],
            [
             0.2,
             "#de77ae"
            ],
            [
             0.3,
             "#f1b6da"
            ],
            [
             0.4,
             "#fde0ef"
            ],
            [
             0.5,
             "#f7f7f7"
            ],
            [
             0.6,
             "#e6f5d0"
            ],
            [
             0.7,
             "#b8e186"
            ],
            [
             0.8,
             "#7fbc41"
            ],
            [
             0.9,
             "#4d9221"
            ],
            [
             1,
             "#276419"
            ]
           ],
           "sequential": [
            [
             0,
             "#0d0887"
            ],
            [
             0.1111111111111111,
             "#46039f"
            ],
            [
             0.2222222222222222,
             "#7201a8"
            ],
            [
             0.3333333333333333,
             "#9c179e"
            ],
            [
             0.4444444444444444,
             "#bd3786"
            ],
            [
             0.5555555555555556,
             "#d8576b"
            ],
            [
             0.6666666666666666,
             "#ed7953"
            ],
            [
             0.7777777777777778,
             "#fb9f3a"
            ],
            [
             0.8888888888888888,
             "#fdca26"
            ],
            [
             1,
             "#f0f921"
            ]
           ],
           "sequentialminus": [
            [
             0,
             "#0d0887"
            ],
            [
             0.1111111111111111,
             "#46039f"
            ],
            [
             0.2222222222222222,
             "#7201a8"
            ],
            [
             0.3333333333333333,
             "#9c179e"
            ],
            [
             0.4444444444444444,
             "#bd3786"
            ],
            [
             0.5555555555555556,
             "#d8576b"
            ],
            [
             0.6666666666666666,
             "#ed7953"
            ],
            [
             0.7777777777777778,
             "#fb9f3a"
            ],
            [
             0.8888888888888888,
             "#fdca26"
            ],
            [
             1,
             "#f0f921"
            ]
           ]
          },
          "colorway": [
           "#636efa",
           "#EF553B",
           "#00cc96",
           "#ab63fa",
           "#FFA15A",
           "#19d3f3",
           "#FF6692",
           "#B6E880",
           "#FF97FF",
           "#FECB52"
          ],
          "font": {
           "color": "#2a3f5f"
          },
          "geo": {
           "bgcolor": "white",
           "lakecolor": "white",
           "landcolor": "#E5ECF6",
           "showlakes": true,
           "showland": true,
           "subunitcolor": "white"
          },
          "hoverlabel": {
           "align": "left"
          },
          "hovermode": "closest",
          "mapbox": {
           "style": "light"
          },
          "paper_bgcolor": "white",
          "plot_bgcolor": "#E5ECF6",
          "polar": {
           "angularaxis": {
            "gridcolor": "white",
            "linecolor": "white",
            "ticks": ""
           },
           "bgcolor": "#E5ECF6",
           "radialaxis": {
            "gridcolor": "white",
            "linecolor": "white",
            "ticks": ""
           }
          },
          "scene": {
           "xaxis": {
            "backgroundcolor": "#E5ECF6",
            "gridcolor": "white",
            "gridwidth": 2,
            "linecolor": "white",
            "showbackground": true,
            "ticks": "",
            "zerolinecolor": "white"
           },
           "yaxis": {
            "backgroundcolor": "#E5ECF6",
            "gridcolor": "white",
            "gridwidth": 2,
            "linecolor": "white",
            "showbackground": true,
            "ticks": "",
            "zerolinecolor": "white"
           },
           "zaxis": {
            "backgroundcolor": "#E5ECF6",
            "gridcolor": "white",
            "gridwidth": 2,
            "linecolor": "white",
            "showbackground": true,
            "ticks": "",
            "zerolinecolor": "white"
           }
          },
          "shapedefaults": {
           "line": {
            "color": "#2a3f5f"
           }
          },
          "ternary": {
           "aaxis": {
            "gridcolor": "white",
            "linecolor": "white",
            "ticks": ""
           },
           "baxis": {
            "gridcolor": "white",
            "linecolor": "white",
            "ticks": ""
           },
           "bgcolor": "#E5ECF6",
           "caxis": {
            "gridcolor": "white",
            "linecolor": "white",
            "ticks": ""
           }
          },
          "title": {
           "x": 0.05
          },
          "xaxis": {
           "automargin": true,
           "gridcolor": "white",
           "linecolor": "white",
           "ticks": "",
           "title": {
            "standoff": 15
           },
           "zerolinecolor": "white",
           "zerolinewidth": 2
          },
          "yaxis": {
           "automargin": true,
           "gridcolor": "white",
           "linecolor": "white",
           "ticks": "",
           "title": {
            "standoff": 15
           },
           "zerolinecolor": "white",
           "zerolinewidth": 2
          }
         }
        }
       }
      }
     },
     "metadata": {},
     "output_type": "display_data"
    }
   ],
   "source": [
    "fig= go.Figure()\n",
    "\n",
    "for i in range(10):\n",
    "    fig.add_trace(go.Scatter(x=df[mae_cols].columns, y =df[mae_cols].values[i],\n",
    "                             mode='lines+markers', name=titles[i]))\n",
    "\n",
    "fig.show()"
   ]
  },
  {
   "cell_type": "code",
   "execution_count": null,
   "metadata": {
    "colab": {
     "base_uri": "https://localhost:8080/",
     "height": 542
    },
    "id": "xHEvk0cdHDfK",
    "outputId": "6e4e4fa7-67dd-46f4-bfc5-f92c1df63f21"
   },
   "outputs": [
    {
     "data": {
      "application/vnd.plotly.v1+json": {
       "config": {
        "plotlyServerURL": "https://plot.ly"
       },
       "data": [
        {
         "mode": "lines+markers",
         "name": "likes_count",
         "type": "scatter",
         "x": [
          "D-Tree: MSE",
          "Linear: MSE",
          "Perceptron: MSE",
          "Poisson: MSE"
         ],
         "y": [
          153232984.64393774,
          53697273.6670696,
          52234964.5916712,
          53539484.079763964
         ]
        },
        {
         "mode": "lines+markers",
         "name": "comments_count",
         "type": "scatter",
         "x": [
          "D-Tree: MSE",
          "Linear: MSE",
          "Perceptron: MSE",
          "Poisson: MSE"
         ],
         "y": [
          1963522.3759474317,
          526587.4806407465,
          530076.9305467502,
          525430.7909710949
         ]
        },
        {
         "mode": "lines+markers",
         "name": "shares_count",
         "type": "scatter",
         "x": [
          "D-Tree: MSE",
          "Linear: MSE",
          "Perceptron: MSE",
          "Poisson: MSE"
         ],
         "y": [
          107852625.71749112,
          22787796.5495937,
          22648936.779867854,
          22763826.167400718
         ]
        },
        {
         "mode": "lines+markers",
         "name": "love_count",
         "type": "scatter",
         "x": [
          "D-Tree: MSE",
          "Linear: MSE",
          "Perceptron: MSE",
          "Poisson: MSE"
         ],
         "y": [
          950505.5850336284,
          377344.6044159607,
          368524.59328898333,
          369868.061903982
         ]
        },
        {
         "mode": "lines+markers",
         "name": "wow_count",
         "type": "scatter",
         "x": [
          "D-Tree: MSE",
          "Linear: MSE",
          "Perceptron: MSE",
          "Poisson: MSE"
         ],
         "y": [
          160273.67073808197,
          50373.31509349026,
          48801.08206270511,
          49444.73869530452
         ]
        },
        {
         "mode": "lines+markers",
         "name": "haha_count",
         "type": "scatter",
         "x": [
          "D-Tree: MSE",
          "Linear: MSE",
          "Perceptron: MSE",
          "Poisson: MSE"
         ],
         "y": [
          260043.4198015403,
          142957.96963121952,
          142112.8598613282,
          142139.37166297334
         ]
        },
        {
         "mode": "lines+markers",
         "name": "sad_count",
         "type": "scatter",
         "x": [
          "D-Tree: MSE",
          "Linear: MSE",
          "Perceptron: MSE",
          "Poisson: MSE"
         ],
         "y": [
          1247014.8724909395,
          834264.8763750159,
          827438.1763346178,
          830292.865747621
         ]
        },
        {
         "mode": "lines+markers",
         "name": "thankful_count",
         "type": "scatter",
         "x": [
          "D-Tree: MSE",
          "Linear: MSE",
          "Perceptron: MSE",
          "Poisson: MSE"
         ],
         "y": [
          19.82959297463061,
          16.48753696761974,
          23.759674158001495,
          16.49299391264631
         ]
        },
        {
         "mode": "lines+markers",
         "name": "angry_count",
         "type": "scatter",
         "x": [
          "D-Tree: MSE",
          "Linear: MSE",
          "Perceptron: MSE",
          "Poisson: MSE"
         ],
         "y": [
          224266.72250487874,
          165361.8997871118,
          164068.6286368086,
          164225.3613842202
         ]
        },
        {
         "mode": "lines+markers",
         "name": "Overall",
         "type": "scatter",
         "x": [
          "D-Tree: MSE",
          "Linear: MSE",
          "Perceptron: MSE",
          "Poisson: MSE"
         ],
         "y": [
          29543472.981948707,
          8731330.761127105,
          8551660.8224382,
          8709414.214502646
         ]
        }
       ],
       "layout": {
        "template": {
         "data": {
          "bar": [
           {
            "error_x": {
             "color": "#2a3f5f"
            },
            "error_y": {
             "color": "#2a3f5f"
            },
            "marker": {
             "line": {
              "color": "#E5ECF6",
              "width": 0.5
             },
             "pattern": {
              "fillmode": "overlay",
              "size": 10,
              "solidity": 0.2
             }
            },
            "type": "bar"
           }
          ],
          "barpolar": [
           {
            "marker": {
             "line": {
              "color": "#E5ECF6",
              "width": 0.5
             },
             "pattern": {
              "fillmode": "overlay",
              "size": 10,
              "solidity": 0.2
             }
            },
            "type": "barpolar"
           }
          ],
          "carpet": [
           {
            "aaxis": {
             "endlinecolor": "#2a3f5f",
             "gridcolor": "white",
             "linecolor": "white",
             "minorgridcolor": "white",
             "startlinecolor": "#2a3f5f"
            },
            "baxis": {
             "endlinecolor": "#2a3f5f",
             "gridcolor": "white",
             "linecolor": "white",
             "minorgridcolor": "white",
             "startlinecolor": "#2a3f5f"
            },
            "type": "carpet"
           }
          ],
          "choropleth": [
           {
            "colorbar": {
             "outlinewidth": 0,
             "ticks": ""
            },
            "type": "choropleth"
           }
          ],
          "contour": [
           {
            "colorbar": {
             "outlinewidth": 0,
             "ticks": ""
            },
            "colorscale": [
             [
              0,
              "#0d0887"
             ],
             [
              0.1111111111111111,
              "#46039f"
             ],
             [
              0.2222222222222222,
              "#7201a8"
             ],
             [
              0.3333333333333333,
              "#9c179e"
             ],
             [
              0.4444444444444444,
              "#bd3786"
             ],
             [
              0.5555555555555556,
              "#d8576b"
             ],
             [
              0.6666666666666666,
              "#ed7953"
             ],
             [
              0.7777777777777778,
              "#fb9f3a"
             ],
             [
              0.8888888888888888,
              "#fdca26"
             ],
             [
              1,
              "#f0f921"
             ]
            ],
            "type": "contour"
           }
          ],
          "contourcarpet": [
           {
            "colorbar": {
             "outlinewidth": 0,
             "ticks": ""
            },
            "type": "contourcarpet"
           }
          ],
          "heatmap": [
           {
            "colorbar": {
             "outlinewidth": 0,
             "ticks": ""
            },
            "colorscale": [
             [
              0,
              "#0d0887"
             ],
             [
              0.1111111111111111,
              "#46039f"
             ],
             [
              0.2222222222222222,
              "#7201a8"
             ],
             [
              0.3333333333333333,
              "#9c179e"
             ],
             [
              0.4444444444444444,
              "#bd3786"
             ],
             [
              0.5555555555555556,
              "#d8576b"
             ],
             [
              0.6666666666666666,
              "#ed7953"
             ],
             [
              0.7777777777777778,
              "#fb9f3a"
             ],
             [
              0.8888888888888888,
              "#fdca26"
             ],
             [
              1,
              "#f0f921"
             ]
            ],
            "type": "heatmap"
           }
          ],
          "heatmapgl": [
           {
            "colorbar": {
             "outlinewidth": 0,
             "ticks": ""
            },
            "colorscale": [
             [
              0,
              "#0d0887"
             ],
             [
              0.1111111111111111,
              "#46039f"
             ],
             [
              0.2222222222222222,
              "#7201a8"
             ],
             [
              0.3333333333333333,
              "#9c179e"
             ],
             [
              0.4444444444444444,
              "#bd3786"
             ],
             [
              0.5555555555555556,
              "#d8576b"
             ],
             [
              0.6666666666666666,
              "#ed7953"
             ],
             [
              0.7777777777777778,
              "#fb9f3a"
             ],
             [
              0.8888888888888888,
              "#fdca26"
             ],
             [
              1,
              "#f0f921"
             ]
            ],
            "type": "heatmapgl"
           }
          ],
          "histogram": [
           {
            "marker": {
             "pattern": {
              "fillmode": "overlay",
              "size": 10,
              "solidity": 0.2
             }
            },
            "type": "histogram"
           }
          ],
          "histogram2d": [
           {
            "colorbar": {
             "outlinewidth": 0,
             "ticks": ""
            },
            "colorscale": [
             [
              0,
              "#0d0887"
             ],
             [
              0.1111111111111111,
              "#46039f"
             ],
             [
              0.2222222222222222,
              "#7201a8"
             ],
             [
              0.3333333333333333,
              "#9c179e"
             ],
             [
              0.4444444444444444,
              "#bd3786"
             ],
             [
              0.5555555555555556,
              "#d8576b"
             ],
             [
              0.6666666666666666,
              "#ed7953"
             ],
             [
              0.7777777777777778,
              "#fb9f3a"
             ],
             [
              0.8888888888888888,
              "#fdca26"
             ],
             [
              1,
              "#f0f921"
             ]
            ],
            "type": "histogram2d"
           }
          ],
          "histogram2dcontour": [
           {
            "colorbar": {
             "outlinewidth": 0,
             "ticks": ""
            },
            "colorscale": [
             [
              0,
              "#0d0887"
             ],
             [
              0.1111111111111111,
              "#46039f"
             ],
             [
              0.2222222222222222,
              "#7201a8"
             ],
             [
              0.3333333333333333,
              "#9c179e"
             ],
             [
              0.4444444444444444,
              "#bd3786"
             ],
             [
              0.5555555555555556,
              "#d8576b"
             ],
             [
              0.6666666666666666,
              "#ed7953"
             ],
             [
              0.7777777777777778,
              "#fb9f3a"
             ],
             [
              0.8888888888888888,
              "#fdca26"
             ],
             [
              1,
              "#f0f921"
             ]
            ],
            "type": "histogram2dcontour"
           }
          ],
          "mesh3d": [
           {
            "colorbar": {
             "outlinewidth": 0,
             "ticks": ""
            },
            "type": "mesh3d"
           }
          ],
          "parcoords": [
           {
            "line": {
             "colorbar": {
              "outlinewidth": 0,
              "ticks": ""
             }
            },
            "type": "parcoords"
           }
          ],
          "pie": [
           {
            "automargin": true,
            "type": "pie"
           }
          ],
          "scatter": [
           {
            "fillpattern": {
             "fillmode": "overlay",
             "size": 10,
             "solidity": 0.2
            },
            "type": "scatter"
           }
          ],
          "scatter3d": [
           {
            "line": {
             "colorbar": {
              "outlinewidth": 0,
              "ticks": ""
             }
            },
            "marker": {
             "colorbar": {
              "outlinewidth": 0,
              "ticks": ""
             }
            },
            "type": "scatter3d"
           }
          ],
          "scattercarpet": [
           {
            "marker": {
             "colorbar": {
              "outlinewidth": 0,
              "ticks": ""
             }
            },
            "type": "scattercarpet"
           }
          ],
          "scattergeo": [
           {
            "marker": {
             "colorbar": {
              "outlinewidth": 0,
              "ticks": ""
             }
            },
            "type": "scattergeo"
           }
          ],
          "scattergl": [
           {
            "marker": {
             "colorbar": {
              "outlinewidth": 0,
              "ticks": ""
             }
            },
            "type": "scattergl"
           }
          ],
          "scattermapbox": [
           {
            "marker": {
             "colorbar": {
              "outlinewidth": 0,
              "ticks": ""
             }
            },
            "type": "scattermapbox"
           }
          ],
          "scatterpolar": [
           {
            "marker": {
             "colorbar": {
              "outlinewidth": 0,
              "ticks": ""
             }
            },
            "type": "scatterpolar"
           }
          ],
          "scatterpolargl": [
           {
            "marker": {
             "colorbar": {
              "outlinewidth": 0,
              "ticks": ""
             }
            },
            "type": "scatterpolargl"
           }
          ],
          "scatterternary": [
           {
            "marker": {
             "colorbar": {
              "outlinewidth": 0,
              "ticks": ""
             }
            },
            "type": "scatterternary"
           }
          ],
          "surface": [
           {
            "colorbar": {
             "outlinewidth": 0,
             "ticks": ""
            },
            "colorscale": [
             [
              0,
              "#0d0887"
             ],
             [
              0.1111111111111111,
              "#46039f"
             ],
             [
              0.2222222222222222,
              "#7201a8"
             ],
             [
              0.3333333333333333,
              "#9c179e"
             ],
             [
              0.4444444444444444,
              "#bd3786"
             ],
             [
              0.5555555555555556,
              "#d8576b"
             ],
             [
              0.6666666666666666,
              "#ed7953"
             ],
             [
              0.7777777777777778,
              "#fb9f3a"
             ],
             [
              0.8888888888888888,
              "#fdca26"
             ],
             [
              1,
              "#f0f921"
             ]
            ],
            "type": "surface"
           }
          ],
          "table": [
           {
            "cells": {
             "fill": {
              "color": "#EBF0F8"
             },
             "line": {
              "color": "white"
             }
            },
            "header": {
             "fill": {
              "color": "#C8D4E3"
             },
             "line": {
              "color": "white"
             }
            },
            "type": "table"
           }
          ]
         },
         "layout": {
          "annotationdefaults": {
           "arrowcolor": "#2a3f5f",
           "arrowhead": 0,
           "arrowwidth": 1
          },
          "autotypenumbers": "strict",
          "coloraxis": {
           "colorbar": {
            "outlinewidth": 0,
            "ticks": ""
           }
          },
          "colorscale": {
           "diverging": [
            [
             0,
             "#8e0152"
            ],
            [
             0.1,
             "#c51b7d"
            ],
            [
             0.2,
             "#de77ae"
            ],
            [
             0.3,
             "#f1b6da"
            ],
            [
             0.4,
             "#fde0ef"
            ],
            [
             0.5,
             "#f7f7f7"
            ],
            [
             0.6,
             "#e6f5d0"
            ],
            [
             0.7,
             "#b8e186"
            ],
            [
             0.8,
             "#7fbc41"
            ],
            [
             0.9,
             "#4d9221"
            ],
            [
             1,
             "#276419"
            ]
           ],
           "sequential": [
            [
             0,
             "#0d0887"
            ],
            [
             0.1111111111111111,
             "#46039f"
            ],
            [
             0.2222222222222222,
             "#7201a8"
            ],
            [
             0.3333333333333333,
             "#9c179e"
            ],
            [
             0.4444444444444444,
             "#bd3786"
            ],
            [
             0.5555555555555556,
             "#d8576b"
            ],
            [
             0.6666666666666666,
             "#ed7953"
            ],
            [
             0.7777777777777778,
             "#fb9f3a"
            ],
            [
             0.8888888888888888,
             "#fdca26"
            ],
            [
             1,
             "#f0f921"
            ]
           ],
           "sequentialminus": [
            [
             0,
             "#0d0887"
            ],
            [
             0.1111111111111111,
             "#46039f"
            ],
            [
             0.2222222222222222,
             "#7201a8"
            ],
            [
             0.3333333333333333,
             "#9c179e"
            ],
            [
             0.4444444444444444,
             "#bd3786"
            ],
            [
             0.5555555555555556,
             "#d8576b"
            ],
            [
             0.6666666666666666,
             "#ed7953"
            ],
            [
             0.7777777777777778,
             "#fb9f3a"
            ],
            [
             0.8888888888888888,
             "#fdca26"
            ],
            [
             1,
             "#f0f921"
            ]
           ]
          },
          "colorway": [
           "#636efa",
           "#EF553B",
           "#00cc96",
           "#ab63fa",
           "#FFA15A",
           "#19d3f3",
           "#FF6692",
           "#B6E880",
           "#FF97FF",
           "#FECB52"
          ],
          "font": {
           "color": "#2a3f5f"
          },
          "geo": {
           "bgcolor": "white",
           "lakecolor": "white",
           "landcolor": "#E5ECF6",
           "showlakes": true,
           "showland": true,
           "subunitcolor": "white"
          },
          "hoverlabel": {
           "align": "left"
          },
          "hovermode": "closest",
          "mapbox": {
           "style": "light"
          },
          "paper_bgcolor": "white",
          "plot_bgcolor": "#E5ECF6",
          "polar": {
           "angularaxis": {
            "gridcolor": "white",
            "linecolor": "white",
            "ticks": ""
           },
           "bgcolor": "#E5ECF6",
           "radialaxis": {
            "gridcolor": "white",
            "linecolor": "white",
            "ticks": ""
           }
          },
          "scene": {
           "xaxis": {
            "backgroundcolor": "#E5ECF6",
            "gridcolor": "white",
            "gridwidth": 2,
            "linecolor": "white",
            "showbackground": true,
            "ticks": "",
            "zerolinecolor": "white"
           },
           "yaxis": {
            "backgroundcolor": "#E5ECF6",
            "gridcolor": "white",
            "gridwidth": 2,
            "linecolor": "white",
            "showbackground": true,
            "ticks": "",
            "zerolinecolor": "white"
           },
           "zaxis": {
            "backgroundcolor": "#E5ECF6",
            "gridcolor": "white",
            "gridwidth": 2,
            "linecolor": "white",
            "showbackground": true,
            "ticks": "",
            "zerolinecolor": "white"
           }
          },
          "shapedefaults": {
           "line": {
            "color": "#2a3f5f"
           }
          },
          "ternary": {
           "aaxis": {
            "gridcolor": "white",
            "linecolor": "white",
            "ticks": ""
           },
           "baxis": {
            "gridcolor": "white",
            "linecolor": "white",
            "ticks": ""
           },
           "bgcolor": "#E5ECF6",
           "caxis": {
            "gridcolor": "white",
            "linecolor": "white",
            "ticks": ""
           }
          },
          "title": {
           "x": 0.05
          },
          "xaxis": {
           "automargin": true,
           "gridcolor": "white",
           "linecolor": "white",
           "ticks": "",
           "title": {
            "standoff": 15
           },
           "zerolinecolor": "white",
           "zerolinewidth": 2
          },
          "yaxis": {
           "automargin": true,
           "gridcolor": "white",
           "linecolor": "white",
           "ticks": "",
           "title": {
            "standoff": 15
           },
           "zerolinecolor": "white",
           "zerolinewidth": 2
          }
         }
        }
       }
      }
     },
     "metadata": {},
     "output_type": "display_data"
    }
   ],
   "source": [
    "import plotly.graph_objects as go\n",
    "\n",
    "fig= go.Figure()\n",
    "\n",
    "for i in range(10):\n",
    "    fig.add_trace(go.Scatter(x=df[mse_cols].columns, y =df[mse_cols].values[i],\n",
    "                             mode='lines+markers', name=titles[i]))\n",
    "\n",
    "fig.show()"
   ]
  },
  {
   "cell_type": "code",
   "execution_count": null,
   "metadata": {},
   "outputs": [],
   "source": [
    "mse_cols.remove('D-Tree: MSE')"
   ]
  },
  {
   "cell_type": "code",
   "execution_count": null,
   "metadata": {},
   "outputs": [
    {
     "data": {
      "text/plain": [
       "['Linear: MSE', 'Perceptron: MSE', 'Poisson: MSE']"
      ]
     },
     "execution_count": 41,
     "metadata": {},
     "output_type": "execute_result"
    }
   ],
   "source": [
    "mse_cols"
   ]
  },
  {
   "cell_type": "code",
   "execution_count": null,
   "metadata": {
    "id": "HrmdLRf0SK3_"
   },
   "outputs": [
    {
     "data": {
      "application/vnd.plotly.v1+json": {
       "config": {
        "plotlyServerURL": "https://plot.ly"
       },
       "data": [
        {
         "mode": "lines+markers",
         "name": "likes_count",
         "type": "scatter",
         "x": [
          "Linear: MSE",
          "Perceptron: MSE",
          "Poisson: MSE"
         ],
         "y": [
          7327.842360959302,
          7227.376051629747,
          7317.067997481229
         ]
        },
        {
         "mode": "lines+markers",
         "name": "comments_count",
         "type": "scatter",
         "x": [
          "Linear: MSE",
          "Perceptron: MSE",
          "Poisson: MSE"
         ],
         "y": [
          725.6634761656029,
          728.0638231273067,
          724.8660503645449
         ]
        },
        {
         "mode": "lines+markers",
         "name": "shares_count",
         "type": "scatter",
         "x": [
          "Linear: MSE",
          "Perceptron: MSE",
          "Poisson: MSE"
         ],
         "y": [
          4773.656517764312,
          4759.089910882947,
          4771.145163102954
         ]
        },
        {
         "mode": "lines+markers",
         "name": "love_count",
         "type": "scatter",
         "x": [
          "Linear: MSE",
          "Perceptron: MSE",
          "Poisson: MSE"
         ],
         "y": [
          614.2838142226773,
          607.0622647545994,
          608.1677909129864
         ]
        },
        {
         "mode": "lines+markers",
         "name": "wow_count",
         "type": "scatter",
         "x": [
          "Linear: MSE",
          "Perceptron: MSE",
          "Poisson: MSE"
         ],
         "y": [
          224.4400033271481,
          220.90966946402574,
          222.36172938548694
         ]
        },
        {
         "mode": "lines+markers",
         "name": "haha_count",
         "type": "scatter",
         "x": [
          "Linear: MSE",
          "Perceptron: MSE",
          "Poisson: MSE"
         ],
         "y": [
          378.0978307676725,
          376.9785933727911,
          377.0137552702465
         ]
        },
        {
         "mode": "lines+markers",
         "name": "sad_count",
         "type": "scatter",
         "x": [
          "Linear: MSE",
          "Perceptron: MSE",
          "Poisson: MSE"
         ],
         "y": [
          913.381013802573,
          909.6362879385463,
          911.2040746987587
         ]
        },
        {
         "mode": "lines+markers",
         "name": "thankful_count",
         "type": "scatter",
         "x": [
          "Linear: MSE",
          "Perceptron: MSE",
          "Poisson: MSE"
         ],
         "y": [
          4.06048481928202,
          4.874389619019134,
          4.061156721015124
         ]
        },
        {
         "mode": "lines+markers",
         "name": "angry_count",
         "type": "scatter",
         "x": [
          "Linear: MSE",
          "Perceptron: MSE",
          "Poisson: MSE"
         ],
         "y": [
          406.64714407839114,
          405.05385893336285,
          405.2472842404008
         ]
        },
        {
         "mode": "lines+markers",
         "name": "Overall",
         "type": "scatter",
         "x": [
          "Linear: MSE",
          "Perceptron: MSE",
          "Poisson: MSE"
         ],
         "y": [
          2954.8825291586645,
          2924.322284297372,
          2951.1716680841605
         ]
        }
       ],
       "layout": {
        "template": {
         "data": {
          "bar": [
           {
            "error_x": {
             "color": "#2a3f5f"
            },
            "error_y": {
             "color": "#2a3f5f"
            },
            "marker": {
             "line": {
              "color": "#E5ECF6",
              "width": 0.5
             },
             "pattern": {
              "fillmode": "overlay",
              "size": 10,
              "solidity": 0.2
             }
            },
            "type": "bar"
           }
          ],
          "barpolar": [
           {
            "marker": {
             "line": {
              "color": "#E5ECF6",
              "width": 0.5
             },
             "pattern": {
              "fillmode": "overlay",
              "size": 10,
              "solidity": 0.2
             }
            },
            "type": "barpolar"
           }
          ],
          "carpet": [
           {
            "aaxis": {
             "endlinecolor": "#2a3f5f",
             "gridcolor": "white",
             "linecolor": "white",
             "minorgridcolor": "white",
             "startlinecolor": "#2a3f5f"
            },
            "baxis": {
             "endlinecolor": "#2a3f5f",
             "gridcolor": "white",
             "linecolor": "white",
             "minorgridcolor": "white",
             "startlinecolor": "#2a3f5f"
            },
            "type": "carpet"
           }
          ],
          "choropleth": [
           {
            "colorbar": {
             "outlinewidth": 0,
             "ticks": ""
            },
            "type": "choropleth"
           }
          ],
          "contour": [
           {
            "colorbar": {
             "outlinewidth": 0,
             "ticks": ""
            },
            "colorscale": [
             [
              0,
              "#0d0887"
             ],
             [
              0.1111111111111111,
              "#46039f"
             ],
             [
              0.2222222222222222,
              "#7201a8"
             ],
             [
              0.3333333333333333,
              "#9c179e"
             ],
             [
              0.4444444444444444,
              "#bd3786"
             ],
             [
              0.5555555555555556,
              "#d8576b"
             ],
             [
              0.6666666666666666,
              "#ed7953"
             ],
             [
              0.7777777777777778,
              "#fb9f3a"
             ],
             [
              0.8888888888888888,
              "#fdca26"
             ],
             [
              1,
              "#f0f921"
             ]
            ],
            "type": "contour"
           }
          ],
          "contourcarpet": [
           {
            "colorbar": {
             "outlinewidth": 0,
             "ticks": ""
            },
            "type": "contourcarpet"
           }
          ],
          "heatmap": [
           {
            "colorbar": {
             "outlinewidth": 0,
             "ticks": ""
            },
            "colorscale": [
             [
              0,
              "#0d0887"
             ],
             [
              0.1111111111111111,
              "#46039f"
             ],
             [
              0.2222222222222222,
              "#7201a8"
             ],
             [
              0.3333333333333333,
              "#9c179e"
             ],
             [
              0.4444444444444444,
              "#bd3786"
             ],
             [
              0.5555555555555556,
              "#d8576b"
             ],
             [
              0.6666666666666666,
              "#ed7953"
             ],
             [
              0.7777777777777778,
              "#fb9f3a"
             ],
             [
              0.8888888888888888,
              "#fdca26"
             ],
             [
              1,
              "#f0f921"
             ]
            ],
            "type": "heatmap"
           }
          ],
          "heatmapgl": [
           {
            "colorbar": {
             "outlinewidth": 0,
             "ticks": ""
            },
            "colorscale": [
             [
              0,
              "#0d0887"
             ],
             [
              0.1111111111111111,
              "#46039f"
             ],
             [
              0.2222222222222222,
              "#7201a8"
             ],
             [
              0.3333333333333333,
              "#9c179e"
             ],
             [
              0.4444444444444444,
              "#bd3786"
             ],
             [
              0.5555555555555556,
              "#d8576b"
             ],
             [
              0.6666666666666666,
              "#ed7953"
             ],
             [
              0.7777777777777778,
              "#fb9f3a"
             ],
             [
              0.8888888888888888,
              "#fdca26"
             ],
             [
              1,
              "#f0f921"
             ]
            ],
            "type": "heatmapgl"
           }
          ],
          "histogram": [
           {
            "marker": {
             "pattern": {
              "fillmode": "overlay",
              "size": 10,
              "solidity": 0.2
             }
            },
            "type": "histogram"
           }
          ],
          "histogram2d": [
           {
            "colorbar": {
             "outlinewidth": 0,
             "ticks": ""
            },
            "colorscale": [
             [
              0,
              "#0d0887"
             ],
             [
              0.1111111111111111,
              "#46039f"
             ],
             [
              0.2222222222222222,
              "#7201a8"
             ],
             [
              0.3333333333333333,
              "#9c179e"
             ],
             [
              0.4444444444444444,
              "#bd3786"
             ],
             [
              0.5555555555555556,
              "#d8576b"
             ],
             [
              0.6666666666666666,
              "#ed7953"
             ],
             [
              0.7777777777777778,
              "#fb9f3a"
             ],
             [
              0.8888888888888888,
              "#fdca26"
             ],
             [
              1,
              "#f0f921"
             ]
            ],
            "type": "histogram2d"
           }
          ],
          "histogram2dcontour": [
           {
            "colorbar": {
             "outlinewidth": 0,
             "ticks": ""
            },
            "colorscale": [
             [
              0,
              "#0d0887"
             ],
             [
              0.1111111111111111,
              "#46039f"
             ],
             [
              0.2222222222222222,
              "#7201a8"
             ],
             [
              0.3333333333333333,
              "#9c179e"
             ],
             [
              0.4444444444444444,
              "#bd3786"
             ],
             [
              0.5555555555555556,
              "#d8576b"
             ],
             [
              0.6666666666666666,
              "#ed7953"
             ],
             [
              0.7777777777777778,
              "#fb9f3a"
             ],
             [
              0.8888888888888888,
              "#fdca26"
             ],
             [
              1,
              "#f0f921"
             ]
            ],
            "type": "histogram2dcontour"
           }
          ],
          "mesh3d": [
           {
            "colorbar": {
             "outlinewidth": 0,
             "ticks": ""
            },
            "type": "mesh3d"
           }
          ],
          "parcoords": [
           {
            "line": {
             "colorbar": {
              "outlinewidth": 0,
              "ticks": ""
             }
            },
            "type": "parcoords"
           }
          ],
          "pie": [
           {
            "automargin": true,
            "type": "pie"
           }
          ],
          "scatter": [
           {
            "fillpattern": {
             "fillmode": "overlay",
             "size": 10,
             "solidity": 0.2
            },
            "type": "scatter"
           }
          ],
          "scatter3d": [
           {
            "line": {
             "colorbar": {
              "outlinewidth": 0,
              "ticks": ""
             }
            },
            "marker": {
             "colorbar": {
              "outlinewidth": 0,
              "ticks": ""
             }
            },
            "type": "scatter3d"
           }
          ],
          "scattercarpet": [
           {
            "marker": {
             "colorbar": {
              "outlinewidth": 0,
              "ticks": ""
             }
            },
            "type": "scattercarpet"
           }
          ],
          "scattergeo": [
           {
            "marker": {
             "colorbar": {
              "outlinewidth": 0,
              "ticks": ""
             }
            },
            "type": "scattergeo"
           }
          ],
          "scattergl": [
           {
            "marker": {
             "colorbar": {
              "outlinewidth": 0,
              "ticks": ""
             }
            },
            "type": "scattergl"
           }
          ],
          "scattermapbox": [
           {
            "marker": {
             "colorbar": {
              "outlinewidth": 0,
              "ticks": ""
             }
            },
            "type": "scattermapbox"
           }
          ],
          "scatterpolar": [
           {
            "marker": {
             "colorbar": {
              "outlinewidth": 0,
              "ticks": ""
             }
            },
            "type": "scatterpolar"
           }
          ],
          "scatterpolargl": [
           {
            "marker": {
             "colorbar": {
              "outlinewidth": 0,
              "ticks": ""
             }
            },
            "type": "scatterpolargl"
           }
          ],
          "scatterternary": [
           {
            "marker": {
             "colorbar": {
              "outlinewidth": 0,
              "ticks": ""
             }
            },
            "type": "scatterternary"
           }
          ],
          "surface": [
           {
            "colorbar": {
             "outlinewidth": 0,
             "ticks": ""
            },
            "colorscale": [
             [
              0,
              "#0d0887"
             ],
             [
              0.1111111111111111,
              "#46039f"
             ],
             [
              0.2222222222222222,
              "#7201a8"
             ],
             [
              0.3333333333333333,
              "#9c179e"
             ],
             [
              0.4444444444444444,
              "#bd3786"
             ],
             [
              0.5555555555555556,
              "#d8576b"
             ],
             [
              0.6666666666666666,
              "#ed7953"
             ],
             [
              0.7777777777777778,
              "#fb9f3a"
             ],
             [
              0.8888888888888888,
              "#fdca26"
             ],
             [
              1,
              "#f0f921"
             ]
            ],
            "type": "surface"
           }
          ],
          "table": [
           {
            "cells": {
             "fill": {
              "color": "#EBF0F8"
             },
             "line": {
              "color": "white"
             }
            },
            "header": {
             "fill": {
              "color": "#C8D4E3"
             },
             "line": {
              "color": "white"
             }
            },
            "type": "table"
           }
          ]
         },
         "layout": {
          "annotationdefaults": {
           "arrowcolor": "#2a3f5f",
           "arrowhead": 0,
           "arrowwidth": 1
          },
          "autotypenumbers": "strict",
          "coloraxis": {
           "colorbar": {
            "outlinewidth": 0,
            "ticks": ""
           }
          },
          "colorscale": {
           "diverging": [
            [
             0,
             "#8e0152"
            ],
            [
             0.1,
             "#c51b7d"
            ],
            [
             0.2,
             "#de77ae"
            ],
            [
             0.3,
             "#f1b6da"
            ],
            [
             0.4,
             "#fde0ef"
            ],
            [
             0.5,
             "#f7f7f7"
            ],
            [
             0.6,
             "#e6f5d0"
            ],
            [
             0.7,
             "#b8e186"
            ],
            [
             0.8,
             "#7fbc41"
            ],
            [
             0.9,
             "#4d9221"
            ],
            [
             1,
             "#276419"
            ]
           ],
           "sequential": [
            [
             0,
             "#0d0887"
            ],
            [
             0.1111111111111111,
             "#46039f"
            ],
            [
             0.2222222222222222,
             "#7201a8"
            ],
            [
             0.3333333333333333,
             "#9c179e"
            ],
            [
             0.4444444444444444,
             "#bd3786"
            ],
            [
             0.5555555555555556,
             "#d8576b"
            ],
            [
             0.6666666666666666,
             "#ed7953"
            ],
            [
             0.7777777777777778,
             "#fb9f3a"
            ],
            [
             0.8888888888888888,
             "#fdca26"
            ],
            [
             1,
             "#f0f921"
            ]
           ],
           "sequentialminus": [
            [
             0,
             "#0d0887"
            ],
            [
             0.1111111111111111,
             "#46039f"
            ],
            [
             0.2222222222222222,
             "#7201a8"
            ],
            [
             0.3333333333333333,
             "#9c179e"
            ],
            [
             0.4444444444444444,
             "#bd3786"
            ],
            [
             0.5555555555555556,
             "#d8576b"
            ],
            [
             0.6666666666666666,
             "#ed7953"
            ],
            [
             0.7777777777777778,
             "#fb9f3a"
            ],
            [
             0.8888888888888888,
             "#fdca26"
            ],
            [
             1,
             "#f0f921"
            ]
           ]
          },
          "colorway": [
           "#636efa",
           "#EF553B",
           "#00cc96",
           "#ab63fa",
           "#FFA15A",
           "#19d3f3",
           "#FF6692",
           "#B6E880",
           "#FF97FF",
           "#FECB52"
          ],
          "font": {
           "color": "#2a3f5f"
          },
          "geo": {
           "bgcolor": "white",
           "lakecolor": "white",
           "landcolor": "#E5ECF6",
           "showlakes": true,
           "showland": true,
           "subunitcolor": "white"
          },
          "hoverlabel": {
           "align": "left"
          },
          "hovermode": "closest",
          "mapbox": {
           "style": "light"
          },
          "paper_bgcolor": "white",
          "plot_bgcolor": "#E5ECF6",
          "polar": {
           "angularaxis": {
            "gridcolor": "white",
            "linecolor": "white",
            "ticks": ""
           },
           "bgcolor": "#E5ECF6",
           "radialaxis": {
            "gridcolor": "white",
            "linecolor": "white",
            "ticks": ""
           }
          },
          "scene": {
           "xaxis": {
            "backgroundcolor": "#E5ECF6",
            "gridcolor": "white",
            "gridwidth": 2,
            "linecolor": "white",
            "showbackground": true,
            "ticks": "",
            "zerolinecolor": "white"
           },
           "yaxis": {
            "backgroundcolor": "#E5ECF6",
            "gridcolor": "white",
            "gridwidth": 2,
            "linecolor": "white",
            "showbackground": true,
            "ticks": "",
            "zerolinecolor": "white"
           },
           "zaxis": {
            "backgroundcolor": "#E5ECF6",
            "gridcolor": "white",
            "gridwidth": 2,
            "linecolor": "white",
            "showbackground": true,
            "ticks": "",
            "zerolinecolor": "white"
           }
          },
          "shapedefaults": {
           "line": {
            "color": "#2a3f5f"
           }
          },
          "ternary": {
           "aaxis": {
            "gridcolor": "white",
            "linecolor": "white",
            "ticks": ""
           },
           "baxis": {
            "gridcolor": "white",
            "linecolor": "white",
            "ticks": ""
           },
           "bgcolor": "#E5ECF6",
           "caxis": {
            "gridcolor": "white",
            "linecolor": "white",
            "ticks": ""
           }
          },
          "title": {
           "x": 0.05
          },
          "xaxis": {
           "automargin": true,
           "gridcolor": "white",
           "linecolor": "white",
           "ticks": "",
           "title": {
            "standoff": 15
           },
           "zerolinecolor": "white",
           "zerolinewidth": 2
          },
          "yaxis": {
           "automargin": true,
           "gridcolor": "white",
           "linecolor": "white",
           "ticks": "",
           "title": {
            "standoff": 15
           },
           "zerolinecolor": "white",
           "zerolinewidth": 2
          }
         }
        }
       }
      }
     },
     "metadata": {},
     "output_type": "display_data"
    }
   ],
   "source": [
    "import plotly.graph_objects as go\n",
    "\n",
    "fig= go.Figure()\n",
    "\n",
    "for i in range(10):\n",
    "    fig.add_trace(go.Scatter(x=df[mse_cols].columns, y =np.sqrt(df[mse_cols].values[i]),\n",
    "                             mode='lines+markers', name=titles[i]))\n",
    "\n",
    "fig.show()"
   ]
  },
  {
   "cell_type": "markdown",
   "metadata": {},
   "source": [
    "Based on the scores that are obtained, the Perceptron model is currently the best performing model. Hence, we will be finding it's variable importance."
   ]
  },
  {
   "cell_type": "markdown",
   "metadata": {},
   "source": [
    "### Variable importance"
   ]
  },
  {
   "cell_type": "code",
   "execution_count": 15,
   "metadata": {},
   "outputs": [],
   "source": [
    "import pickle\n",
    "\n",
    "with open('./models/ml/mlp.pkl', 'rb') as file:\n",
    "    model.set_weights(pickle.load(file))"
   ]
  },
  {
   "cell_type": "code",
   "execution_count": 16,
   "metadata": {},
   "outputs": [
    {
     "name": "stdout",
     "output_type": "stream",
     "text": [
      "897/897 [==============================] - 1s 881us/step\n",
      "897/897 [==============================] - 1s 885us/step\n",
      "897/897 [==============================] - 1s 873us/step\n",
      "897/897 [==============================] - 1s 948us/step\n",
      "897/897 [==============================] - 1s 911us/step\n",
      "897/897 [==============================] - 1s 883us/step\n",
      "897/897 [==============================] - 1s 1ms/step\n",
      "897/897 [==============================] - 1s 921us/step\n",
      "897/897 [==============================] - 1s 845us/step\n",
      "897/897 [==============================] - 1s 931us/step\n",
      "897/897 [==============================] - 10889s 12s/step\n",
      "897/897 [==============================] - 1s 1ms/step\n",
      "897/897 [==============================] - 1s 933us/step\n",
      "897/897 [==============================] - 1s 932us/step\n",
      "897/897 [==============================] - 1s 915us/step\n",
      "897/897 [==============================] - 1s 874us/step\n",
      "897/897 [==============================] - 1s 939us/step\n",
      "897/897 [==============================] - 1s 972us/step\n",
      "897/897 [==============================] - 1s 899us/step\n",
      "897/897 [==============================] - 1s 897us/step\n",
      "897/897 [==============================] - 1s 859us/step\n",
      "897/897 [==============================] - 1s 930us/step\n",
      "897/897 [==============================] - 1s 888us/step\n",
      "897/897 [==============================] - 1s 899us/step\n",
      "897/897 [==============================] - 1s 870us/step\n",
      "897/897 [==============================] - 1s 903us/step\n",
      "897/897 [==============================] - 1s 952us/step\n",
      "897/897 [==============================] - 1s 869us/step\n",
      "897/897 [==============================] - 1s 858us/step\n",
      "897/897 [==============================] - 1s 865us/step\n",
      "897/897 [==============================] - 1s 866us/step\n",
      "897/897 [==============================] - 1s 866us/step\n",
      "897/897 [==============================] - 1s 886us/step\n",
      "897/897 [==============================] - 1s 862us/step\n",
      "897/897 [==============================] - 1s 879us/step\n",
      "897/897 [==============================] - 1s 830us/step\n",
      "897/897 [==============================] - 1s 860us/step\n",
      "897/897 [==============================] - 1s 853us/step\n",
      "897/897 [==============================] - 1s 844us/step\n",
      "897/897 [==============================] - 1s 850us/step\n",
      "897/897 [==============================] - 1s 909us/step\n",
      "897/897 [==============================] - 1s 848us/step\n",
      "897/897 [==============================] - 1s 865us/step\n",
      "897/897 [==============================] - 1s 893us/step\n",
      "897/897 [==============================] - 1s 880us/step\n",
      "897/897 [==============================] - 1s 846us/step\n",
      "897/897 [==============================] - 1s 836us/step\n",
      "897/897 [==============================] - 1s 892us/step\n",
      "897/897 [==============================] - 1s 844us/step\n",
      "897/897 [==============================] - 1s 857us/step\n",
      "897/897 [==============================] - 1s 852us/step\n",
      "897/897 [==============================] - 1s 880us/step\n",
      "897/897 [==============================] - 1s 856us/step\n",
      "897/897 [==============================] - 1s 825us/step\n",
      "897/897 [==============================] - 1s 836us/step\n",
      "897/897 [==============================] - 1s 806us/step\n",
      "897/897 [==============================] - 1s 839us/step\n",
      "897/897 [==============================] - 1s 877us/step\n",
      "897/897 [==============================] - 1s 923us/step\n",
      "897/897 [==============================] - 1s 950us/step\n",
      "897/897 [==============================] - 1s 1ms/step\n",
      "897/897 [==============================] - 1s 1ms/step\n",
      "897/897 [==============================] - 1s 884us/step\n",
      "897/897 [==============================] - 1s 918us/step\n",
      "897/897 [==============================] - 1s 909us/step\n",
      "897/897 [==============================] - 1s 903us/step\n",
      "897/897 [==============================] - 1s 948us/step\n",
      "897/897 [==============================] - 1s 864us/step\n",
      "897/897 [==============================] - 1s 1ms/step\n",
      "897/897 [==============================] - 1s 979us/step\n",
      "897/897 [==============================] - 1s 936us/step\n",
      "897/897 [==============================] - 1s 936us/step\n",
      "897/897 [==============================] - 1s 1ms/step\n",
      "897/897 [==============================] - 1s 947us/step\n",
      "897/897 [==============================] - 1s 865us/step\n",
      "897/897 [==============================] - 1s 934us/step\n",
      "897/897 [==============================] - 1s 919us/step\n",
      "897/897 [==============================] - 1s 942us/step\n",
      "897/897 [==============================] - 1s 927us/step\n",
      "897/897 [==============================] - 1s 863us/step\n",
      "897/897 [==============================] - 1s 869us/step\n",
      "897/897 [==============================] - 1s 864us/step\n",
      "897/897 [==============================] - 1s 869us/step\n",
      "897/897 [==============================] - 1s 831us/step\n",
      "897/897 [==============================] - 1s 916us/step\n",
      "897/897 [==============================] - 1s 1ms/step\n",
      "897/897 [==============================] - 1s 907us/step\n",
      "897/897 [==============================] - 1s 918us/step\n",
      "897/897 [==============================] - 1s 919us/step\n",
      "897/897 [==============================] - 1s 977us/step\n",
      "897/897 [==============================] - 1s 913us/step\n",
      "897/897 [==============================] - 1s 881us/step\n",
      "897/897 [==============================] - 1s 939us/step\n",
      "897/897 [==============================] - 1s 942us/step\n",
      "897/897 [==============================] - 1s 875us/step\n",
      "897/897 [==============================] - 1s 863us/step\n",
      "897/897 [==============================] - 1s 847us/step\n",
      "897/897 [==============================] - 1s 834us/step\n",
      "897/897 [==============================] - 1s 831us/step\n",
      "897/897 [==============================] - 1s 1ms/step\n",
      "897/897 [==============================] - 1s 1ms/step\n",
      "897/897 [==============================] - 1s 1ms/step\n",
      "897/897 [==============================] - 1s 889us/step\n",
      "897/897 [==============================] - 1s 798us/step\n",
      "897/897 [==============================] - 1s 861us/step\n",
      "897/897 [==============================] - 1s 845us/step\n",
      "897/897 [==============================] - 1s 822us/step\n",
      "897/897 [==============================] - 1s 835us/step\n",
      "897/897 [==============================] - 1s 837us/step\n",
      "897/897 [==============================] - 1s 836us/step\n",
      "897/897 [==============================] - 1s 828us/step\n",
      "897/897 [==============================] - 1s 949us/step\n",
      "897/897 [==============================] - 1s 862us/step\n",
      "897/897 [==============================] - 1s 896us/step\n",
      "897/897 [==============================] - 1s 830us/step\n",
      "897/897 [==============================] - 1s 935us/step\n",
      "897/897 [==============================] - 1s 853us/step\n",
      "897/897 [==============================] - 1s 866us/step\n",
      "897/897 [==============================] - 1s 858us/step\n",
      "897/897 [==============================] - 1s 857us/step\n",
      "897/897 [==============================] - 1s 876us/step\n",
      "897/897 [==============================] - 1s 826us/step\n",
      "897/897 [==============================] - 1s 866us/step\n",
      "897/897 [==============================] - 1s 861us/step\n",
      "897/897 [==============================] - 1s 855us/step\n",
      "897/897 [==============================] - 1s 851us/step\n",
      "897/897 [==============================] - 1s 873us/step\n",
      "897/897 [==============================] - 1s 879us/step\n",
      "897/897 [==============================] - 1s 847us/step\n",
      "897/897 [==============================] - 1s 850us/step\n",
      "897/897 [==============================] - 1s 863us/step\n",
      "897/897 [==============================] - 1s 887us/step\n",
      "897/897 [==============================] - 1s 868us/step\n",
      "897/897 [==============================] - 1s 854us/step\n",
      "897/897 [==============================] - 1s 866us/step\n",
      "897/897 [==============================] - 1s 850us/step\n",
      "897/897 [==============================] - 1s 847us/step\n",
      "897/897 [==============================] - 1s 860us/step\n",
      "897/897 [==============================] - 1s 864us/step\n",
      "897/897 [==============================] - 1s 834us/step\n",
      "897/897 [==============================] - 1s 876us/step\n",
      "897/897 [==============================] - 1s 872us/step\n",
      "897/897 [==============================] - 1s 836us/step\n",
      "897/897 [==============================] - 1s 865us/step\n",
      "897/897 [==============================] - 1s 872us/step\n",
      "897/897 [==============================] - 1s 850us/step\n",
      "897/897 [==============================] - 1s 822us/step\n",
      "897/897 [==============================] - 1s 891us/step\n",
      "897/897 [==============================] - 1s 839us/step\n",
      "897/897 [==============================] - 1s 864us/step\n",
      "897/897 [==============================] - 1s 922us/step\n",
      "897/897 [==============================] - 1s 862us/step\n",
      "897/897 [==============================] - 1s 878us/step\n",
      "897/897 [==============================] - 1s 832us/step\n",
      "897/897 [==============================] - 1s 867us/step\n",
      "897/897 [==============================] - 1s 874us/step\n",
      "897/897 [==============================] - 1s 838us/step\n",
      "897/897 [==============================] - 1s 852us/step\n",
      "897/897 [==============================] - 1s 845us/step\n",
      "897/897 [==============================] - 1s 856us/step\n",
      "897/897 [==============================] - 1s 855us/step\n",
      "897/897 [==============================] - 1s 866us/step\n",
      "897/897 [==============================] - 1s 852us/step\n",
      "897/897 [==============================] - 1s 867us/step\n",
      "897/897 [==============================] - 1s 873us/step\n",
      "897/897 [==============================] - 1s 870us/step\n",
      "897/897 [==============================] - 1s 861us/step\n",
      "897/897 [==============================] - 1s 887us/step\n",
      "897/897 [==============================] - 1s 886us/step\n",
      "897/897 [==============================] - 1s 869us/step\n",
      "897/897 [==============================] - 1s 857us/step\n",
      "897/897 [==============================] - 1s 873us/step\n",
      "897/897 [==============================] - 1s 864us/step\n",
      "897/897 [==============================] - 1s 861us/step\n",
      "897/897 [==============================] - 1s 840us/step\n",
      "897/897 [==============================] - 1s 823us/step\n",
      "897/897 [==============================] - 1s 832us/step\n",
      "897/897 [==============================] - 1s 890us/step\n",
      "897/897 [==============================] - 1s 888us/step\n",
      "897/897 [==============================] - 1s 871us/step\n",
      "897/897 [==============================] - 1s 871us/step\n",
      "897/897 [==============================] - 1s 877us/step\n",
      "897/897 [==============================] - 1s 861us/step\n",
      "897/897 [==============================] - 1s 862us/step\n",
      "897/897 [==============================] - 1s 831us/step\n",
      "897/897 [==============================] - 1s 879us/step\n",
      "897/897 [==============================] - 1s 896us/step\n",
      "897/897 [==============================] - 1s 899us/step\n",
      "897/897 [==============================] - 1s 880us/step\n",
      "897/897 [==============================] - 1s 850us/step\n",
      "897/897 [==============================] - 1s 862us/step\n",
      "897/897 [==============================] - 1s 856us/step\n",
      "897/897 [==============================] - 1s 852us/step\n",
      "897/897 [==============================] - 1s 863us/step\n",
      "897/897 [==============================] - 1s 852us/step\n",
      "897/897 [==============================] - 1s 856us/step\n",
      "897/897 [==============================] - 1s 848us/step\n",
      "897/897 [==============================] - 1s 875us/step\n",
      "897/897 [==============================] - 1s 854us/step\n",
      "897/897 [==============================] - 1s 875us/step\n",
      "897/897 [==============================] - 1s 863us/step\n",
      "897/897 [==============================] - 1s 801us/step\n",
      "897/897 [==============================] - 1s 846us/step\n",
      "897/897 [==============================] - 1s 862us/step\n",
      "897/897 [==============================] - 1s 847us/step\n",
      "897/897 [==============================] - 1s 838us/step\n",
      "897/897 [==============================] - 1s 860us/step\n",
      "897/897 [==============================] - 1s 841us/step\n",
      "897/897 [==============================] - 1s 858us/step\n",
      "897/897 [==============================] - 1s 837us/step\n",
      "897/897 [==============================] - 1s 857us/step\n",
      "897/897 [==============================] - 1s 867us/step\n",
      "897/897 [==============================] - 1s 859us/step\n",
      "897/897 [==============================] - 1s 861us/step\n",
      "897/897 [==============================] - 1s 855us/step\n",
      "897/897 [==============================] - 1s 823us/step\n",
      "897/897 [==============================] - 1s 849us/step\n",
      "897/897 [==============================] - 1s 845us/step\n",
      "897/897 [==============================] - 1s 865us/step\n",
      "897/897 [==============================] - 1s 874us/step\n",
      "897/897 [==============================] - 1s 857us/step\n",
      "897/897 [==============================] - 1s 854us/step\n",
      "897/897 [==============================] - 1s 852us/step\n",
      "897/897 [==============================] - 1s 853us/step\n",
      "897/897 [==============================] - 1s 861us/step\n",
      "897/897 [==============================] - 1s 869us/step\n",
      "897/897 [==============================] - 1s 861us/step\n",
      "897/897 [==============================] - 1s 881us/step\n",
      "897/897 [==============================] - 1s 933us/step\n",
      "897/897 [==============================] - 1s 861us/step\n",
      "897/897 [==============================] - 1s 813us/step\n",
      "897/897 [==============================] - 1s 848us/step\n",
      "897/897 [==============================] - 1s 865us/step\n",
      "897/897 [==============================] - 1s 848us/step\n",
      "897/897 [==============================] - 1s 885us/step\n",
      "897/897 [==============================] - 1s 845us/step\n",
      "897/897 [==============================] - 1s 861us/step\n",
      "897/897 [==============================] - 1s 793us/step\n",
      "897/897 [==============================] - 1s 856us/step\n",
      "897/897 [==============================] - 1s 863us/step\n",
      "897/897 [==============================] - 1s 838us/step\n",
      "897/897 [==============================] - 1s 848us/step\n",
      "897/897 [==============================] - 1s 875us/step\n",
      "897/897 [==============================] - 1s 807us/step\n",
      "897/897 [==============================] - 1s 845us/step\n",
      "897/897 [==============================] - 1s 889us/step\n",
      "897/897 [==============================] - 1s 856us/step\n",
      "897/897 [==============================] - 1s 831us/step\n",
      "897/897 [==============================] - 1s 855us/step\n",
      "897/897 [==============================] - 1s 849us/step\n",
      "897/897 [==============================] - 1s 869us/step\n",
      "897/897 [==============================] - 1s 868us/step\n",
      "897/897 [==============================] - 1s 855us/step\n",
      "897/897 [==============================] - 1s 788us/step\n",
      "897/897 [==============================] - 1s 880us/step\n",
      "897/897 [==============================] - 1s 866us/step\n",
      "897/897 [==============================] - 1s 867us/step\n",
      "897/897 [==============================] - 1s 866us/step\n",
      "897/897 [==============================] - 1s 884us/step\n",
      "897/897 [==============================] - 1s 856us/step\n",
      "897/897 [==============================] - 1s 866us/step\n",
      "897/897 [==============================] - 1s 862us/step\n",
      "897/897 [==============================] - 1s 857us/step\n",
      "897/897 [==============================] - 1s 863us/step\n",
      "897/897 [==============================] - 1s 859us/step\n",
      "897/897 [==============================] - 1s 793us/step\n",
      "897/897 [==============================] - 1s 858us/step\n",
      "897/897 [==============================] - 1s 850us/step\n",
      "897/897 [==============================] - 1s 848us/step\n",
      "897/897 [==============================] - 1s 826us/step\n",
      "897/897 [==============================] - 1s 915us/step\n",
      "897/897 [==============================] - 1s 845us/step\n",
      "897/897 [==============================] - 1s 882us/step\n",
      "897/897 [==============================] - 1s 860us/step\n",
      "897/897 [==============================] - 1s 867us/step\n",
      "897/897 [==============================] - 1s 857us/step\n",
      "897/897 [==============================] - 1s 845us/step\n",
      "897/897 [==============================] - 1s 877us/step\n",
      "897/897 [==============================] - 1s 863us/step\n",
      "897/897 [==============================] - 1s 840us/step\n",
      "897/897 [==============================] - 1s 855us/step\n",
      "897/897 [==============================] - 1s 858us/step\n",
      "897/897 [==============================] - 1s 853us/step\n",
      "897/897 [==============================] - 1s 875us/step\n",
      "897/897 [==============================] - 1s 840us/step\n",
      "897/897 [==============================] - 1s 855us/step\n",
      "897/897 [==============================] - 1s 844us/step\n",
      "897/897 [==============================] - 1s 879us/step\n",
      "897/897 [==============================] - 1s 842us/step\n",
      "897/897 [==============================] - 1s 887us/step\n",
      "897/897 [==============================] - 1s 844us/step\n",
      "897/897 [==============================] - 1s 852us/step\n",
      "897/897 [==============================] - 1s 842us/step\n",
      "897/897 [==============================] - 1s 854us/step\n",
      "897/897 [==============================] - 1s 843us/step\n",
      "897/897 [==============================] - 1s 855us/step\n",
      "897/897 [==============================] - 1s 856us/step\n",
      "897/897 [==============================] - 1s 843us/step\n",
      "897/897 [==============================] - 1s 863us/step\n",
      "897/897 [==============================] - 1s 849us/step\n",
      "897/897 [==============================] - 1s 884us/step\n",
      "897/897 [==============================] - 1s 853us/step\n",
      "897/897 [==============================] - 1s 879us/step\n",
      "897/897 [==============================] - 1s 837us/step\n",
      "897/897 [==============================] - 1s 869us/step\n",
      "897/897 [==============================] - 1s 861us/step\n",
      "897/897 [==============================] - 1s 876us/step\n",
      "897/897 [==============================] - 1s 800us/step\n",
      "897/897 [==============================] - 1s 844us/step\n",
      "897/897 [==============================] - 1s 839us/step\n",
      "897/897 [==============================] - 1s 837us/step\n",
      "897/897 [==============================] - 1s 816us/step\n",
      "897/897 [==============================] - 1s 859us/step\n",
      "897/897 [==============================] - 1s 853us/step\n",
      "897/897 [==============================] - 1s 867us/step\n",
      "897/897 [==============================] - 1s 863us/step\n",
      "897/897 [==============================] - 1s 830us/step\n",
      "897/897 [==============================] - 1s 838us/step\n",
      "897/897 [==============================] - 1s 828us/step\n",
      "897/897 [==============================] - 1s 862us/step\n",
      "897/897 [==============================] - 1s 843us/step\n",
      "897/897 [==============================] - 1s 840us/step\n",
      "897/897 [==============================] - 1s 853us/step\n",
      "897/897 [==============================] - 1s 870us/step\n",
      "897/897 [==============================] - 1s 848us/step\n",
      "897/897 [==============================] - 1s 833us/step\n",
      "897/897 [==============================] - 1s 842us/step\n",
      "897/897 [==============================] - 1s 844us/step\n",
      "897/897 [==============================] - 1s 847us/step\n",
      "897/897 [==============================] - 1s 844us/step\n",
      "897/897 [==============================] - 1s 838us/step\n",
      "897/897 [==============================] - 1s 883us/step\n",
      "897/897 [==============================] - 1s 861us/step\n",
      "897/897 [==============================] - 1s 807us/step\n",
      "897/897 [==============================] - 1s 864us/step\n",
      "897/897 [==============================] - 1s 857us/step\n",
      "897/897 [==============================] - 1s 865us/step\n",
      "897/897 [==============================] - 1s 865us/step\n",
      "897/897 [==============================] - 1s 904us/step\n",
      "897/897 [==============================] - 1s 892us/step\n",
      "897/897 [==============================] - 1s 918us/step\n",
      "897/897 [==============================] - 1s 856us/step\n",
      "897/897 [==============================] - 1s 856us/step\n",
      "897/897 [==============================] - 1s 793us/step\n",
      "897/897 [==============================] - 1s 864us/step\n",
      "897/897 [==============================] - 1s 873us/step\n",
      "897/897 [==============================] - 1s 849us/step\n",
      "897/897 [==============================] - 1s 839us/step\n",
      "897/897 [==============================] - 1s 834us/step\n",
      "897/897 [==============================] - 1s 851us/step\n",
      "897/897 [==============================] - 1s 867us/step\n",
      "897/897 [==============================] - 1s 858us/step\n",
      "897/897 [==============================] - 1s 864us/step\n",
      "897/897 [==============================] - 1s 834us/step\n",
      "897/897 [==============================] - 1s 859us/step\n",
      "897/897 [==============================] - 1s 862us/step\n",
      "897/897 [==============================] - 1s 846us/step\n",
      "897/897 [==============================] - 1s 860us/step\n",
      "897/897 [==============================] - 1s 874us/step\n",
      "897/897 [==============================] - 1s 852us/step\n",
      "897/897 [==============================] - 1s 871us/step\n",
      "897/897 [==============================] - 1s 840us/step\n",
      "897/897 [==============================] - 1s 873us/step\n",
      "897/897 [==============================] - 1s 867us/step\n",
      "897/897 [==============================] - 1s 865us/step\n",
      "897/897 [==============================] - 1s 869us/step\n",
      "897/897 [==============================] - 1s 863us/step\n",
      "897/897 [==============================] - 1s 872us/step\n",
      "897/897 [==============================] - 1s 857us/step\n",
      "897/897 [==============================] - 1s 847us/step\n",
      "897/897 [==============================] - 1s 864us/step\n",
      "897/897 [==============================] - 1s 870us/step\n",
      "897/897 [==============================] - 1s 867us/step\n",
      "897/897 [==============================] - 1s 861us/step\n",
      "897/897 [==============================] - 1s 845us/step\n",
      "897/897 [==============================] - 1s 878us/step\n",
      "897/897 [==============================] - 1s 866us/step\n",
      "897/897 [==============================] - 1s 847us/step\n",
      "897/897 [==============================] - 1s 873us/step\n",
      "897/897 [==============================] - 1s 851us/step\n",
      "897/897 [==============================] - 1s 856us/step\n",
      "897/897 [==============================] - 1s 860us/step\n",
      "897/897 [==============================] - 1s 899us/step\n",
      "897/897 [==============================] - 1s 876us/step\n",
      "897/897 [==============================] - 1s 863us/step\n",
      "897/897 [==============================] - 1s 852us/step\n",
      "897/897 [==============================] - 1s 845us/step\n",
      "897/897 [==============================] - 1s 847us/step\n",
      "897/897 [==============================] - 1s 851us/step\n",
      "897/897 [==============================] - 1s 856us/step\n",
      "897/897 [==============================] - 1s 839us/step\n",
      "897/897 [==============================] - 1s 879us/step\n",
      "897/897 [==============================] - 1s 873us/step\n",
      "897/897 [==============================] - 1s 815us/step\n",
      "897/897 [==============================] - 1s 879us/step\n",
      "897/897 [==============================] - 1s 876us/step\n",
      "897/897 [==============================] - 1s 831us/step\n",
      "897/897 [==============================] - 1s 843us/step\n",
      "897/897 [==============================] - 1s 850us/step\n",
      "897/897 [==============================] - 1s 857us/step\n",
      "897/897 [==============================] - 1s 843us/step\n",
      "897/897 [==============================] - 1s 868us/step\n",
      "897/897 [==============================] - 1s 845us/step\n",
      "897/897 [==============================] - 1s 848us/step\n",
      "897/897 [==============================] - 1s 829us/step\n",
      "897/897 [==============================] - 1s 853us/step\n",
      "897/897 [==============================] - 1s 842us/step\n",
      "897/897 [==============================] - 1s 866us/step\n",
      "897/897 [==============================] - 1s 816us/step\n",
      "897/897 [==============================] - 1s 848us/step\n",
      "897/897 [==============================] - 1s 838us/step\n",
      "897/897 [==============================] - 1s 872us/step\n",
      "897/897 [==============================] - 1s 842us/step\n",
      "897/897 [==============================] - 1s 868us/step\n",
      "897/897 [==============================] - 1s 861us/step\n",
      "897/897 [==============================] - 1s 938us/step\n",
      "897/897 [==============================] - 1s 866us/step\n",
      "897/897 [==============================] - 1s 851us/step\n",
      "897/897 [==============================] - 1s 864us/step\n",
      "897/897 [==============================] - 1s 868us/step\n",
      "897/897 [==============================] - 1s 843us/step\n",
      "897/897 [==============================] - 1s 830us/step\n",
      "897/897 [==============================] - 1s 880us/step\n",
      "897/897 [==============================] - 1s 798us/step\n",
      "897/897 [==============================] - 1s 867us/step\n",
      "897/897 [==============================] - 1s 856us/step\n",
      "897/897 [==============================] - 1s 856us/step\n",
      "897/897 [==============================] - 1s 838us/step\n",
      "897/897 [==============================] - 1s 853us/step\n",
      "897/897 [==============================] - 1s 846us/step\n",
      "897/897 [==============================] - 1s 877us/step\n",
      "897/897 [==============================] - 1s 845us/step\n",
      "897/897 [==============================] - 1s 859us/step\n",
      "897/897 [==============================] - 1s 854us/step\n",
      "897/897 [==============================] - 1s 853us/step\n",
      "897/897 [==============================] - 1s 873us/step\n",
      "897/897 [==============================] - 1s 875us/step\n",
      "897/897 [==============================] - 1s 825us/step\n",
      "897/897 [==============================] - 1s 885us/step\n",
      "897/897 [==============================] - 1s 869us/step\n",
      "897/897 [==============================] - 1s 865us/step\n",
      "897/897 [==============================] - 1s 865us/step\n",
      "897/897 [==============================] - 1s 860us/step\n",
      "897/897 [==============================] - 1s 868us/step\n",
      "897/897 [==============================] - 1s 862us/step\n",
      "897/897 [==============================] - 1s 857us/step\n",
      "897/897 [==============================] - 1s 857us/step\n",
      "897/897 [==============================] - 1s 854us/step\n",
      "897/897 [==============================] - 1s 826us/step\n",
      "897/897 [==============================] - 1s 864us/step\n",
      "897/897 [==============================] - 1s 866us/step\n",
      "897/897 [==============================] - 1s 938us/step\n",
      "897/897 [==============================] - 1s 864us/step\n",
      "897/897 [==============================] - 1s 850us/step\n",
      "897/897 [==============================] - 1s 862us/step\n",
      "897/897 [==============================] - 1s 794us/step\n",
      "897/897 [==============================] - 1s 868us/step\n",
      "897/897 [==============================] - 1s 844us/step\n",
      "897/897 [==============================] - 1s 867us/step\n",
      "897/897 [==============================] - 1s 875us/step\n",
      "897/897 [==============================] - 1s 848us/step\n",
      "897/897 [==============================] - 1s 873us/step\n",
      "897/897 [==============================] - 1s 843us/step\n",
      "897/897 [==============================] - 1s 882us/step\n",
      "897/897 [==============================] - 1s 861us/step\n",
      "897/897 [==============================] - 1s 835us/step\n",
      "897/897 [==============================] - 1s 830us/step\n",
      "897/897 [==============================] - 1s 902us/step\n",
      "897/897 [==============================] - 1s 868us/step\n",
      "897/897 [==============================] - 1s 834us/step\n",
      "897/897 [==============================] - 1s 855us/step\n",
      "897/897 [==============================] - 1s 809us/step\n",
      "897/897 [==============================] - 1s 883us/step\n",
      "897/897 [==============================] - 1s 843us/step\n",
      "897/897 [==============================] - 1s 852us/step\n",
      "897/897 [==============================] - 1s 850us/step\n",
      "897/897 [==============================] - 1s 845us/step\n",
      "897/897 [==============================] - 1s 836us/step\n",
      "897/897 [==============================] - 1s 858us/step\n",
      "897/897 [==============================] - 1s 828us/step\n",
      "897/897 [==============================] - 1s 856us/step\n",
      "897/897 [==============================] - 1s 872us/step\n",
      "897/897 [==============================] - 1s 868us/step\n",
      "897/897 [==============================] - 1s 925us/step\n",
      "897/897 [==============================] - 1s 865us/step\n",
      "897/897 [==============================] - 1s 862us/step\n",
      "897/897 [==============================] - 1s 870us/step\n",
      "897/897 [==============================] - 1s 863us/step\n",
      "897/897 [==============================] - 1s 858us/step\n",
      "897/897 [==============================] - 1s 809us/step\n",
      "897/897 [==============================] - 1s 846us/step\n",
      "897/897 [==============================] - 1s 855us/step\n",
      "897/897 [==============================] - 1s 877us/step\n",
      "897/897 [==============================] - 1s 856us/step\n",
      "897/897 [==============================] - 1s 844us/step\n",
      "897/897 [==============================] - 1s 843us/step\n",
      "897/897 [==============================] - 1s 867us/step\n",
      "897/897 [==============================] - 1s 876us/step\n",
      "897/897 [==============================] - 1s 865us/step\n",
      "897/897 [==============================] - 1s 890us/step\n",
      "897/897 [==============================] - 1s 826us/step\n",
      "897/897 [==============================] - 1s 887us/step\n",
      "897/897 [==============================] - 1s 872us/step\n",
      "897/897 [==============================] - 1s 822us/step\n",
      "897/897 [==============================] - 1s 863us/step\n",
      "897/897 [==============================] - 1s 866us/step\n",
      "897/897 [==============================] - 1s 852us/step\n",
      "897/897 [==============================] - 1s 865us/step\n",
      "897/897 [==============================] - 1s 864us/step\n",
      "897/897 [==============================] - 1s 854us/step\n",
      "897/897 [==============================] - 1s 859us/step\n",
      "897/897 [==============================] - 1s 832us/step\n",
      "897/897 [==============================] - 1s 874us/step\n",
      "897/897 [==============================] - 1s 842us/step\n",
      "897/897 [==============================] - 1s 869us/step\n",
      "897/897 [==============================] - 1s 871us/step\n",
      "897/897 [==============================] - 1s 862us/step\n",
      "897/897 [==============================] - 1s 890us/step\n",
      "897/897 [==============================] - 1s 865us/step\n",
      "897/897 [==============================] - 1s 875us/step\n",
      "897/897 [==============================] - 1s 799us/step\n",
      "897/897 [==============================] - 1s 856us/step\n",
      "897/897 [==============================] - 1s 837us/step\n",
      "897/897 [==============================] - 1s 873us/step\n",
      "897/897 [==============================] - 1s 828us/step\n",
      "897/897 [==============================] - 1s 852us/step\n",
      "897/897 [==============================] - 1s 869us/step\n",
      "897/897 [==============================] - 1s 865us/step\n",
      "897/897 [==============================] - 1s 847us/step\n",
      "897/897 [==============================] - 1s 864us/step\n",
      "897/897 [==============================] - 1s 853us/step\n",
      "897/897 [==============================] - 1s 850us/step\n",
      "897/897 [==============================] - 1s 832us/step\n",
      "897/897 [==============================] - 1s 830us/step\n",
      "897/897 [==============================] - 1s 852us/step\n",
      "897/897 [==============================] - 1s 847us/step\n",
      "897/897 [==============================] - 1s 856us/step\n",
      "897/897 [==============================] - 1s 859us/step\n",
      "897/897 [==============================] - 1s 862us/step\n",
      "897/897 [==============================] - 1s 852us/step\n",
      "897/897 [==============================] - 1s 894us/step\n",
      "897/897 [==============================] - 1s 854us/step\n",
      "897/897 [==============================] - 1s 880us/step\n",
      "897/897 [==============================] - 1s 791us/step\n",
      "897/897 [==============================] - 1s 884us/step\n",
      "897/897 [==============================] - 1s 856us/step\n",
      "897/897 [==============================] - 1s 868us/step\n",
      "897/897 [==============================] - 1s 873us/step\n",
      "897/897 [==============================] - 1s 855us/step\n",
      "897/897 [==============================] - 1s 880us/step\n",
      "897/897 [==============================] - 1s 850us/step\n",
      "897/897 [==============================] - 1s 856us/step\n",
      "897/897 [==============================] - 1s 844us/step\n",
      "897/897 [==============================] - 1s 870us/step\n",
      "897/897 [==============================] - 1s 861us/step\n",
      "897/897 [==============================] - 1s 857us/step\n",
      "897/897 [==============================] - 1s 851us/step\n",
      "897/897 [==============================] - 1s 888us/step\n",
      "897/897 [==============================] - 1s 855us/step\n",
      "897/897 [==============================] - 1s 814us/step\n",
      "897/897 [==============================] - 1s 867us/step\n",
      "897/897 [==============================] - 1s 869us/step\n",
      "897/897 [==============================] - 1s 854us/step\n",
      "897/897 [==============================] - 1s 864us/step\n",
      "897/897 [==============================] - 1s 873us/step\n",
      "897/897 [==============================] - 1s 848us/step\n",
      "897/897 [==============================] - 1s 887us/step\n",
      "897/897 [==============================] - 1s 869us/step\n",
      "897/897 [==============================] - 1s 835us/step\n",
      "897/897 [==============================] - 1s 834us/step\n",
      "897/897 [==============================] - 1s 869us/step\n",
      "897/897 [==============================] - 1s 857us/step\n",
      "897/897 [==============================] - 1s 875us/step\n",
      "897/897 [==============================] - 1s 862us/step\n",
      "897/897 [==============================] - 1s 849us/step\n",
      "897/897 [==============================] - 1s 873us/step\n",
      "897/897 [==============================] - 1s 859us/step\n",
      "897/897 [==============================] - 1s 806us/step\n",
      "897/897 [==============================] - 1s 877us/step\n",
      "897/897 [==============================] - 1s 806us/step\n",
      "897/897 [==============================] - 1s 868us/step\n",
      "897/897 [==============================] - 1s 864us/step\n",
      "897/897 [==============================] - 1s 846us/step\n",
      "897/897 [==============================] - 1s 876us/step\n",
      "897/897 [==============================] - 1s 859us/step\n",
      "897/897 [==============================] - 1s 864us/step\n",
      "897/897 [==============================] - 1s 864us/step\n",
      "897/897 [==============================] - 1s 870us/step\n",
      "897/897 [==============================] - 1s 858us/step\n",
      "897/897 [==============================] - 1s 872us/step\n",
      "897/897 [==============================] - 1s 876us/step\n",
      "897/897 [==============================] - 1s 812us/step\n",
      "897/897 [==============================] - 1s 891us/step\n",
      "897/897 [==============================] - 1s 829us/step\n",
      "897/897 [==============================] - 1s 879us/step\n",
      "897/897 [==============================] - 1s 854us/step\n",
      "897/897 [==============================] - 1s 868us/step\n",
      "897/897 [==============================] - 1s 854us/step\n",
      "897/897 [==============================] - 1s 868us/step\n",
      "897/897 [==============================] - 1s 880us/step\n",
      "897/897 [==============================] - 1s 829us/step\n",
      "897/897 [==============================] - 1s 877us/step\n",
      "897/897 [==============================] - 1s 836us/step\n",
      "897/897 [==============================] - 1s 937us/step\n",
      "897/897 [==============================] - 1s 888us/step\n",
      "897/897 [==============================] - 1s 862us/step\n",
      "897/897 [==============================] - 1s 862us/step\n",
      "897/897 [==============================] - 1s 864us/step\n",
      "897/897 [==============================] - 1s 831us/step\n",
      "897/897 [==============================] - 1s 855us/step\n",
      "897/897 [==============================] - 1s 851us/step\n",
      "897/897 [==============================] - 1s 866us/step\n",
      "897/897 [==============================] - 1s 871us/step\n",
      "897/897 [==============================] - 1s 910us/step\n",
      "897/897 [==============================] - 1s 841us/step\n",
      "897/897 [==============================] - 1s 863us/step\n",
      "897/897 [==============================] - 1s 853us/step\n",
      "897/897 [==============================] - 1s 844us/step\n",
      "897/897 [==============================] - 1s 883us/step\n",
      "897/897 [==============================] - 1s 856us/step\n",
      "897/897 [==============================] - 1s 882us/step\n",
      "897/897 [==============================] - 1s 829us/step\n",
      "897/897 [==============================] - 1s 875us/step\n",
      "897/897 [==============================] - 1s 858us/step\n",
      "897/897 [==============================] - 1s 870us/step\n",
      "897/897 [==============================] - 1s 854us/step\n",
      "897/897 [==============================] - 1s 845us/step\n",
      "897/897 [==============================] - 1s 866us/step\n",
      "897/897 [==============================] - 1s 874us/step\n",
      "897/897 [==============================] - 1s 846us/step\n",
      "897/897 [==============================] - 1s 862us/step\n",
      "897/897 [==============================] - 1s 896us/step\n",
      "897/897 [==============================] - 1s 862us/step\n",
      "897/897 [==============================] - 1s 881us/step\n",
      "897/897 [==============================] - 1s 863us/step\n",
      "897/897 [==============================] - 1s 830us/step\n",
      "897/897 [==============================] - 1s 879us/step\n",
      "897/897 [==============================] - 1s 859us/step\n",
      "897/897 [==============================] - 1s 838us/step\n",
      "897/897 [==============================] - 1s 877us/step\n",
      "897/897 [==============================] - 1s 856us/step\n",
      "897/897 [==============================] - 1s 837us/step\n",
      "897/897 [==============================] - 1s 879us/step\n",
      "897/897 [==============================] - 1s 856us/step\n",
      "897/897 [==============================] - 1s 868us/step\n",
      "897/897 [==============================] - 1s 874us/step\n",
      "897/897 [==============================] - 1s 862us/step\n",
      "897/897 [==============================] - 1s 869us/step\n",
      "897/897 [==============================] - 1s 873us/step\n",
      "897/897 [==============================] - 1s 858us/step\n",
      "897/897 [==============================] - 1s 866us/step\n",
      "897/897 [==============================] - 1s 851us/step\n",
      "897/897 [==============================] - 1s 883us/step\n",
      "897/897 [==============================] - 1s 864us/step\n",
      "897/897 [==============================] - 1s 845us/step\n",
      "897/897 [==============================] - 1s 860us/step\n",
      "897/897 [==============================] - 1s 854us/step\n",
      "897/897 [==============================] - 1s 849us/step\n",
      "897/897 [==============================] - 1s 852us/step\n",
      "897/897 [==============================] - 1s 860us/step\n",
      "897/897 [==============================] - 1s 931us/step\n",
      "897/897 [==============================] - 1s 889us/step\n",
      "897/897 [==============================] - 1s 864us/step\n",
      "897/897 [==============================] - 1s 874us/step\n",
      "897/897 [==============================] - 1s 879us/step\n",
      "897/897 [==============================] - 1s 871us/step\n",
      "897/897 [==============================] - 1s 870us/step\n",
      "897/897 [==============================] - 1s 881us/step\n",
      "897/897 [==============================] - 1s 870us/step\n",
      "897/897 [==============================] - 1s 861us/step\n",
      "897/897 [==============================] - 1s 872us/step\n",
      "897/897 [==============================] - 1s 861us/step\n",
      "897/897 [==============================] - 1s 881us/step\n",
      "897/897 [==============================] - 1s 832us/step\n",
      "897/897 [==============================] - 1s 875us/step\n",
      "897/897 [==============================] - 1s 829us/step\n",
      "897/897 [==============================] - 1s 868us/step\n",
      "897/897 [==============================] - 1s 858us/step\n",
      "897/897 [==============================] - 1s 876us/step\n",
      "897/897 [==============================] - 1s 875us/step\n",
      "897/897 [==============================] - 1s 865us/step\n",
      "897/897 [==============================] - 1s 844us/step\n",
      "897/897 [==============================] - 1s 872us/step\n",
      "897/897 [==============================] - 1s 839us/step\n",
      "897/897 [==============================] - 1s 875us/step\n",
      "897/897 [==============================] - 1s 837us/step\n",
      "897/897 [==============================] - 1s 854us/step\n",
      "897/897 [==============================] - 1s 846us/step\n",
      "897/897 [==============================] - 1s 846us/step\n",
      "897/897 [==============================] - 1s 932us/step\n",
      "897/897 [==============================] - 1s 843us/step\n",
      "897/897 [==============================] - 1s 873us/step\n",
      "897/897 [==============================] - 1s 852us/step\n",
      "897/897 [==============================] - 1s 839us/step\n",
      "897/897 [==============================] - 1s 873us/step\n",
      "897/897 [==============================] - 1s 810us/step\n",
      "897/897 [==============================] - 1s 848us/step\n",
      "897/897 [==============================] - 1s 836us/step\n",
      "897/897 [==============================] - 1s 878us/step\n",
      "897/897 [==============================] - 1s 832us/step\n",
      "897/897 [==============================] - 1s 844us/step\n",
      "897/897 [==============================] - 1s 878us/step\n",
      "897/897 [==============================] - 1s 876us/step\n",
      "897/897 [==============================] - 1s 828us/step\n",
      "897/897 [==============================] - 1s 863us/step\n",
      "897/897 [==============================] - 1s 832us/step\n",
      "897/897 [==============================] - 1s 880us/step\n",
      "897/897 [==============================] - 1s 859us/step\n",
      "897/897 [==============================] - 1s 874us/step\n",
      "897/897 [==============================] - 1s 876us/step\n",
      "897/897 [==============================] - 1s 864us/step\n",
      "897/897 [==============================] - 1s 836us/step\n",
      "897/897 [==============================] - 1s 857us/step\n",
      "897/897 [==============================] - 1s 835us/step\n",
      "897/897 [==============================] - 1s 848us/step\n",
      "897/897 [==============================] - 1s 866us/step\n",
      "897/897 [==============================] - 1s 865us/step\n",
      "897/897 [==============================] - 1s 814us/step\n",
      "897/897 [==============================] - 1s 843us/step\n",
      "897/897 [==============================] - 1s 861us/step\n",
      "897/897 [==============================] - 1s 857us/step\n",
      "897/897 [==============================] - 1s 853us/step\n",
      "897/897 [==============================] - 1s 828us/step\n",
      "897/897 [==============================] - 1s 855us/step\n",
      "897/897 [==============================] - 1s 893us/step\n",
      "897/897 [==============================] - 1s 825us/step\n",
      "897/897 [==============================] - 1s 884us/step\n",
      "897/897 [==============================] - 1s 860us/step\n",
      "897/897 [==============================] - 1s 838us/step\n",
      "897/897 [==============================] - 1s 855us/step\n",
      "897/897 [==============================] - 1s 866us/step\n",
      "897/897 [==============================] - 1s 864us/step\n",
      "897/897 [==============================] - 1s 890us/step\n",
      "897/897 [==============================] - 1s 863us/step\n",
      "897/897 [==============================] - 1s 846us/step\n",
      "897/897 [==============================] - 1s 850us/step\n",
      "897/897 [==============================] - 1s 860us/step\n",
      "897/897 [==============================] - 1s 818us/step\n",
      "897/897 [==============================] - 1s 858us/step\n",
      "897/897 [==============================] - 1s 847us/step\n",
      "897/897 [==============================] - 1s 843us/step\n",
      "897/897 [==============================] - 1s 848us/step\n",
      "897/897 [==============================] - 1s 869us/step\n",
      "897/897 [==============================] - 1s 839us/step\n",
      "897/897 [==============================] - 1s 919us/step\n",
      "897/897 [==============================] - 1s 855us/step\n",
      "897/897 [==============================] - 1s 871us/step\n",
      "897/897 [==============================] - 1s 858us/step\n",
      "897/897 [==============================] - 1s 862us/step\n",
      "897/897 [==============================] - 1s 869us/step\n",
      "897/897 [==============================] - 1s 868us/step\n",
      "897/897 [==============================] - 1s 854us/step\n",
      "897/897 [==============================] - 1s 847us/step\n",
      "897/897 [==============================] - 1s 856us/step\n",
      "897/897 [==============================] - 1s 870us/step\n",
      "897/897 [==============================] - 1s 842us/step\n",
      "897/897 [==============================] - 1s 875us/step\n",
      "897/897 [==============================] - 1s 876us/step\n",
      "897/897 [==============================] - 1s 866us/step\n",
      "897/897 [==============================] - 1s 825us/step\n",
      "897/897 [==============================] - 1s 862us/step\n",
      "897/897 [==============================] - 1s 868us/step\n",
      "897/897 [==============================] - 1s 883us/step\n",
      "897/897 [==============================] - 1s 856us/step\n",
      "897/897 [==============================] - 1s 822us/step\n",
      "897/897 [==============================] - 1s 865us/step\n",
      "897/897 [==============================] - 1s 877us/step\n",
      "897/897 [==============================] - 1s 884us/step\n",
      "897/897 [==============================] - 1s 876us/step\n",
      "897/897 [==============================] - 1s 866us/step\n",
      "897/897 [==============================] - 1s 860us/step\n",
      "897/897 [==============================] - 1s 858us/step\n",
      "897/897 [==============================] - 1s 849us/step\n",
      "897/897 [==============================] - 1s 852us/step\n",
      "897/897 [==============================] - 1s 842us/step\n",
      "897/897 [==============================] - 1s 885us/step\n",
      "897/897 [==============================] - 1s 836us/step\n",
      "897/897 [==============================] - 1s 846us/step\n",
      "897/897 [==============================] - 1s 862us/step\n",
      "897/897 [==============================] - 1s 816us/step\n",
      "897/897 [==============================] - 1s 866us/step\n",
      "897/897 [==============================] - 1s 815us/step\n",
      "897/897 [==============================] - 1s 869us/step\n",
      "897/897 [==============================] - 1s 834us/step\n",
      "897/897 [==============================] - 1s 889us/step\n",
      "897/897 [==============================] - 1s 872us/step\n",
      "897/897 [==============================] - 1s 871us/step\n",
      "897/897 [==============================] - 1s 878us/step\n",
      "897/897 [==============================] - 1s 880us/step\n",
      "897/897 [==============================] - 1s 858us/step\n",
      "897/897 [==============================] - 1s 878us/step\n",
      "897/897 [==============================] - 1s 879us/step\n",
      "897/897 [==============================] - 1s 853us/step\n",
      "897/897 [==============================] - 1s 853us/step\n",
      "897/897 [==============================] - 1s 881us/step\n",
      "897/897 [==============================] - 1s 858us/step\n",
      "897/897 [==============================] - 1s 877us/step\n",
      "897/897 [==============================] - 1s 869us/step\n",
      "897/897 [==============================] - 1s 883us/step\n",
      "897/897 [==============================] - 1s 868us/step\n",
      "897/897 [==============================] - 1s 851us/step\n",
      "897/897 [==============================] - 1s 896us/step\n",
      "897/897 [==============================] - 1s 842us/step\n",
      "897/897 [==============================] - 1s 871us/step\n",
      "897/897 [==============================] - 1s 870us/step\n",
      "897/897 [==============================] - 1s 868us/step\n",
      "897/897 [==============================] - 1s 864us/step\n",
      "897/897 [==============================] - 1s 846us/step\n",
      "897/897 [==============================] - 1s 864us/step\n",
      "897/897 [==============================] - 1s 862us/step\n",
      "897/897 [==============================] - 1s 857us/step\n",
      "897/897 [==============================] - 1s 866us/step\n",
      "897/897 [==============================] - 1s 903us/step\n",
      "897/897 [==============================] - 1s 838us/step\n",
      "897/897 [==============================] - 1s 870us/step\n",
      "897/897 [==============================] - 1s 859us/step\n",
      "897/897 [==============================] - 1s 844us/step\n",
      "897/897 [==============================] - 1s 872us/step\n",
      "897/897 [==============================] - 1s 856us/step\n",
      "897/897 [==============================] - 1s 870us/step\n",
      "897/897 [==============================] - 1s 943us/step\n",
      "897/897 [==============================] - 1s 820us/step\n",
      "897/897 [==============================] - 1s 867us/step\n",
      "897/897 [==============================] - 1s 854us/step\n",
      "897/897 [==============================] - 1s 874us/step\n",
      "897/897 [==============================] - 1s 876us/step\n",
      "897/897 [==============================] - 1s 824us/step\n",
      "897/897 [==============================] - 1s 873us/step\n",
      "897/897 [==============================] - 1s 870us/step\n",
      "897/897 [==============================] - 1s 852us/step\n",
      "897/897 [==============================] - 1s 881us/step\n",
      "897/897 [==============================] - 1s 859us/step\n",
      "897/897 [==============================] - 1s 843us/step\n",
      "897/897 [==============================] - 1s 881us/step\n",
      "897/897 [==============================] - 1s 854us/step\n",
      "897/897 [==============================] - 1s 872us/step\n",
      "897/897 [==============================] - 1s 887us/step\n",
      "897/897 [==============================] - 1s 912us/step\n",
      "897/897 [==============================] - 1s 865us/step\n",
      "897/897 [==============================] - 1s 851us/step\n",
      "897/897 [==============================] - 1s 898us/step\n",
      "897/897 [==============================] - 1s 812us/step\n",
      "897/897 [==============================] - 1s 870us/step\n",
      "897/897 [==============================] - 1s 916us/step\n",
      "897/897 [==============================] - 1s 867us/step\n",
      "897/897 [==============================] - 1s 886us/step\n",
      "897/897 [==============================] - 1s 859us/step\n",
      "897/897 [==============================] - 1s 904us/step\n",
      "897/897 [==============================] - 1s 868us/step\n",
      "897/897 [==============================] - 1s 861us/step\n",
      "897/897 [==============================] - 1s 862us/step\n",
      "897/897 [==============================] - 1s 818us/step\n",
      "897/897 [==============================] - 1s 871us/step\n",
      "897/897 [==============================] - 1s 850us/step\n",
      "897/897 [==============================] - 1s 804us/step\n",
      "897/897 [==============================] - 1s 848us/step\n",
      "897/897 [==============================] - 1s 849us/step\n",
      "897/897 [==============================] - 1s 1ms/step\n",
      "897/897 [==============================] - 10887s 12s/step\n",
      "897/897 [==============================] - 1s 882us/step\n",
      "897/897 [==============================] - 1s 927us/step\n",
      "897/897 [==============================] - 1s 878us/step\n",
      "897/897 [==============================] - 1s 915us/step\n",
      "897/897 [==============================] - 1s 891us/step\n",
      "897/897 [==============================] - 1s 899us/step\n",
      "897/897 [==============================] - 1s 929us/step\n",
      "897/897 [==============================] - 1s 905us/step\n",
      "897/897 [==============================] - 1s 903us/step\n",
      "897/897 [==============================] - 1s 1ms/step\n",
      "897/897 [==============================] - 1s 952us/step\n",
      "897/897 [==============================] - 1s 892us/step\n",
      "897/897 [==============================] - 1s 860us/step\n",
      "897/897 [==============================] - 1s 869us/step\n",
      "897/897 [==============================] - 1s 836us/step\n",
      "897/897 [==============================] - 1s 900us/step\n",
      "897/897 [==============================] - 1s 826us/step\n",
      "897/897 [==============================] - 1s 866us/step\n",
      "897/897 [==============================] - 1s 861us/step\n",
      "897/897 [==============================] - 1s 894us/step\n",
      "897/897 [==============================] - 1s 903us/step\n",
      "897/897 [==============================] - 1s 873us/step\n",
      "897/897 [==============================] - 1s 867us/step\n",
      "897/897 [==============================] - 1s 868us/step\n",
      "897/897 [==============================] - 1s 891us/step\n",
      "897/897 [==============================] - 1s 870us/step\n",
      "897/897 [==============================] - 1s 861us/step\n",
      "897/897 [==============================] - 1s 851us/step\n",
      "897/897 [==============================] - 1s 868us/step\n",
      "897/897 [==============================] - 1s 860us/step\n",
      "897/897 [==============================] - 1s 827us/step\n",
      "897/897 [==============================] - 1s 846us/step\n",
      "897/897 [==============================] - 1s 848us/step\n",
      "897/897 [==============================] - 1s 854us/step\n",
      "897/897 [==============================] - 1s 859us/step\n",
      "897/897 [==============================] - 1s 863us/step\n",
      "897/897 [==============================] - 1s 834us/step\n",
      "897/897 [==============================] - 1s 854us/step\n",
      "897/897 [==============================] - 1s 877us/step\n",
      "897/897 [==============================] - 1s 884us/step\n",
      "897/897 [==============================] - 1s 885us/step\n",
      "897/897 [==============================] - 1s 860us/step\n",
      "897/897 [==============================] - 1s 871us/step\n",
      "897/897 [==============================] - 1s 875us/step\n",
      "897/897 [==============================] - 1s 868us/step\n",
      "897/897 [==============================] - 1s 876us/step\n",
      "897/897 [==============================] - 1s 868us/step\n",
      "897/897 [==============================] - 1s 853us/step\n",
      "897/897 [==============================] - 1s 929us/step\n",
      "897/897 [==============================] - 1s 956us/step\n",
      "897/897 [==============================] - 1s 1ms/step\n",
      "897/897 [==============================] - 1s 932us/step\n",
      "897/897 [==============================] - 1s 878us/step\n",
      "897/897 [==============================] - 1s 856us/step\n",
      "897/897 [==============================] - 1s 873us/step\n",
      "897/897 [==============================] - 1s 872us/step\n",
      "897/897 [==============================] - 1s 839us/step\n",
      "897/897 [==============================] - 1s 864us/step\n",
      "897/897 [==============================] - 1s 851us/step\n",
      "897/897 [==============================] - 1s 882us/step\n",
      "897/897 [==============================] - 1s 865us/step\n",
      "897/897 [==============================] - 1s 883us/step\n",
      "897/897 [==============================] - 1s 878us/step\n",
      "897/897 [==============================] - 1s 878us/step\n",
      "897/897 [==============================] - 1s 834us/step\n",
      "897/897 [==============================] - 1s 875us/step\n",
      "897/897 [==============================] - 1s 875us/step\n",
      "897/897 [==============================] - 1s 869us/step\n",
      "897/897 [==============================] - 1s 872us/step\n",
      "897/897 [==============================] - 1s 874us/step\n",
      "897/897 [==============================] - 1s 891us/step\n",
      "897/897 [==============================] - 1s 868us/step\n",
      "897/897 [==============================] - 1s 862us/step\n",
      "897/897 [==============================] - 1s 876us/step\n",
      "897/897 [==============================] - 1s 829us/step\n",
      "897/897 [==============================] - 1s 862us/step\n",
      "897/897 [==============================] - 1s 868us/step\n",
      "897/897 [==============================] - 1s 858us/step\n",
      "897/897 [==============================] - 1s 882us/step\n",
      "897/897 [==============================] - 1s 848us/step\n",
      "897/897 [==============================] - 1s 862us/step\n",
      "897/897 [==============================] - 1s 891us/step\n",
      "897/897 [==============================] - 1s 863us/step\n",
      "897/897 [==============================] - 1s 870us/step\n",
      "897/897 [==============================] - 1s 882us/step\n",
      "897/897 [==============================] - 1s 853us/step\n",
      "897/897 [==============================] - 1s 864us/step\n",
      "897/897 [==============================] - 1s 897us/step\n",
      "897/897 [==============================] - 1s 894us/step\n",
      "897/897 [==============================] - 1s 878us/step\n",
      "897/897 [==============================] - 1s 854us/step\n",
      "897/897 [==============================] - 1s 896us/step\n",
      "897/897 [==============================] - 1s 837us/step\n",
      "897/897 [==============================] - 1s 901us/step\n",
      "897/897 [==============================] - 1s 850us/step\n",
      "897/897 [==============================] - 1s 861us/step\n",
      "897/897 [==============================] - 1s 878us/step\n",
      "897/897 [==============================] - 1s 861us/step\n",
      "897/897 [==============================] - 1s 851us/step\n",
      "897/897 [==============================] - 1s 865us/step\n",
      "897/897 [==============================] - 1s 871us/step\n",
      "897/897 [==============================] - 1s 849us/step\n",
      "897/897 [==============================] - 1s 866us/step\n",
      "897/897 [==============================] - 1s 863us/step\n",
      "897/897 [==============================] - 1s 876us/step\n",
      "897/897 [==============================] - 1s 872us/step\n",
      "897/897 [==============================] - 1s 837us/step\n",
      "897/897 [==============================] - 1s 863us/step\n",
      "897/897 [==============================] - 1s 862us/step\n",
      "897/897 [==============================] - 1s 886us/step\n",
      "897/897 [==============================] - 1s 879us/step\n",
      "897/897 [==============================] - 1s 869us/step\n",
      "897/897 [==============================] - 1s 853us/step\n",
      "897/897 [==============================] - 1s 866us/step\n",
      "897/897 [==============================] - 1s 882us/step\n",
      "897/897 [==============================] - 1s 881us/step\n",
      "897/897 [==============================] - 1s 862us/step\n",
      "897/897 [==============================] - 1s 871us/step\n",
      "897/897 [==============================] - 1s 853us/step\n",
      "897/897 [==============================] - 1s 877us/step\n",
      "897/897 [==============================] - 1s 886us/step\n",
      "897/897 [==============================] - 1s 883us/step\n",
      "897/897 [==============================] - 1s 877us/step\n",
      "897/897 [==============================] - 1s 869us/step\n",
      "897/897 [==============================] - 1s 868us/step\n",
      "897/897 [==============================] - 1s 871us/step\n",
      "897/897 [==============================] - 1s 872us/step\n",
      "897/897 [==============================] - 1s 858us/step\n",
      "897/897 [==============================] - 1s 866us/step\n",
      "897/897 [==============================] - 1s 891us/step\n",
      "897/897 [==============================] - 1s 872us/step\n",
      "897/897 [==============================] - 1s 867us/step\n",
      "897/897 [==============================] - 1s 877us/step\n",
      "897/897 [==============================] - 1s 852us/step\n",
      "897/897 [==============================] - 1s 874us/step\n",
      "897/897 [==============================] - 1s 866us/step\n",
      "897/897 [==============================] - 1s 904us/step\n",
      "897/897 [==============================] - 1s 870us/step\n",
      "897/897 [==============================] - 1s 898us/step\n",
      "897/897 [==============================] - 1s 882us/step\n",
      "897/897 [==============================] - 1s 865us/step\n",
      "897/897 [==============================] - 1s 866us/step\n",
      "897/897 [==============================] - 1s 865us/step\n",
      "897/897 [==============================] - 1s 860us/step\n",
      "897/897 [==============================] - 1s 846us/step\n",
      "897/897 [==============================] - 1s 876us/step\n",
      "897/897 [==============================] - 1s 881us/step\n",
      "897/897 [==============================] - 1s 845us/step\n",
      "897/897 [==============================] - 1s 872us/step\n",
      "897/897 [==============================] - 1s 863us/step\n",
      "897/897 [==============================] - 1s 839us/step\n",
      "897/897 [==============================] - 1s 873us/step\n",
      "897/897 [==============================] - 1s 850us/step\n",
      "897/897 [==============================] - 1s 888us/step\n",
      "897/897 [==============================] - 1s 872us/step\n",
      "897/897 [==============================] - 1s 908us/step\n",
      "897/897 [==============================] - 1s 863us/step\n",
      "897/897 [==============================] - 1s 856us/step\n",
      "897/897 [==============================] - 1s 868us/step\n",
      "897/897 [==============================] - 1s 843us/step\n",
      "897/897 [==============================] - 1s 852us/step\n",
      "897/897 [==============================] - 1s 882us/step\n",
      "897/897 [==============================] - 1s 835us/step\n",
      "897/897 [==============================] - 1s 794us/step\n",
      "897/897 [==============================] - 1s 867us/step\n",
      "897/897 [==============================] - 1s 882us/step\n",
      "897/897 [==============================] - 1s 898us/step\n",
      "897/897 [==============================] - 1s 888us/step\n",
      "897/897 [==============================] - 1s 866us/step\n",
      "897/897 [==============================] - 1s 864us/step\n",
      "897/897 [==============================] - 1s 828us/step\n",
      "897/897 [==============================] - 1s 959us/step\n",
      "897/897 [==============================] - 1s 860us/step\n",
      "897/897 [==============================] - 1s 859us/step\n",
      "897/897 [==============================] - 1s 869us/step\n",
      "897/897 [==============================] - 1s 871us/step\n",
      "897/897 [==============================] - 1s 877us/step\n",
      "897/897 [==============================] - 1s 862us/step\n",
      "897/897 [==============================] - 1s 868us/step\n",
      "897/897 [==============================] - 1s 918us/step\n",
      "897/897 [==============================] - 1s 882us/step\n",
      "897/897 [==============================] - 1s 893us/step\n",
      "897/897 [==============================] - 1s 849us/step\n",
      "897/897 [==============================] - 1s 860us/step\n",
      "897/897 [==============================] - 1s 866us/step\n",
      "897/897 [==============================] - 1s 854us/step\n",
      "897/897 [==============================] - 1s 814us/step\n",
      "897/897 [==============================] - 1s 875us/step\n",
      "897/897 [==============================] - 1s 866us/step\n",
      "897/897 [==============================] - 1s 869us/step\n",
      "897/897 [==============================] - 1s 884us/step\n",
      "897/897 [==============================] - 1s 862us/step\n",
      "897/897 [==============================] - 1s 912us/step\n",
      "897/897 [==============================] - 1s 910us/step\n",
      "897/897 [==============================] - 1s 848us/step\n",
      "897/897 [==============================] - 1s 863us/step\n",
      "897/897 [==============================] - 1s 890us/step\n",
      "897/897 [==============================] - 1s 868us/step\n",
      "897/897 [==============================] - 1s 875us/step\n",
      "897/897 [==============================] - 1s 867us/step\n",
      "897/897 [==============================] - 1s 858us/step\n",
      "897/897 [==============================] - 1s 878us/step\n",
      "897/897 [==============================] - 1s 880us/step\n",
      "897/897 [==============================] - 1s 861us/step\n",
      "897/897 [==============================] - 1s 866us/step\n",
      "897/897 [==============================] - 1s 897us/step\n",
      "897/897 [==============================] - 1s 847us/step\n",
      "897/897 [==============================] - 1s 889us/step\n",
      "897/897 [==============================] - 1s 867us/step\n",
      "897/897 [==============================] - 1s 884us/step\n",
      "897/897 [==============================] - 1s 874us/step\n",
      "897/897 [==============================] - 1s 885us/step\n",
      "897/897 [==============================] - 1s 882us/step\n",
      "897/897 [==============================] - 1s 872us/step\n",
      "897/897 [==============================] - 1s 866us/step\n",
      "897/897 [==============================] - 1s 868us/step\n",
      "897/897 [==============================] - 1s 846us/step\n",
      "897/897 [==============================] - 1s 862us/step\n",
      "897/897 [==============================] - 1s 858us/step\n",
      "897/897 [==============================] - 1s 854us/step\n",
      "897/897 [==============================] - 1s 857us/step\n",
      "897/897 [==============================] - 1s 880us/step\n",
      "897/897 [==============================] - 1s 904us/step\n",
      "897/897 [==============================] - 1s 872us/step\n",
      "897/897 [==============================] - 1s 881us/step\n",
      "897/897 [==============================] - 1s 885us/step\n",
      "897/897 [==============================] - 1s 836us/step\n",
      "897/897 [==============================] - 1s 890us/step\n",
      "897/897 [==============================] - 1s 900us/step\n",
      "897/897 [==============================] - 1s 855us/step\n",
      "897/897 [==============================] - 1s 860us/step\n",
      "897/897 [==============================] - 1s 864us/step\n",
      "897/897 [==============================] - 1s 869us/step\n",
      "897/897 [==============================] - 1s 866us/step\n",
      "897/897 [==============================] - 1s 861us/step\n",
      "897/897 [==============================] - 1s 842us/step\n",
      "897/897 [==============================] - 1s 849us/step\n",
      "897/897 [==============================] - 1s 861us/step\n",
      "897/897 [==============================] - 1s 826us/step\n",
      "897/897 [==============================] - 1s 872us/step\n",
      "897/897 [==============================] - 1s 847us/step\n",
      "897/897 [==============================] - 1s 859us/step\n",
      "897/897 [==============================] - 1s 861us/step\n",
      "897/897 [==============================] - 1s 878us/step\n",
      "897/897 [==============================] - 1s 889us/step\n",
      "897/897 [==============================] - 1s 859us/step\n",
      "897/897 [==============================] - 1s 831us/step\n",
      "897/897 [==============================] - 1s 877us/step\n",
      "897/897 [==============================] - 1s 873us/step\n",
      "897/897 [==============================] - 1s 868us/step\n",
      "897/897 [==============================] - 1s 855us/step\n",
      "897/897 [==============================] - 1s 861us/step\n",
      "897/897 [==============================] - 1s 890us/step\n",
      "897/897 [==============================] - 1s 854us/step\n",
      "897/897 [==============================] - 1s 840us/step\n",
      "897/897 [==============================] - 1s 854us/step\n",
      "897/897 [==============================] - 1s 879us/step\n",
      "897/897 [==============================] - 1s 867us/step\n",
      "897/897 [==============================] - 1s 865us/step\n",
      "897/897 [==============================] - 1s 851us/step\n",
      "897/897 [==============================] - 1s 882us/step\n",
      "897/897 [==============================] - 1s 862us/step\n",
      "897/897 [==============================] - 1s 930us/step\n",
      "897/897 [==============================] - 1s 884us/step\n",
      "897/897 [==============================] - 1s 859us/step\n",
      "897/897 [==============================] - 1s 861us/step\n",
      "897/897 [==============================] - 1s 844us/step\n",
      "897/897 [==============================] - 1s 862us/step\n",
      "897/897 [==============================] - 1s 875us/step\n",
      "897/897 [==============================] - 1s 912us/step\n",
      "897/897 [==============================] - 1s 844us/step\n",
      "897/897 [==============================] - 1s 872us/step\n",
      "897/897 [==============================] - 1s 857us/step\n",
      "897/897 [==============================] - 1s 865us/step\n",
      "897/897 [==============================] - 1s 971us/step\n",
      "897/897 [==============================] - 1s 902us/step\n",
      "897/897 [==============================] - 1s 857us/step\n",
      "897/897 [==============================] - 1s 890us/step\n",
      "897/897 [==============================] - 1s 911us/step\n",
      "897/897 [==============================] - 1s 926us/step\n",
      "897/897 [==============================] - 1s 882us/step\n",
      "897/897 [==============================] - 1s 884us/step\n",
      "897/897 [==============================] - 1s 861us/step\n",
      "897/897 [==============================] - 1s 886us/step\n",
      "897/897 [==============================] - 1s 886us/step\n",
      "897/897 [==============================] - 1s 894us/step\n",
      "897/897 [==============================] - 1s 899us/step\n",
      "897/897 [==============================] - 1s 970us/step\n",
      "897/897 [==============================] - 1s 907us/step\n",
      "897/897 [==============================] - 1s 835us/step\n",
      "897/897 [==============================] - 1s 891us/step\n",
      "897/897 [==============================] - 1s 884us/step\n",
      "897/897 [==============================] - 1s 882us/step\n",
      "897/897 [==============================] - 1s 861us/step\n",
      "897/897 [==============================] - 1s 846us/step\n",
      "897/897 [==============================] - 1s 881us/step\n",
      "897/897 [==============================] - 1s 860us/step\n",
      "897/897 [==============================] - 1s 859us/step\n",
      "897/897 [==============================] - 1s 819us/step\n",
      "897/897 [==============================] - 1s 843us/step\n",
      "897/897 [==============================] - 1s 845us/step\n",
      "897/897 [==============================] - 1s 835us/step\n",
      "897/897 [==============================] - 1s 846us/step\n",
      "897/897 [==============================] - 1s 850us/step\n",
      "897/897 [==============================] - 1s 816us/step\n",
      "897/897 [==============================] - 1s 863us/step\n",
      "897/897 [==============================] - 1s 849us/step\n",
      "897/897 [==============================] - 1s 840us/step\n",
      "897/897 [==============================] - 1s 858us/step\n",
      "897/897 [==============================] - 1s 788us/step\n",
      "897/897 [==============================] - 1s 810us/step\n",
      "897/897 [==============================] - 1s 883us/step\n",
      "897/897 [==============================] - 1s 847us/step\n",
      "897/897 [==============================] - 1s 852us/step\n",
      "897/897 [==============================] - 1s 836us/step\n",
      "897/897 [==============================] - 1s 814us/step\n",
      "897/897 [==============================] - 1s 836us/step\n",
      "897/897 [==============================] - 1s 839us/step\n",
      "897/897 [==============================] - 1s 850us/step\n",
      "897/897 [==============================] - 1s 859us/step\n",
      "897/897 [==============================] - 1s 856us/step\n",
      "897/897 [==============================] - 1s 838us/step\n",
      "897/897 [==============================] - 1s 846us/step\n",
      "897/897 [==============================] - 1s 868us/step\n",
      "897/897 [==============================] - 1s 832us/step\n",
      "897/897 [==============================] - 1s 848us/step\n",
      "897/897 [==============================] - 1s 831us/step\n",
      "897/897 [==============================] - 1s 852us/step\n",
      "897/897 [==============================] - 1s 821us/step\n",
      "897/897 [==============================] - 1s 885us/step\n",
      "897/897 [==============================] - 1s 882us/step\n",
      "897/897 [==============================] - 1s 866us/step\n",
      "897/897 [==============================] - 1s 876us/step\n",
      "897/897 [==============================] - 1s 874us/step\n",
      "897/897 [==============================] - 1s 813us/step\n",
      "897/897 [==============================] - 1s 853us/step\n",
      "897/897 [==============================] - 1s 862us/step\n",
      "897/897 [==============================] - 1s 844us/step\n",
      "897/897 [==============================] - 1s 843us/step\n",
      "897/897 [==============================] - 1s 874us/step\n",
      "897/897 [==============================] - 1s 868us/step\n",
      "897/897 [==============================] - 1s 839us/step\n",
      "897/897 [==============================] - 1s 849us/step\n",
      "897/897 [==============================] - 1s 849us/step\n",
      "897/897 [==============================] - 1s 843us/step\n",
      "897/897 [==============================] - 1s 847us/step\n",
      "897/897 [==============================] - 1s 830us/step\n",
      "897/897 [==============================] - 1s 839us/step\n",
      "897/897 [==============================] - 1s 836us/step\n",
      "897/897 [==============================] - 1s 853us/step\n",
      "897/897 [==============================] - 1s 837us/step\n",
      "897/897 [==============================] - 1s 845us/step\n",
      "897/897 [==============================] - 1s 845us/step\n",
      "897/897 [==============================] - 1s 852us/step\n",
      "897/897 [==============================] - 1s 831us/step\n",
      "897/897 [==============================] - 1s 850us/step\n",
      "897/897 [==============================] - 1s 856us/step\n",
      "897/897 [==============================] - 1s 875us/step\n",
      "897/897 [==============================] - 1s 861us/step\n",
      "897/897 [==============================] - 1s 851us/step\n",
      "897/897 [==============================] - 1s 845us/step\n",
      "897/897 [==============================] - 1s 856us/step\n",
      "897/897 [==============================] - 1s 815us/step\n",
      "897/897 [==============================] - 1s 866us/step\n",
      "897/897 [==============================] - 1s 855us/step\n",
      "897/897 [==============================] - 1s 838us/step\n",
      "897/897 [==============================] - 1s 801us/step\n",
      "897/897 [==============================] - 1s 840us/step\n",
      "897/897 [==============================] - 1s 843us/step\n",
      "897/897 [==============================] - 1s 846us/step\n",
      "897/897 [==============================] - 1s 864us/step\n",
      "897/897 [==============================] - 1s 847us/step\n",
      "897/897 [==============================] - 1s 852us/step\n",
      "897/897 [==============================] - 1s 838us/step\n",
      "897/897 [==============================] - 1s 814us/step\n",
      "897/897 [==============================] - 1s 856us/step\n",
      "897/897 [==============================] - 1s 839us/step\n",
      "897/897 [==============================] - 1s 835us/step\n",
      "897/897 [==============================] - 1s 875us/step\n",
      "897/897 [==============================] - 1s 858us/step\n",
      "897/897 [==============================] - 1s 871us/step\n",
      "897/897 [==============================] - 1s 859us/step\n",
      "897/897 [==============================] - 1s 842us/step\n",
      "897/897 [==============================] - 1s 865us/step\n",
      "897/897 [==============================] - 1s 925us/step\n",
      "897/897 [==============================] - 1s 844us/step\n",
      "897/897 [==============================] - 1s 852us/step\n",
      "897/897 [==============================] - 1s 866us/step\n",
      "897/897 [==============================] - 1s 812us/step\n",
      "897/897 [==============================] - 1s 860us/step\n",
      "897/897 [==============================] - 1s 847us/step\n",
      "897/897 [==============================] - 1s 852us/step\n",
      "897/897 [==============================] - 1s 833us/step\n",
      "897/897 [==============================] - 1s 844us/step\n",
      "897/897 [==============================] - 1s 842us/step\n",
      "897/897 [==============================] - 1s 873us/step\n",
      "897/897 [==============================] - 1s 837us/step\n",
      "897/897 [==============================] - 1s 846us/step\n",
      "897/897 [==============================] - 1s 809us/step\n",
      "897/897 [==============================] - 1s 835us/step\n",
      "897/897 [==============================] - 1s 822us/step\n",
      "897/897 [==============================] - 1s 854us/step\n",
      "897/897 [==============================] - 1s 859us/step\n",
      "897/897 [==============================] - 1s 859us/step\n",
      "897/897 [==============================] - 1s 821us/step\n",
      "897/897 [==============================] - 1s 847us/step\n",
      "897/897 [==============================] - 1s 844us/step\n",
      "897/897 [==============================] - 1s 848us/step\n",
      "897/897 [==============================] - 1s 836us/step\n",
      "897/897 [==============================] - 1s 832us/step\n",
      "897/897 [==============================] - 1s 834us/step\n",
      "897/897 [==============================] - 1s 861us/step\n",
      "897/897 [==============================] - 1s 830us/step\n",
      "897/897 [==============================] - 1s 862us/step\n",
      "897/897 [==============================] - 1s 856us/step\n",
      "897/897 [==============================] - 1s 855us/step\n",
      "897/897 [==============================] - 1s 853us/step\n",
      "897/897 [==============================] - 1s 843us/step\n",
      "897/897 [==============================] - 1s 917us/step\n",
      "897/897 [==============================] - 1s 859us/step\n",
      "897/897 [==============================] - 1s 834us/step\n",
      "897/897 [==============================] - 1s 832us/step\n",
      "897/897 [==============================] - 1s 840us/step\n",
      "897/897 [==============================] - 1s 864us/step\n",
      "897/897 [==============================] - 1s 847us/step\n",
      "897/897 [==============================] - 1s 847us/step\n",
      "897/897 [==============================] - 1s 847us/step\n",
      "897/897 [==============================] - 1s 851us/step\n",
      "897/897 [==============================] - 1s 832us/step\n",
      "897/897 [==============================] - 1s 838us/step\n",
      "897/897 [==============================] - 1s 842us/step\n",
      "897/897 [==============================] - 1s 829us/step\n",
      "897/897 [==============================] - 1s 837us/step\n",
      "897/897 [==============================] - 1s 905us/step\n",
      "897/897 [==============================] - 1s 860us/step\n",
      "897/897 [==============================] - 1s 868us/step\n",
      "897/897 [==============================] - 1s 871us/step\n",
      "897/897 [==============================] - 1s 886us/step\n",
      "897/897 [==============================] - 1s 884us/step\n",
      "897/897 [==============================] - 1s 884us/step\n",
      "897/897 [==============================] - 1s 892us/step\n",
      "897/897 [==============================] - 1s 870us/step\n",
      "897/897 [==============================] - 1s 889us/step\n",
      "897/897 [==============================] - 1s 875us/step\n",
      "897/897 [==============================] - 1s 893us/step\n",
      "897/897 [==============================] - 1s 889us/step\n",
      "897/897 [==============================] - 1s 858us/step\n",
      "897/897 [==============================] - 1s 901us/step\n",
      "897/897 [==============================] - 1s 845us/step\n",
      "897/897 [==============================] - 1s 858us/step\n",
      "897/897 [==============================] - 1s 864us/step\n",
      "897/897 [==============================] - 1s 891us/step\n",
      "897/897 [==============================] - 1s 912us/step\n",
      "897/897 [==============================] - 1s 887us/step\n",
      "897/897 [==============================] - 1s 868us/step\n",
      "897/897 [==============================] - 1s 913us/step\n",
      "897/897 [==============================] - 1s 873us/step\n",
      "897/897 [==============================] - 1s 875us/step\n",
      "897/897 [==============================] - 1s 891us/step\n",
      "897/897 [==============================] - 1s 871us/step\n",
      "897/897 [==============================] - 1s 876us/step\n",
      "897/897 [==============================] - 1s 899us/step\n",
      "897/897 [==============================] - 1s 851us/step\n",
      "897/897 [==============================] - 1s 882us/step\n",
      "897/897 [==============================] - 1s 866us/step\n",
      "897/897 [==============================] - 1s 884us/step\n",
      "897/897 [==============================] - 1s 864us/step\n",
      "897/897 [==============================] - 1s 893us/step\n",
      "897/897 [==============================] - 1s 858us/step\n",
      "897/897 [==============================] - 1s 862us/step\n",
      "897/897 [==============================] - 1s 871us/step\n",
      "897/897 [==============================] - 1s 871us/step\n",
      "897/897 [==============================] - 1s 880us/step\n",
      "897/897 [==============================] - 1s 843us/step\n",
      "897/897 [==============================] - 1s 880us/step\n",
      "897/897 [==============================] - 1s 878us/step\n",
      "897/897 [==============================] - 1s 816us/step\n",
      "897/897 [==============================] - 1s 875us/step\n",
      "897/897 [==============================] - 1s 850us/step\n",
      "897/897 [==============================] - 1s 890us/step\n",
      "897/897 [==============================] - 1s 860us/step\n",
      "897/897 [==============================] - 1s 884us/step\n",
      "897/897 [==============================] - 1s 876us/step\n",
      "897/897 [==============================] - 1s 889us/step\n",
      "897/897 [==============================] - 1s 859us/step\n",
      "897/897 [==============================] - 1s 887us/step\n",
      "897/897 [==============================] - 1s 844us/step\n",
      "897/897 [==============================] - 1s 896us/step\n",
      "897/897 [==============================] - 1s 877us/step\n",
      "897/897 [==============================] - 1s 877us/step\n",
      "897/897 [==============================] - 1s 925us/step\n",
      "897/897 [==============================] - 1s 856us/step\n",
      "897/897 [==============================] - 1s 880us/step\n",
      "897/897 [==============================] - 1s 878us/step\n",
      "897/897 [==============================] - 1s 877us/step\n",
      "897/897 [==============================] - 1s 854us/step\n",
      "897/897 [==============================] - 1s 856us/step\n",
      "897/897 [==============================] - 1s 867us/step\n",
      "897/897 [==============================] - 1s 890us/step\n",
      "897/897 [==============================] - 1s 883us/step\n",
      "897/897 [==============================] - 1s 891us/step\n",
      "897/897 [==============================] - 1s 885us/step\n",
      "897/897 [==============================] - 1s 856us/step\n",
      "897/897 [==============================] - 1s 901us/step\n",
      "897/897 [==============================] - 1s 889us/step\n",
      "897/897 [==============================] - 1s 894us/step\n",
      "897/897 [==============================] - 1s 868us/step\n",
      "897/897 [==============================] - 1s 896us/step\n",
      "897/897 [==============================] - 1s 876us/step\n",
      "897/897 [==============================] - 1s 884us/step\n",
      "897/897 [==============================] - 1s 870us/step\n",
      "897/897 [==============================] - 1s 878us/step\n",
      "897/897 [==============================] - 1s 890us/step\n",
      "897/897 [==============================] - 1s 875us/step\n",
      "897/897 [==============================] - 1s 867us/step\n",
      "897/897 [==============================] - 1s 914us/step\n",
      "897/897 [==============================] - 1s 887us/step\n",
      "897/897 [==============================] - 1s 878us/step\n",
      "897/897 [==============================] - 1s 877us/step\n",
      "897/897 [==============================] - 1s 883us/step\n",
      "897/897 [==============================] - 1s 873us/step\n",
      "897/897 [==============================] - 1s 878us/step\n",
      "897/897 [==============================] - 1s 860us/step\n",
      "897/897 [==============================] - 1s 916us/step\n",
      "897/897 [==============================] - 1s 830us/step\n",
      "897/897 [==============================] - 1s 893us/step\n",
      "897/897 [==============================] - 1s 845us/step\n",
      "897/897 [==============================] - 1s 892us/step\n",
      "897/897 [==============================] - 1s 858us/step\n",
      "897/897 [==============================] - 1s 903us/step\n",
      "897/897 [==============================] - 1s 886us/step\n",
      "897/897 [==============================] - 1s 878us/step\n",
      "897/897 [==============================] - 1s 848us/step\n",
      "897/897 [==============================] - 1s 880us/step\n",
      "897/897 [==============================] - 1s 838us/step\n",
      "897/897 [==============================] - 1s 893us/step\n",
      "897/897 [==============================] - 1s 855us/step\n",
      "897/897 [==============================] - 1s 912us/step\n",
      "897/897 [==============================] - 1s 1ms/step\n",
      "897/897 [==============================] - 1s 886us/step\n",
      "897/897 [==============================] - 1s 875us/step\n",
      "897/897 [==============================] - 1s 906us/step\n"
     ]
    }
   ],
   "source": [
    "from sklearn.inspection import permutation_importance\n",
    "\n",
    "r = permutation_importance(model, x_val, y_val,n_repeats=50,random_state=35, scoring='neg_mean_absolute_percentage_error')"
   ]
  },
  {
   "cell_type": "code",
   "execution_count": 17,
   "metadata": {},
   "outputs": [
    {
     "data": {
      "text/plain": [
       "{'importances_mean': array([ 3.69748456e+16,  6.41408120e+14,  1.15203891e+15,  1.33937814e+15,\n",
       "         9.19752447e+14,  6.98202741e+14,  1.07430287e+15,  1.24193055e+15,\n",
       "         8.33010174e+15,  1.58397326e+12,  0.00000000e+00,  0.00000000e+00,\n",
       "         4.23844275e+15,  5.34881241e+13, -4.73600024e+15, -5.18450087e+15,\n",
       "         3.44820904e+13, -7.88363032e+11, -2.54309804e+14, -6.80611742e+13,\n",
       "        -6.33280522e+15,  1.99762697e+14,  2.42495435e+15,  1.56581891e+14,\n",
       "         8.66484639e+14,  2.34784444e+15,  1.30957934e+15,  4.49934490e+15]),\n",
       " 'importances_std': array([4.95316847e+14, 1.31960213e+14, 1.35394695e+14, 1.16088879e+14,\n",
       "        1.37742604e+14, 1.02625596e+14, 1.41830499e+14, 1.25853860e+14,\n",
       "        1.92619538e+14, 2.01611963e+12, 0.00000000e+00, 0.00000000e+00,\n",
       "        1.92348324e+14, 7.38620584e+13, 1.39894312e+14, 2.01453675e+14,\n",
       "        2.44638596e+13, 2.39838873e+12, 1.01793523e+14, 4.92665833e+13,\n",
       "        2.70396298e+14, 1.48851806e+14, 2.22452507e+14, 1.58663972e+14,\n",
       "        2.59121642e+14, 2.93966412e+14, 2.86427259e+14, 4.22469885e+14]),\n",
       " 'importances': array([[3.70372366e+16, 3.72488924e+16, 3.70648011e+16, ...,\n",
       "         3.72337231e+16, 3.60230153e+16, 3.63385056e+16],\n",
       "        [6.10451631e+14, 8.52761651e+14, 6.13085631e+14, ...,\n",
       "         3.78773017e+14, 5.72821248e+14, 6.26763533e+14],\n",
       "        [9.92362041e+14, 1.26991481e+15, 1.19874737e+15, ...,\n",
       "         1.33520964e+15, 1.35371258e+15, 1.05535657e+15],\n",
       "        ...,\n",
       "        [2.37859912e+15, 2.38250800e+15, 2.07510997e+15, ...,\n",
       "         2.46502035e+15, 2.04484706e+15, 1.97099961e+15],\n",
       "        [1.54403618e+15, 8.91848536e+14, 1.19547963e+15, ...,\n",
       "         1.78645171e+15, 1.46573853e+15, 1.75965575e+15],\n",
       "        [3.95522951e+15, 4.60119498e+15, 4.97048922e+15, ...,\n",
       "         3.72764306e+15, 5.08883471e+15, 5.02078560e+15]])}"
      ]
     },
     "execution_count": 17,
     "metadata": {},
     "output_type": "execute_result"
    }
   ],
   "source": [
    "r"
   ]
  },
  {
   "cell_type": "code",
   "execution_count": 18,
   "metadata": {},
   "outputs": [
    {
     "data": {
      "application/vnd.plotly.v1+json": {
       "config": {
        "plotlyServerURL": "https://plot.ly"
       },
       "data": [
        {
         "error_y": {
          "array": [
           495316847219376.7,
           131960213451577.58,
           135394695357467.42,
           116088879319973.75,
           137742604143813.27,
           102625596092175.94,
           141830498525233.2,
           125853860496103.03,
           192619537974475.03,
           2016119631916.7456,
           0,
           0,
           192348323800650.25,
           73862058442566.11,
           139894311833318.72,
           201453675029258.53,
           24463859604328.668,
           2398388731832.415,
           101793522579337.72,
           49266583323172.555,
           270396298253502.03,
           148851805599754.84,
           222452506930006.1,
           158663971933498.84,
           259121641825714.03,
           293966412222345.9,
           286427258506866.3,
           422469884752333.75
          ],
          "type": "data"
         },
         "marker": {
          "color": "rgb(62, 109, 156)"
         },
         "type": "bar",
         "x": [
          "posted_at",
          "0",
          "1",
          "2",
          "3",
          "4",
          "5",
          "6",
          "post_type_link",
          "post_type_music",
          "post_type_note",
          "post_type_offer",
          "post_type_photo",
          "post_type_status",
          "post_type_video",
          "status_type_added_video",
          "status_type_created_event",
          "status_type_created_note",
          "status_type_mobile_status_update",
          "status_type_published_story",
          "status_type_shared_story",
          "source_bbc",
          "source_cbs",
          "source_cnn",
          "source_lat",
          "source_nbc",
          "source_nyt",
          "source_wsj"
         ],
         "y": [
          36974845586261910,
          641408120379634.1,
          1152038909303449,
          1339378138524144.2,
          919752447294321.1,
          698202741475356.1,
          1074302865550272.4,
          1241930549444091.8,
          8330101741662725,
          1583973255625.44,
          0,
          0,
          4238442745447509,
          53488124061812.48,
          -4736000244233933,
          -5184500873294209,
          34482090433997.12,
          -788363031918.4,
          -254309803845956.47,
          -68061174158865.28,
          -6332805222228137,
          199762697276258.4,
          2424954347472047.5,
          156581891419924.62,
          866484638631957.9,
          2347844440323818.5,
          1309579343638022.8,
          4499344896043644
         ]
        }
       ],
       "layout": {
        "barmode": "group",
        "template": {
         "data": {
          "bar": [
           {
            "error_x": {
             "color": "#f2f5fa"
            },
            "error_y": {
             "color": "#f2f5fa"
            },
            "marker": {
             "line": {
              "color": "rgb(17,17,17)",
              "width": 0.5
             },
             "pattern": {
              "fillmode": "overlay",
              "size": 10,
              "solidity": 0.2
             }
            },
            "type": "bar"
           }
          ],
          "barpolar": [
           {
            "marker": {
             "line": {
              "color": "rgb(17,17,17)",
              "width": 0.5
             },
             "pattern": {
              "fillmode": "overlay",
              "size": 10,
              "solidity": 0.2
             }
            },
            "type": "barpolar"
           }
          ],
          "carpet": [
           {
            "aaxis": {
             "endlinecolor": "#A2B1C6",
             "gridcolor": "#506784",
             "linecolor": "#506784",
             "minorgridcolor": "#506784",
             "startlinecolor": "#A2B1C6"
            },
            "baxis": {
             "endlinecolor": "#A2B1C6",
             "gridcolor": "#506784",
             "linecolor": "#506784",
             "minorgridcolor": "#506784",
             "startlinecolor": "#A2B1C6"
            },
            "type": "carpet"
           }
          ],
          "choropleth": [
           {
            "colorbar": {
             "outlinewidth": 0,
             "ticks": ""
            },
            "type": "choropleth"
           }
          ],
          "contour": [
           {
            "colorbar": {
             "outlinewidth": 0,
             "ticks": ""
            },
            "colorscale": [
             [
              0,
              "#0d0887"
             ],
             [
              0.1111111111111111,
              "#46039f"
             ],
             [
              0.2222222222222222,
              "#7201a8"
             ],
             [
              0.3333333333333333,
              "#9c179e"
             ],
             [
              0.4444444444444444,
              "#bd3786"
             ],
             [
              0.5555555555555556,
              "#d8576b"
             ],
             [
              0.6666666666666666,
              "#ed7953"
             ],
             [
              0.7777777777777778,
              "#fb9f3a"
             ],
             [
              0.8888888888888888,
              "#fdca26"
             ],
             [
              1,
              "#f0f921"
             ]
            ],
            "type": "contour"
           }
          ],
          "contourcarpet": [
           {
            "colorbar": {
             "outlinewidth": 0,
             "ticks": ""
            },
            "type": "contourcarpet"
           }
          ],
          "heatmap": [
           {
            "colorbar": {
             "outlinewidth": 0,
             "ticks": ""
            },
            "colorscale": [
             [
              0,
              "#0d0887"
             ],
             [
              0.1111111111111111,
              "#46039f"
             ],
             [
              0.2222222222222222,
              "#7201a8"
             ],
             [
              0.3333333333333333,
              "#9c179e"
             ],
             [
              0.4444444444444444,
              "#bd3786"
             ],
             [
              0.5555555555555556,
              "#d8576b"
             ],
             [
              0.6666666666666666,
              "#ed7953"
             ],
             [
              0.7777777777777778,
              "#fb9f3a"
             ],
             [
              0.8888888888888888,
              "#fdca26"
             ],
             [
              1,
              "#f0f921"
             ]
            ],
            "type": "heatmap"
           }
          ],
          "heatmapgl": [
           {
            "colorbar": {
             "outlinewidth": 0,
             "ticks": ""
            },
            "colorscale": [
             [
              0,
              "#0d0887"
             ],
             [
              0.1111111111111111,
              "#46039f"
             ],
             [
              0.2222222222222222,
              "#7201a8"
             ],
             [
              0.3333333333333333,
              "#9c179e"
             ],
             [
              0.4444444444444444,
              "#bd3786"
             ],
             [
              0.5555555555555556,
              "#d8576b"
             ],
             [
              0.6666666666666666,
              "#ed7953"
             ],
             [
              0.7777777777777778,
              "#fb9f3a"
             ],
             [
              0.8888888888888888,
              "#fdca26"
             ],
             [
              1,
              "#f0f921"
             ]
            ],
            "type": "heatmapgl"
           }
          ],
          "histogram": [
           {
            "marker": {
             "pattern": {
              "fillmode": "overlay",
              "size": 10,
              "solidity": 0.2
             }
            },
            "type": "histogram"
           }
          ],
          "histogram2d": [
           {
            "colorbar": {
             "outlinewidth": 0,
             "ticks": ""
            },
            "colorscale": [
             [
              0,
              "#0d0887"
             ],
             [
              0.1111111111111111,
              "#46039f"
             ],
             [
              0.2222222222222222,
              "#7201a8"
             ],
             [
              0.3333333333333333,
              "#9c179e"
             ],
             [
              0.4444444444444444,
              "#bd3786"
             ],
             [
              0.5555555555555556,
              "#d8576b"
             ],
             [
              0.6666666666666666,
              "#ed7953"
             ],
             [
              0.7777777777777778,
              "#fb9f3a"
             ],
             [
              0.8888888888888888,
              "#fdca26"
             ],
             [
              1,
              "#f0f921"
             ]
            ],
            "type": "histogram2d"
           }
          ],
          "histogram2dcontour": [
           {
            "colorbar": {
             "outlinewidth": 0,
             "ticks": ""
            },
            "colorscale": [
             [
              0,
              "#0d0887"
             ],
             [
              0.1111111111111111,
              "#46039f"
             ],
             [
              0.2222222222222222,
              "#7201a8"
             ],
             [
              0.3333333333333333,
              "#9c179e"
             ],
             [
              0.4444444444444444,
              "#bd3786"
             ],
             [
              0.5555555555555556,
              "#d8576b"
             ],
             [
              0.6666666666666666,
              "#ed7953"
             ],
             [
              0.7777777777777778,
              "#fb9f3a"
             ],
             [
              0.8888888888888888,
              "#fdca26"
             ],
             [
              1,
              "#f0f921"
             ]
            ],
            "type": "histogram2dcontour"
           }
          ],
          "mesh3d": [
           {
            "colorbar": {
             "outlinewidth": 0,
             "ticks": ""
            },
            "type": "mesh3d"
           }
          ],
          "parcoords": [
           {
            "line": {
             "colorbar": {
              "outlinewidth": 0,
              "ticks": ""
             }
            },
            "type": "parcoords"
           }
          ],
          "pie": [
           {
            "automargin": true,
            "type": "pie"
           }
          ],
          "scatter": [
           {
            "marker": {
             "line": {
              "color": "#283442"
             }
            },
            "type": "scatter"
           }
          ],
          "scatter3d": [
           {
            "line": {
             "colorbar": {
              "outlinewidth": 0,
              "ticks": ""
             }
            },
            "marker": {
             "colorbar": {
              "outlinewidth": 0,
              "ticks": ""
             }
            },
            "type": "scatter3d"
           }
          ],
          "scattercarpet": [
           {
            "marker": {
             "colorbar": {
              "outlinewidth": 0,
              "ticks": ""
             }
            },
            "type": "scattercarpet"
           }
          ],
          "scattergeo": [
           {
            "marker": {
             "colorbar": {
              "outlinewidth": 0,
              "ticks": ""
             }
            },
            "type": "scattergeo"
           }
          ],
          "scattergl": [
           {
            "marker": {
             "line": {
              "color": "#283442"
             }
            },
            "type": "scattergl"
           }
          ],
          "scattermapbox": [
           {
            "marker": {
             "colorbar": {
              "outlinewidth": 0,
              "ticks": ""
             }
            },
            "type": "scattermapbox"
           }
          ],
          "scatterpolar": [
           {
            "marker": {
             "colorbar": {
              "outlinewidth": 0,
              "ticks": ""
             }
            },
            "type": "scatterpolar"
           }
          ],
          "scatterpolargl": [
           {
            "marker": {
             "colorbar": {
              "outlinewidth": 0,
              "ticks": ""
             }
            },
            "type": "scatterpolargl"
           }
          ],
          "scatterternary": [
           {
            "marker": {
             "colorbar": {
              "outlinewidth": 0,
              "ticks": ""
             }
            },
            "type": "scatterternary"
           }
          ],
          "surface": [
           {
            "colorbar": {
             "outlinewidth": 0,
             "ticks": ""
            },
            "colorscale": [
             [
              0,
              "#0d0887"
             ],
             [
              0.1111111111111111,
              "#46039f"
             ],
             [
              0.2222222222222222,
              "#7201a8"
             ],
             [
              0.3333333333333333,
              "#9c179e"
             ],
             [
              0.4444444444444444,
              "#bd3786"
             ],
             [
              0.5555555555555556,
              "#d8576b"
             ],
             [
              0.6666666666666666,
              "#ed7953"
             ],
             [
              0.7777777777777778,
              "#fb9f3a"
             ],
             [
              0.8888888888888888,
              "#fdca26"
             ],
             [
              1,
              "#f0f921"
             ]
            ],
            "type": "surface"
           }
          ],
          "table": [
           {
            "cells": {
             "fill": {
              "color": "#506784"
             },
             "line": {
              "color": "rgb(17,17,17)"
             }
            },
            "header": {
             "fill": {
              "color": "#2a3f5f"
             },
             "line": {
              "color": "rgb(17,17,17)"
             }
            },
            "type": "table"
           }
          ]
         },
         "layout": {
          "annotationdefaults": {
           "arrowcolor": "#f2f5fa",
           "arrowhead": 0,
           "arrowwidth": 1
          },
          "autotypenumbers": "strict",
          "coloraxis": {
           "colorbar": {
            "outlinewidth": 0,
            "ticks": ""
           }
          },
          "colorscale": {
           "diverging": [
            [
             0,
             "#8e0152"
            ],
            [
             0.1,
             "#c51b7d"
            ],
            [
             0.2,
             "#de77ae"
            ],
            [
             0.3,
             "#f1b6da"
            ],
            [
             0.4,
             "#fde0ef"
            ],
            [
             0.5,
             "#f7f7f7"
            ],
            [
             0.6,
             "#e6f5d0"
            ],
            [
             0.7,
             "#b8e186"
            ],
            [
             0.8,
             "#7fbc41"
            ],
            [
             0.9,
             "#4d9221"
            ],
            [
             1,
             "#276419"
            ]
           ],
           "sequential": [
            [
             0,
             "#0d0887"
            ],
            [
             0.1111111111111111,
             "#46039f"
            ],
            [
             0.2222222222222222,
             "#7201a8"
            ],
            [
             0.3333333333333333,
             "#9c179e"
            ],
            [
             0.4444444444444444,
             "#bd3786"
            ],
            [
             0.5555555555555556,
             "#d8576b"
            ],
            [
             0.6666666666666666,
             "#ed7953"
            ],
            [
             0.7777777777777778,
             "#fb9f3a"
            ],
            [
             0.8888888888888888,
             "#fdca26"
            ],
            [
             1,
             "#f0f921"
            ]
           ],
           "sequentialminus": [
            [
             0,
             "#0d0887"
            ],
            [
             0.1111111111111111,
             "#46039f"
            ],
            [
             0.2222222222222222,
             "#7201a8"
            ],
            [
             0.3333333333333333,
             "#9c179e"
            ],
            [
             0.4444444444444444,
             "#bd3786"
            ],
            [
             0.5555555555555556,
             "#d8576b"
            ],
            [
             0.6666666666666666,
             "#ed7953"
            ],
            [
             0.7777777777777778,
             "#fb9f3a"
            ],
            [
             0.8888888888888888,
             "#fdca26"
            ],
            [
             1,
             "#f0f921"
            ]
           ]
          },
          "colorway": [
           "#636efa",
           "#EF553B",
           "#00cc96",
           "#ab63fa",
           "#FFA15A",
           "#19d3f3",
           "#FF6692",
           "#B6E880",
           "#FF97FF",
           "#FECB52"
          ],
          "font": {
           "color": "#f2f5fa"
          },
          "geo": {
           "bgcolor": "rgb(17,17,17)",
           "lakecolor": "rgb(17,17,17)",
           "landcolor": "rgb(17,17,17)",
           "showlakes": true,
           "showland": true,
           "subunitcolor": "#506784"
          },
          "hoverlabel": {
           "align": "left"
          },
          "hovermode": "closest",
          "mapbox": {
           "style": "dark"
          },
          "paper_bgcolor": "rgb(17,17,17)",
          "plot_bgcolor": "rgb(17,17,17)",
          "polar": {
           "angularaxis": {
            "gridcolor": "#506784",
            "linecolor": "#506784",
            "ticks": ""
           },
           "bgcolor": "rgb(17,17,17)",
           "radialaxis": {
            "gridcolor": "#506784",
            "linecolor": "#506784",
            "ticks": ""
           }
          },
          "scene": {
           "xaxis": {
            "backgroundcolor": "rgb(17,17,17)",
            "gridcolor": "#506784",
            "gridwidth": 2,
            "linecolor": "#506784",
            "showbackground": true,
            "ticks": "",
            "zerolinecolor": "#C8D4E3"
           },
           "yaxis": {
            "backgroundcolor": "rgb(17,17,17)",
            "gridcolor": "#506784",
            "gridwidth": 2,
            "linecolor": "#506784",
            "showbackground": true,
            "ticks": "",
            "zerolinecolor": "#C8D4E3"
           },
           "zaxis": {
            "backgroundcolor": "rgb(17,17,17)",
            "gridcolor": "#506784",
            "gridwidth": 2,
            "linecolor": "#506784",
            "showbackground": true,
            "ticks": "",
            "zerolinecolor": "#C8D4E3"
           }
          },
          "shapedefaults": {
           "line": {
            "color": "#f2f5fa"
           }
          },
          "sliderdefaults": {
           "bgcolor": "#C8D4E3",
           "bordercolor": "rgb(17,17,17)",
           "borderwidth": 1,
           "tickwidth": 0
          },
          "ternary": {
           "aaxis": {
            "gridcolor": "#506784",
            "linecolor": "#506784",
            "ticks": ""
           },
           "baxis": {
            "gridcolor": "#506784",
            "linecolor": "#506784",
            "ticks": ""
           },
           "bgcolor": "rgb(17,17,17)",
           "caxis": {
            "gridcolor": "#506784",
            "linecolor": "#506784",
            "ticks": ""
           }
          },
          "title": {
           "x": 0.05
          },
          "updatemenudefaults": {
           "bgcolor": "#506784",
           "borderwidth": 0
          },
          "xaxis": {
           "automargin": true,
           "gridcolor": "#283442",
           "linecolor": "#506784",
           "ticks": "",
           "title": {
            "standoff": 15
           },
           "zerolinecolor": "#283442",
           "zerolinewidth": 2
          },
          "yaxis": {
           "automargin": true,
           "gridcolor": "#283442",
           "linecolor": "#506784",
           "ticks": "",
           "title": {
            "standoff": 15
           },
           "zerolinecolor": "#283442",
           "zerolinewidth": 2
          }
         }
        },
        "title": {
         "text": "Feature Importance for Videos: Poisson Regression"
        },
        "xaxis": {
         "tickangle": -90
        }
       }
      }
     },
     "metadata": {},
     "output_type": "display_data"
    }
   ],
   "source": [
    "import plotly.graph_objects as go\n",
    "\n",
    "fig= go.Figure()\n",
    "fig.add_trace(go.Bar(x=final_cols,y=r['importances_mean'], marker_color='rgb(62, 109, 156)',error_y=dict(type='data',array = r['importances_std'])))\n",
    "\n",
    "fig.update_layout(template = 'plotly_dark', barmode='group', title_text='Feature Importance for Videos: Poisson Regression', xaxis_tickangle=-90)\n",
    "fig.show()"
   ]
  },
  {
   "cell_type": "code",
   "execution_count": null,
   "metadata": {},
   "outputs": [],
   "source": []
  }
 ],
 "metadata": {
  "colab": {
   "provenance": []
  },
  "kernelspec": {
   "display_name": "Python 3.10.8 ('btp')",
   "language": "python",
   "name": "python3"
  },
  "language_info": {
   "codemirror_mode": {
    "name": "ipython",
    "version": 3
   },
   "file_extension": ".py",
   "mimetype": "text/x-python",
   "name": "python",
   "nbconvert_exporter": "python",
   "pygments_lexer": "ipython3",
   "version": "3.10.8"
  },
  "vscode": {
   "interpreter": {
    "hash": "eda4300cb0d28a21f7fc24f1781b5b92abfd3ac6d03439f9c4efec22a825e260"
   }
  }
 },
 "nbformat": 4,
 "nbformat_minor": 0
}
