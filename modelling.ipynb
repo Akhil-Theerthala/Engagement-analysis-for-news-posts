{
 "cells": [
  {
   "cell_type": "code",
   "execution_count": 4,
   "metadata": {
    "collapsed": true,
    "id": "SmnS_LzfHDe0"
   },
   "outputs": [
    {
     "data": {
      "text/plain": [
       "['0',\n",
       " '1',\n",
       " '2',\n",
       " '3',\n",
       " '4',\n",
       " '5',\n",
       " '6',\n",
       " 'posted_at',\n",
       " 'post_type_link',\n",
       " 'post_type_music',\n",
       " 'post_type_note',\n",
       " 'post_type_offer',\n",
       " 'post_type_photo',\n",
       " 'post_type_status',\n",
       " 'post_type_video',\n",
       " 'status_type_added_video',\n",
       " 'status_type_created_event',\n",
       " 'status_type_created_note',\n",
       " 'status_type_mobile_status_update',\n",
       " 'status_type_published_story',\n",
       " 'status_type_shared_story',\n",
       " 'source_bbc',\n",
       " 'source_cbs',\n",
       " 'source_cnn',\n",
       " 'source_lat',\n",
       " 'source_nbc',\n",
       " 'source_nyt',\n",
       " 'source_wsj']"
      ]
     },
     "execution_count": 4,
     "metadata": {},
     "output_type": "execute_result"
    }
   ],
   "source": [
    "import pandas as pd\n",
    "import numpy as np\n",
    "import pickle\n",
    "import plotly.graph_objects as go\n",
    "\n",
    "from sklearn.multioutput import MultiOutputRegressor, RegressorChain\n",
    "from sklearn.linear_model import LinearRegression\n",
    "from sklearn.svm import SVR\n",
    "from sklearn.tree import DecisionTreeRegressor\n",
    "from sklearn.ensemble import RandomForestRegressor\n",
    "from sklearn.metrics import mean_squared_error,mean_absolute_error, r2_score\n",
    "from sklearn.preprocessing import StandardScaler, MinMaxScaler\n",
    "from sklearn.compose import ColumnTransformer\n",
    "from sklearn.model_selection import train_test_split, RandomizedSearchCV, GridSearchCV\n",
    "\n",
    "#importing the data\n",
    "x = pd.read_csv('x.csv').drop('Unnamed: 0', axis=1)\n",
    "y = pd.read_csv('y.csv').drop('Unnamed: 0', axis=1)\n",
    "\n",
    "#storing the details\n",
    "x_cols = list(x.columns)\n",
    "titles = list(y.columns)\n",
    "\n",
    "x_cols"
   ]
  },
  {
   "cell_type": "code",
   "execution_count": 5,
   "metadata": {},
   "outputs": [],
   "source": [
    "#Specific cols\n",
    "num_cols = ['posted_at', '0', '1', '2', '3', '4', '5', '6']\n",
    "cols = [col for col in x_cols if col not in num_cols]\n",
    "\n",
    "#preprocessing the values\n",
    "preprocess = ColumnTransformer([\n",
    "    (\n",
    "        'numeric',\n",
    "        MinMaxScaler(),\n",
    "        num_cols\n",
    "    )\n",
    "], remainder='passthrough')\n",
    "\n",
    "x = preprocess.fit_transform(x)\n",
    "\n",
    "#Getting the final order of columns right...\n",
    "final_cols = []\n",
    "final_cols.extend(num_cols)\n",
    "final_cols.extend(cols)\n",
    "# print(final_cols)\n",
    "\n",
    "x_true = pd.DataFrame(x, columns = final_cols)\n",
    "\n",
    "#Train,test split\n",
    "x_train,x_val,y_train,y_val = train_test_split(x, np.array(y.values), test_size=0.1, shuffle=True, random_state=35)"
   ]
  },
  {
   "cell_type": "code",
   "execution_count": 6,
   "metadata": {
    "collapsed": false
   },
   "outputs": [],
   "source": [
    "def save_model(pkl_model,name):\n",
    "    pkl_dir = './models/ml/'\n",
    "    pkl_filename =pkl_dir+ name+'.pkl'\n",
    "    with open(pkl_filename, 'wb') as file:\n",
    "        pickle.dump(pkl_model, file)"
   ]
  },
  {
   "cell_type": "markdown",
   "metadata": {
    "collapsed": false,
    "id": "nwDw6ivyHDe7"
   },
   "source": [
    "# SVM - regression chain vs Multioutput Regressor\n",
    "\n",
    "**Multi-Output Regressor**: The regression in which all the output variables are predicted at once.\n",
    "**Regression Chain**: The data is used to predict output target-1, which is then combined with the data to predict output variable 2 and so on."
   ]
  },
  {
   "cell_type": "code",
   "execution_count": 7,
   "metadata": {
    "colab": {
     "base_uri": "https://localhost:8080/"
    },
    "id": "YN57xoOxHDe-",
    "outputId": "5c113b0e-ee71-4c82-ad0b-87792af89b79"
   },
   "outputs": [],
   "source": [
    "svr = SVR()\n",
    "multi_svr = MultiOutputRegressor(svr)\n",
    "multi_svr.fit(X=x_train,y=y_train)"
   ]
  },
  {
   "cell_type": "code",
   "execution_count": null,
   "metadata": {
    "colab": {
     "base_uri": "https://localhost:8080/"
    },
    "id": "HvnjYAwWHDe_",
    "outputId": "eab6d922-8207-4f6d-d3ce-0529b53194a7"
   },
   "outputs": [],
   "source": [
    "pred = multi_svr.predict(x_val)\n",
    "save_model(multi_svr, 'video_svr_multi')"
   ]
  },
  {
   "cell_type": "code",
   "execution_count": null,
   "metadata": {
    "colab": {
     "base_uri": "https://localhost:8080/"
    },
    "id": "V59ZTK3kHDe_",
    "outputId": "36aa2965-11ed-4a92-8aba-456b94dfa5f0"
   },
   "outputs": [
    {
     "name": "stdout",
     "output_type": "stream",
     "text": [
      "Mean Squared Error for parameter - 0: 13121.803774051064\n",
      "Mean Absolute Error for parameter - 0: 36.7706717565298\n",
      "\n",
      "\n",
      "Mean Squared Error for parameter - 1: 1589.9283488137753\n",
      "Mean Absolute Error for parameter - 1: 11.22586518329064\n",
      "\n",
      "\n",
      "Mean Squared Error for parameter - 2: 3250.5931616135686\n",
      "Mean Absolute Error for parameter - 2: 14.353393485089178\n",
      "\n",
      "\n",
      "Mean Squared Error for parameter - 3: 2159.8565204843535\n",
      "Mean Absolute Error for parameter - 3: 10.907644190322943\n",
      "\n",
      "\n",
      "Mean Squared Error for parameter - 4: 15.980091015816958\n",
      "Mean Absolute Error for parameter - 4: 1.3414989748567232\n",
      "\n",
      "\n",
      "Mean Squared Error for parameter - 5: 1.3742165474556884\n",
      "Mean Absolute Error for parameter - 5: 0.4271668990639327\n",
      "\n",
      "\n",
      "Mean Squared Error for parameter - 6: 386.92893930184283\n",
      "Mean Absolute Error for parameter - 6: 2.5621464270315366\n",
      "\n",
      "\n",
      "Mean Squared Error for parameter - 7: 39.790746666915034\n",
      "Mean Absolute Error for parameter - 7: 1.0789455284992475\n",
      "\n",
      "\n",
      "Mean Squared Error for parameter - 8: 16.810255351098803\n",
      "Mean Absolute Error for parameter - 8: 0.48087198104763496\n",
      "\n",
      "\n"
     ]
    }
   ],
   "source": [
    "multi_svr_scores = []\n",
    "\n",
    "for i in range(9):\n",
    "    mse = mean_squared_error(y_true=y_val[:,i],y_pred=pred[:,i])\n",
    "    mae = mean_absolute_error(y_pred=pred[:,i],y_true=y_val[:,i])\n",
    "    print(f'Mean Squared Error for parameter - {i}: {mse}')\n",
    "    print(f'Mean Absolute Error for parameter - {i}: {mae}')\n",
    "    multi_svr_scores.append([mse,mae])\n",
    "    print('\\n')\n",
    "\n",
    "multi_svr_scores.append([mean_squared_error(y_true=y_val,y_pred=pred),mean_absolute_error(y_true=y_val,y_pred=pred)])\n"
   ]
  },
  {
   "cell_type": "code",
   "execution_count": null,
   "metadata": {
    "colab": {
     "base_uri": "https://localhost:8080/"
    },
    "id": "l7DvIJpRHDfA",
    "outputId": "ad6be839-efb2-4425-8205-3d89b1923915"
   },
   "outputs": [
    {
     "data": {
      "text/html": [
       "<style>#sk-container-id-2 {color: black;background-color: white;}#sk-container-id-2 pre{padding: 0;}#sk-container-id-2 div.sk-toggleable {background-color: white;}#sk-container-id-2 label.sk-toggleable__label {cursor: pointer;display: block;width: 100%;margin-bottom: 0;padding: 0.3em;box-sizing: border-box;text-align: center;}#sk-container-id-2 label.sk-toggleable__label-arrow:before {content: \"▸\";float: left;margin-right: 0.25em;color: #696969;}#sk-container-id-2 label.sk-toggleable__label-arrow:hover:before {color: black;}#sk-container-id-2 div.sk-estimator:hover label.sk-toggleable__label-arrow:before {color: black;}#sk-container-id-2 div.sk-toggleable__content {max-height: 0;max-width: 0;overflow: hidden;text-align: left;background-color: #f0f8ff;}#sk-container-id-2 div.sk-toggleable__content pre {margin: 0.2em;color: black;border-radius: 0.25em;background-color: #f0f8ff;}#sk-container-id-2 input.sk-toggleable__control:checked~div.sk-toggleable__content {max-height: 200px;max-width: 100%;overflow: auto;}#sk-container-id-2 input.sk-toggleable__control:checked~label.sk-toggleable__label-arrow:before {content: \"▾\";}#sk-container-id-2 div.sk-estimator input.sk-toggleable__control:checked~label.sk-toggleable__label {background-color: #d4ebff;}#sk-container-id-2 div.sk-label input.sk-toggleable__control:checked~label.sk-toggleable__label {background-color: #d4ebff;}#sk-container-id-2 input.sk-hidden--visually {border: 0;clip: rect(1px 1px 1px 1px);clip: rect(1px, 1px, 1px, 1px);height: 1px;margin: -1px;overflow: hidden;padding: 0;position: absolute;width: 1px;}#sk-container-id-2 div.sk-estimator {font-family: monospace;background-color: #f0f8ff;border: 1px dotted black;border-radius: 0.25em;box-sizing: border-box;margin-bottom: 0.5em;}#sk-container-id-2 div.sk-estimator:hover {background-color: #d4ebff;}#sk-container-id-2 div.sk-parallel-item::after {content: \"\";width: 100%;border-bottom: 1px solid gray;flex-grow: 1;}#sk-container-id-2 div.sk-label:hover label.sk-toggleable__label {background-color: #d4ebff;}#sk-container-id-2 div.sk-serial::before {content: \"\";position: absolute;border-left: 1px solid gray;box-sizing: border-box;top: 0;bottom: 0;left: 50%;z-index: 0;}#sk-container-id-2 div.sk-serial {display: flex;flex-direction: column;align-items: center;background-color: white;padding-right: 0.2em;padding-left: 0.2em;position: relative;}#sk-container-id-2 div.sk-item {position: relative;z-index: 1;}#sk-container-id-2 div.sk-parallel {display: flex;align-items: stretch;justify-content: center;background-color: white;position: relative;}#sk-container-id-2 div.sk-item::before, #sk-container-id-2 div.sk-parallel-item::before {content: \"\";position: absolute;border-left: 1px solid gray;box-sizing: border-box;top: 0;bottom: 0;left: 50%;z-index: -1;}#sk-container-id-2 div.sk-parallel-item {display: flex;flex-direction: column;z-index: 1;position: relative;background-color: white;}#sk-container-id-2 div.sk-parallel-item:first-child::after {align-self: flex-end;width: 50%;}#sk-container-id-2 div.sk-parallel-item:last-child::after {align-self: flex-start;width: 50%;}#sk-container-id-2 div.sk-parallel-item:only-child::after {width: 0;}#sk-container-id-2 div.sk-dashed-wrapped {border: 1px dashed gray;margin: 0 0.4em 0.5em 0.4em;box-sizing: border-box;padding-bottom: 0.4em;background-color: white;}#sk-container-id-2 div.sk-label label {font-family: monospace;font-weight: bold;display: inline-block;line-height: 1.2em;}#sk-container-id-2 div.sk-label-container {text-align: center;}#sk-container-id-2 div.sk-container {/* jupyter's `normalize.less` sets `[hidden] { display: none; }` but bootstrap.min.css set `[hidden] { display: none !important; }` so we also need the `!important` here to be able to override the default hidden behavior on the sphinx rendered scikit-learn.org. See: https://github.com/scikit-learn/scikit-learn/issues/21755 */display: inline-block !important;position: relative;}#sk-container-id-2 div.sk-text-repr-fallback {display: none;}</style><div id=\"sk-container-id-2\" class=\"sk-top-container\"><div class=\"sk-text-repr-fallback\"><pre>RegressorChain(base_estimator=SVR(), order=[0, 1, 2, 3, 4, 5, 6, 7, 8])</pre><b>In a Jupyter environment, please rerun this cell to show the HTML representation or trust the notebook. <br />On GitHub, the HTML representation is unable to render, please try loading this page with nbviewer.org.</b></div><div class=\"sk-container\" hidden><div class=\"sk-item sk-dashed-wrapped\"><div class=\"sk-label-container\"><div class=\"sk-label sk-toggleable\"><input class=\"sk-toggleable__control sk-hidden--visually\" id=\"sk-estimator-id-4\" type=\"checkbox\" ><label for=\"sk-estimator-id-4\" class=\"sk-toggleable__label sk-toggleable__label-arrow\">RegressorChain</label><div class=\"sk-toggleable__content\"><pre>RegressorChain(base_estimator=SVR(), order=[0, 1, 2, 3, 4, 5, 6, 7, 8])</pre></div></div></div><div class=\"sk-parallel\"><div class=\"sk-parallel-item\"><div class=\"sk-item\"><div class=\"sk-label-container\"><div class=\"sk-label sk-toggleable\"><input class=\"sk-toggleable__control sk-hidden--visually\" id=\"sk-estimator-id-5\" type=\"checkbox\" ><label for=\"sk-estimator-id-5\" class=\"sk-toggleable__label sk-toggleable__label-arrow\">base_estimator: SVR</label><div class=\"sk-toggleable__content\"><pre>SVR()</pre></div></div></div><div class=\"sk-serial\"><div class=\"sk-item\"><div class=\"sk-estimator sk-toggleable\"><input class=\"sk-toggleable__control sk-hidden--visually\" id=\"sk-estimator-id-6\" type=\"checkbox\" ><label for=\"sk-estimator-id-6\" class=\"sk-toggleable__label sk-toggleable__label-arrow\">SVR</label><div class=\"sk-toggleable__content\"><pre>SVR()</pre></div></div></div></div></div></div></div></div></div></div>"
      ],
      "text/plain": [
       "RegressorChain(base_estimator=SVR(), order=[0, 1, 2, 3, 4, 5, 6, 7, 8])"
      ]
     },
     "execution_count": 6,
     "metadata": {},
     "output_type": "execute_result"
    }
   ],
   "source": [
    "chain_poisson = RegressorChain(svr, order=[0,1,2,3,4,5,6,7,8])\n",
    "chain_poisson.fit(x_train,y_train)"
   ]
  },
  {
   "cell_type": "code",
   "execution_count": null,
   "metadata": {
    "colab": {
     "base_uri": "https://localhost:8080/"
    },
    "id": "EJgTlO5aHDfB",
    "outputId": "a1194858-b05f-4c41-a6ae-5ab948f3413c"
   },
   "outputs": [
    {
     "data": {
      "text/plain": [
       "array([[6.32257484e+00, 4.45415297e+00, 3.87495026e+00, ...,\n",
       "        8.63858597e-02, 1.02710709e-01, 9.69090138e-02],\n",
       "       [7.40741366e+00, 4.49613368e+00, 3.92254688e+00, ...,\n",
       "        8.59290467e-02, 1.02467136e-01, 9.66664391e-02],\n",
       "       [8.13379018e+00, 4.52425113e+00, 3.95440856e+00, ...,\n",
       "        8.56220914e-02, 1.02293231e-01, 9.65049134e-02],\n",
       "       ...,\n",
       "       [3.49555753e+01, 5.57029957e+00, 5.14052879e+00, ...,\n",
       "        7.48499238e-02, 9.62023650e-02, 9.04704328e-02],\n",
       "       [2.96390170e+01, 5.36207277e+00, 4.90415513e+00, ...,\n",
       "        7.69481904e-02, 9.73343139e-02, 9.17939891e-02],\n",
       "       [7.15802070e+01, 7.01131594e+00, 6.77180306e+00, ...,\n",
       "        6.18337121e-02, 8.86673604e-02, 8.23727925e-02]])"
      ]
     },
     "execution_count": 7,
     "metadata": {},
     "output_type": "execute_result"
    }
   ],
   "source": [
    "pred = chain_poisson.predict(x_val)\n",
    "save_model(chain_poisson, 'video_svr_chain')\n",
    "pred"
   ]
  },
  {
   "cell_type": "code",
   "execution_count": null,
   "metadata": {
    "colab": {
     "base_uri": "https://localhost:8080/"
    },
    "id": "49-jf8yxHDfC",
    "outputId": "07051062-e882-4d91-ab24-e86f94184e57"
   },
   "outputs": [
    {
     "name": "stdout",
     "output_type": "stream",
     "text": [
      "Mean Squared Error for parameter - 0: 13121.803774051064\n",
      "Mean Absolute Error for parameter - 0: 36.7706717565298\n",
      "\n",
      "\n",
      "Mean Squared Error for parameter - 1: 1919.9570031281005\n",
      "Mean Absolute Error for parameter - 1: 12.772797241651457\n",
      "\n",
      "\n",
      "Mean Squared Error for parameter - 2: 3570.5180386550683\n",
      "Mean Absolute Error for parameter - 2: 15.510604800614026\n",
      "\n",
      "\n",
      "Mean Squared Error for parameter - 3: 2537.198672270509\n",
      "Mean Absolute Error for parameter - 3: 12.293494190573618\n",
      "\n",
      "\n",
      "Mean Squared Error for parameter - 4: 20.3990485140151\n",
      "Mean Absolute Error for parameter - 4: 1.4620272618028034\n",
      "\n",
      "\n",
      "Mean Squared Error for parameter - 5: 1.409946375784454\n",
      "Mean Absolute Error for parameter - 5: 0.4171743202786188\n",
      "\n",
      "\n",
      "Mean Squared Error for parameter - 6: 388.8374768790617\n",
      "Mean Absolute Error for parameter - 6: 2.5674694279674357\n",
      "\n",
      "\n",
      "Mean Squared Error for parameter - 7: 39.82023693768767\n",
      "Mean Absolute Error for parameter - 7: 1.077099491100074\n",
      "\n",
      "\n",
      "Mean Squared Error for parameter - 8: 19.952393047466124\n",
      "Mean Absolute Error for parameter - 8: 0.5581226919575177\n",
      "\n",
      "\n"
     ]
    }
   ],
   "source": [
    "chain_svr_scores = []\n",
    "\n",
    "for i in range(9):\n",
    "    mse = mean_squared_error(y_true=y_val[:,i],y_pred=pred[:,i])\n",
    "    mae = mean_absolute_error(y_pred=pred[:,i],y_true=y_val[:,i])\n",
    "    print(f'Mean Squared Error for parameter - {i}: {mse}')\n",
    "    print(f'Mean Absolute Error for parameter - {i}: {mae}')\n",
    "    chain_svr_scores.append([mse,mae])\n",
    "    print('\\n')\n",
    "\n",
    "chain_svr_scores.append([mean_squared_error(y_true=y_val,y_pred=pred),mean_absolute_error(y_true=y_val,y_pred=pred)])\n"
   ]
  },
  {
   "cell_type": "markdown",
   "metadata": {
    "collapsed": false,
    "id": "BXpHCiZ3HDfD"
   },
   "source": [
    "## Decision Tree"
   ]
  },
  {
   "cell_type": "code",
   "execution_count": null,
   "metadata": {
    "id": "ptZqVlHYHDfF"
   },
   "outputs": [
    {
     "data": {
      "text/plain": [
       "array([[  7.,   1.,   1., ...,   0.,   1.,   0.],\n",
       "       [  3.,   6.,   1., ...,   0.,   3.,   0.],\n",
       "       [ 10.,   1.,   3., ...,   0.,   0.,   0.],\n",
       "       ...,\n",
       "       [416.,  63., 108., ...,   0.,   0.,   0.],\n",
       "       [ 18.,   4.,   3., ...,   0.,   0.,   0.],\n",
       "       [304.,  25., 166., ...,  37.,   0.,   0.]])"
      ]
     },
     "execution_count": 9,
     "metadata": {},
     "output_type": "execute_result"
    }
   ],
   "source": [
    "tree = DecisionTreeRegressor()\n",
    "tree.fit(x_train,y_train)\n",
    "pred = tree.predict(x_val)\n",
    "save_model(tree, 'video_tree')\n",
    "pred"
   ]
  },
  {
   "cell_type": "code",
   "execution_count": null,
   "metadata": {
    "colab": {
     "base_uri": "https://localhost:8080/"
    },
    "id": "axP0IqrsHDfG",
    "outputId": "94d39741-82c4-4d33-a3af-85a997286659"
   },
   "outputs": [
    {
     "name": "stdout",
     "output_type": "stream",
     "text": [
      "Mean Squared Error for parameter - 0: 8472.11320754717\n",
      "Mean Absolute Error for parameter - 0: 30.32704402515723\n",
      "\n",
      "\n",
      "Mean Squared Error for parameter - 1: 895.6477987421383\n",
      "Mean Absolute Error for parameter - 1: 11.452830188679245\n",
      "\n",
      "\n",
      "Mean Squared Error for parameter - 2: 4979.707547169812\n",
      "Mean Absolute Error for parameter - 2: 19.09748427672956\n",
      "\n",
      "\n",
      "Mean Squared Error for parameter - 3: 1560.0157232704403\n",
      "Mean Absolute Error for parameter - 3: 11.10377358490566\n",
      "\n",
      "\n",
      "Mean Squared Error for parameter - 4: 24.443396226415093\n",
      "Mean Absolute Error for parameter - 4: 1.7830188679245282\n",
      "\n",
      "\n",
      "Mean Squared Error for parameter - 5: 7.30503144654088\n",
      "Mean Absolute Error for parameter - 5: 0.7578616352201258\n",
      "\n",
      "\n",
      "Mean Squared Error for parameter - 6: 694.2767295597484\n",
      "Mean Absolute Error for parameter - 6: 3.880503144654088\n",
      "\n",
      "\n",
      "Mean Squared Error for parameter - 7: 47.198113207547166\n",
      "Mean Absolute Error for parameter - 7: 1.5188679245283019\n",
      "\n",
      "\n",
      "Mean Squared Error for parameter - 8: 7.79874213836478\n",
      "Mean Absolute Error for parameter - 8: 0.44025157232704404\n",
      "\n",
      "\n"
     ]
    }
   ],
   "source": [
    "decision_tree_scores = []\n",
    "\n",
    "for i in range(9):\n",
    "    mse = mean_squared_error(y_true=y_val[:,i],y_pred=pred[:,i])\n",
    "    mae = mean_absolute_error(y_pred=pred[:,i],y_true=y_val[:,i])\n",
    "    print(f'Mean Squared Error for parameter - {i}: {mse}')\n",
    "    print(f'Mean Absolute Error for parameter - {i}: {mae}')\n",
    "    decision_tree_scores.append([mse,mae])\n",
    "    print('\\n')\n",
    "\n",
    "decision_tree_scores.append([mean_squared_error(y_true=y_val,y_pred=pred),mean_absolute_error(y_true=y_val,y_pred=pred)])\n"
   ]
  },
  {
   "cell_type": "code",
   "execution_count": null,
   "metadata": {
    "id": "POuzrFvyHDfG"
   },
   "outputs": [],
   "source": [
    "#Scores for estimation\n",
    "df = pd.DataFrame(multi_svr_scores, columns=['Multi-SVR: MSE', 'Multi-SVR: MAE'])\n",
    "\n",
    "df = pd.concat([df, pd.DataFrame(chain_svr_scores, columns=['Chain-SVR: MSE', 'Chain-SVR: MAE'])],\n",
    "          axis=1)\n",
    "\n",
    "df = pd.concat([df,pd.DataFrame(decision_tree_scores, columns=['D-Tree: MSE', 'D-Tree: MAE'])],\n",
    "          axis=1)"
   ]
  },
  {
   "cell_type": "code",
   "execution_count": null,
   "metadata": {
    "colab": {
     "base_uri": "https://localhost:8080/",
     "height": 332
    },
    "id": "FFTjjW48HDfH",
    "outputId": "7f1fbcc2-0707-482e-f9e2-67d766b57db1"
   },
   "outputs": [
    {
     "data": {
      "text/html": [
       "<div>\n",
       "<style scoped>\n",
       "    .dataframe tbody tr th:only-of-type {\n",
       "        vertical-align: middle;\n",
       "    }\n",
       "\n",
       "    .dataframe tbody tr th {\n",
       "        vertical-align: top;\n",
       "    }\n",
       "\n",
       "    .dataframe thead th {\n",
       "        text-align: right;\n",
       "    }\n",
       "</style>\n",
       "<table border=\"1\" class=\"dataframe\">\n",
       "  <thead>\n",
       "    <tr style=\"text-align: right;\">\n",
       "      <th></th>\n",
       "      <th>Multi-SVR: MSE</th>\n",
       "      <th>Multi-SVR: MAE</th>\n",
       "      <th>Chain-SVR: MSE</th>\n",
       "      <th>Chain-SVR: MAE</th>\n",
       "      <th>D-Tree: MSE</th>\n",
       "      <th>D-Tree: MAE</th>\n",
       "    </tr>\n",
       "  </thead>\n",
       "  <tbody>\n",
       "    <tr>\n",
       "      <th>0</th>\n",
       "      <td>13121.803774</td>\n",
       "      <td>36.770672</td>\n",
       "      <td>13121.803774</td>\n",
       "      <td>36.770672</td>\n",
       "      <td>8472.113208</td>\n",
       "      <td>30.327044</td>\n",
       "    </tr>\n",
       "    <tr>\n",
       "      <th>1</th>\n",
       "      <td>1589.928349</td>\n",
       "      <td>11.225865</td>\n",
       "      <td>1919.957003</td>\n",
       "      <td>12.772797</td>\n",
       "      <td>895.647799</td>\n",
       "      <td>11.452830</td>\n",
       "    </tr>\n",
       "    <tr>\n",
       "      <th>2</th>\n",
       "      <td>3250.593162</td>\n",
       "      <td>14.353393</td>\n",
       "      <td>3570.518039</td>\n",
       "      <td>15.510605</td>\n",
       "      <td>4979.707547</td>\n",
       "      <td>19.097484</td>\n",
       "    </tr>\n",
       "    <tr>\n",
       "      <th>3</th>\n",
       "      <td>2159.856520</td>\n",
       "      <td>10.907644</td>\n",
       "      <td>2537.198672</td>\n",
       "      <td>12.293494</td>\n",
       "      <td>1560.015723</td>\n",
       "      <td>11.103774</td>\n",
       "    </tr>\n",
       "    <tr>\n",
       "      <th>4</th>\n",
       "      <td>15.980091</td>\n",
       "      <td>1.341499</td>\n",
       "      <td>20.399049</td>\n",
       "      <td>1.462027</td>\n",
       "      <td>24.443396</td>\n",
       "      <td>1.783019</td>\n",
       "    </tr>\n",
       "    <tr>\n",
       "      <th>5</th>\n",
       "      <td>1.374217</td>\n",
       "      <td>0.427167</td>\n",
       "      <td>1.409946</td>\n",
       "      <td>0.417174</td>\n",
       "      <td>7.305031</td>\n",
       "      <td>0.757862</td>\n",
       "    </tr>\n",
       "    <tr>\n",
       "      <th>6</th>\n",
       "      <td>386.928939</td>\n",
       "      <td>2.562146</td>\n",
       "      <td>388.837477</td>\n",
       "      <td>2.567469</td>\n",
       "      <td>694.276730</td>\n",
       "      <td>3.880503</td>\n",
       "    </tr>\n",
       "    <tr>\n",
       "      <th>7</th>\n",
       "      <td>39.790747</td>\n",
       "      <td>1.078946</td>\n",
       "      <td>39.820237</td>\n",
       "      <td>1.077099</td>\n",
       "      <td>47.198113</td>\n",
       "      <td>1.518868</td>\n",
       "    </tr>\n",
       "    <tr>\n",
       "      <th>8</th>\n",
       "      <td>16.810255</td>\n",
       "      <td>0.480872</td>\n",
       "      <td>19.952393</td>\n",
       "      <td>0.558123</td>\n",
       "      <td>7.798742</td>\n",
       "      <td>0.440252</td>\n",
       "    </tr>\n",
       "    <tr>\n",
       "      <th>9</th>\n",
       "      <td>2287.007339</td>\n",
       "      <td>8.794245</td>\n",
       "      <td>2402.210732</td>\n",
       "      <td>9.269940</td>\n",
       "      <td>1854.278477</td>\n",
       "      <td>8.929071</td>\n",
       "    </tr>\n",
       "  </tbody>\n",
       "</table>\n",
       "</div>"
      ],
      "text/plain": [
       "   Multi-SVR: MSE  Multi-SVR: MAE  Chain-SVR: MSE  Chain-SVR: MAE  \\\n",
       "0    13121.803774       36.770672    13121.803774       36.770672   \n",
       "1     1589.928349       11.225865     1919.957003       12.772797   \n",
       "2     3250.593162       14.353393     3570.518039       15.510605   \n",
       "3     2159.856520       10.907644     2537.198672       12.293494   \n",
       "4       15.980091        1.341499       20.399049        1.462027   \n",
       "5        1.374217        0.427167        1.409946        0.417174   \n",
       "6      386.928939        2.562146      388.837477        2.567469   \n",
       "7       39.790747        1.078946       39.820237        1.077099   \n",
       "8       16.810255        0.480872       19.952393        0.558123   \n",
       "9     2287.007339        8.794245     2402.210732        9.269940   \n",
       "\n",
       "   D-Tree: MSE  D-Tree: MAE  \n",
       "0  8472.113208    30.327044  \n",
       "1   895.647799    11.452830  \n",
       "2  4979.707547    19.097484  \n",
       "3  1560.015723    11.103774  \n",
       "4    24.443396     1.783019  \n",
       "5     7.305031     0.757862  \n",
       "6   694.276730     3.880503  \n",
       "7    47.198113     1.518868  \n",
       "8     7.798742     0.440252  \n",
       "9  1854.278477     8.929071  "
      ]
     },
     "execution_count": 12,
     "metadata": {},
     "output_type": "execute_result"
    }
   ],
   "source": [
    "df"
   ]
  },
  {
   "cell_type": "markdown",
   "metadata": {
    "collapsed": false,
    "id": "IvFXNucoHDfH"
   },
   "source": [
    "## Linear Regression"
   ]
  },
  {
   "cell_type": "code",
   "execution_count": null,
   "metadata": {
    "colab": {
     "base_uri": "https://localhost:8080/"
    },
    "id": "1KQWzwyTHDfH",
    "outputId": "17ecde5e-09fa-4538-f874-ee31f3932945"
   },
   "outputs": [
    {
     "data": {
      "text/plain": [
       "array([[-9.56821302e+00,  3.20900352e+00,  3.32703338e+00, ...,\n",
       "        -1.45885838e-01,  2.28679444e-01, -1.53384458e-01],\n",
       "       [-1.18457008e+02, -2.06914232e-01, -5.12208525e+01, ...,\n",
       "         5.03040765e+00,  1.42276419e+00, -8.32764361e+00],\n",
       "       [ 1.43561793e+02,  2.44940691e+01,  1.80297631e+02, ...,\n",
       "        -1.93570200e+00,  5.54413667e-01, -3.01470343e-01],\n",
       "       ...,\n",
       "       [ 2.05573664e+02,  2.20268574e+01,  1.06714565e+02, ...,\n",
       "        -2.66493515e+00, -1.69198436e+00,  2.88248904e+00],\n",
       "       [-4.92620568e+01,  8.38921177e+00,  2.33073991e+01, ...,\n",
       "         9.38942721e-01,  2.59106046e-01, -1.52745359e+01],\n",
       "       [-2.21475816e+02, -3.60579099e+01,  3.51922530e+01, ...,\n",
       "         7.49129625e+01,  6.48462742e+00, -1.28385715e+02]])"
      ]
     },
     "execution_count": 13,
     "metadata": {},
     "output_type": "execute_result"
    }
   ],
   "source": [
    "linear = LinearRegression()\n",
    "linear.fit(x_train,y_train)\n",
    "pred = linear.predict(x_val)\n",
    "pred"
   ]
  },
  {
   "cell_type": "code",
   "execution_count": null,
   "metadata": {
    "colab": {
     "base_uri": "https://localhost:8080/"
    },
    "id": "Q8XzHRW1HDfI",
    "outputId": "eb36f8fd-ca60-4572-f1e1-61de923a8c5b"
   },
   "outputs": [
    {
     "name": "stdout",
     "output_type": "stream",
     "text": [
      "Mean Squared Error for parameter - 0: 137887.89459492583\n",
      "Mean Absolute Error for parameter - 0: 151.86694069303547\n",
      "\n",
      "\n",
      "Mean Squared Error for parameter - 1: 1675.9918888636932\n",
      "Mean Absolute Error for parameter - 1: 17.71316560449715\n",
      "\n",
      "\n",
      "Mean Squared Error for parameter - 2: 45678.80713912998\n",
      "Mean Absolute Error for parameter - 2: 97.20915249628175\n",
      "\n",
      "\n",
      "Mean Squared Error for parameter - 3: 43633.89957318244\n",
      "Mean Absolute Error for parameter - 3: 109.71757413132994\n",
      "\n",
      "\n",
      "Mean Squared Error for parameter - 4: 985.1773122069492\n",
      "Mean Absolute Error for parameter - 4: 19.36177120701737\n",
      "\n",
      "\n",
      "Mean Squared Error for parameter - 5: 1.9638512177252772\n",
      "Mean Absolute Error for parameter - 5: 0.836330678302422\n",
      "\n",
      "\n",
      "Mean Squared Error for parameter - 6: 340.7716947410513\n",
      "Mean Absolute Error for parameter - 6: 7.4312926612705965\n",
      "\n",
      "\n",
      "Mean Squared Error for parameter - 7: 45.498595672708895\n",
      "Mean Absolute Error for parameter - 7: 2.7301650791253884\n",
      "\n",
      "\n",
      "Mean Squared Error for parameter - 8: 1096.1119440709929\n",
      "Mean Absolute Error for parameter - 8: 17.5727793956137\n",
      "\n",
      "\n"
     ]
    }
   ],
   "source": [
    "\n",
    "save_model(linear, 'video_linear')\n",
    "\n",
    "linear_regression_scores = []\n",
    "\n",
    "for i in range(9):\n",
    "    mse = mean_squared_error(y_true=y_val[:,i],y_pred=pred[:,i])\n",
    "    mae = mean_absolute_error(y_pred=pred[:,i],y_true=y_val[:,i])\n",
    "    print(f'Mean Squared Error for parameter - {i}: {mse}')\n",
    "    print(f'Mean Absolute Error for parameter - {i}: {mae}')\n",
    "    linear_regression_scores.append([mse,mae])\n",
    "    print('\\n')\n",
    "\n",
    "linear_regression_scores.append([mean_squared_error(y_true=y_val,y_pred=pred),mean_absolute_error(y_true=y_val,y_pred=pred)])\n",
    "df = pd.concat([df,pd.DataFrame(linear_regression_scores, columns=['Linear: MSE', 'Linear: MAE'])],\n",
    "          axis=1)"
   ]
  },
  {
   "cell_type": "code",
   "execution_count": null,
   "metadata": {
    "id": "u86HTCizHDfI"
   },
   "outputs": [],
   "source": []
  },
  {
   "cell_type": "markdown",
   "metadata": {
    "collapsed": false,
    "id": "YLy9_xWKHDfI"
   },
   "source": [
    "## Random Forest"
   ]
  },
  {
   "cell_type": "code",
   "execution_count": null,
   "metadata": {
    "id": "95s-uiGNHDfI"
   },
   "outputs": [],
   "source": [
    "forest = RandomForestRegressor()\n",
    "multi_forest = MultiOutputRegressor(forest)\n",
    "multi_forest.fit(x_train,y_train)\n",
    "pred = multi_forest.predict(x_val)\n",
    "\n",
    "save_model(multi_forest, 'video_forest_multi')"
   ]
  },
  {
   "cell_type": "code",
   "execution_count": null,
   "metadata": {
    "colab": {
     "base_uri": "https://localhost:8080/"
    },
    "id": "bMhW2aVEHDfJ",
    "outputId": "1bb4bdd3-c57b-4580-e83b-b5c15c3c5b73"
   },
   "outputs": [
    {
     "name": "stdout",
     "output_type": "stream",
     "text": [
      "Mean Squared Error for parameter - 0: 6682.866818238994\n",
      "Mean Absolute Error for parameter - 0: 25.432830188679244\n",
      "\n",
      "\n",
      "Mean Squared Error for parameter - 1: 955.0343556603773\n",
      "Mean Absolute Error for parameter - 1: 10.305377358490565\n",
      "\n",
      "\n",
      "Mean Squared Error for parameter - 2: 1815.2711635220126\n",
      "Mean Absolute Error for parameter - 2: 13.433710691823899\n",
      "\n",
      "\n",
      "Mean Squared Error for parameter - 3: 957.4084625786164\n",
      "Mean Absolute Error for parameter - 3: 8.128081761006289\n",
      "\n",
      "\n",
      "Mean Squared Error for parameter - 4: 12.87527704402516\n",
      "Mean Absolute Error for parameter - 4: 1.504559748427673\n",
      "\n",
      "\n",
      "Mean Squared Error for parameter - 5: 32.21466603773586\n",
      "Mean Absolute Error for parameter - 5: 1.1476729559748426\n",
      "\n",
      "\n",
      "Mean Squared Error for parameter - 6: 271.88947578616353\n",
      "Mean Absolute Error for parameter - 6: 3.3905974842767295\n",
      "\n",
      "\n",
      "Mean Squared Error for parameter - 7: 43.34776855345911\n",
      "Mean Absolute Error for parameter - 7: 1.3451572327044026\n",
      "\n",
      "\n",
      "Mean Squared Error for parameter - 8: 23.517117610062893\n",
      "Mean Absolute Error for parameter - 8: 0.6912578616352201\n",
      "\n",
      "\n"
     ]
    }
   ],
   "source": [
    "random_forest_scores = []\n",
    "\n",
    "for i in range(9):\n",
    "    mse = mean_squared_error(y_true=y_val[:,i],y_pred=pred[:,i])\n",
    "    mae = mean_absolute_error(y_pred=pred[:,i],y_true=y_val[:,i])\n",
    "    print(f'Mean Squared Error for parameter - {i}: {mse}')\n",
    "    print(f'Mean Absolute Error for parameter - {i}: {mae}')\n",
    "    random_forest_scores.append([mse,mae])\n",
    "    print('\\n')\n",
    "\n",
    "random_forest_scores.append([mean_squared_error(y_true=y_val,y_pred=pred),mean_absolute_error(y_true=y_val,y_pred=pred)])\n",
    "df = pd.concat([df,pd.DataFrame(random_forest_scores, columns=['Random Forest: MSE', 'Random Forest: MAE'])],\n",
    "          axis=1)"
   ]
  },
  {
   "cell_type": "markdown",
   "metadata": {},
   "source": [
    "## Random Forest - Poisson Criterion"
   ]
  },
  {
   "cell_type": "code",
   "execution_count": null,
   "metadata": {},
   "outputs": [],
   "source": [
    "forest = RandomForestRegressor(criterion='poisson')\n",
    "multi_forest = MultiOutputRegressor(forest)\n",
    "multi_forest.fit(x_train,y_train)\n",
    "pred = multi_forest.predict(x_val)\n",
    "\n",
    "save_model(multi_forest, 'video_forest_multi')"
   ]
  },
  {
   "cell_type": "code",
   "execution_count": null,
   "metadata": {},
   "outputs": [
    {
     "name": "stdout",
     "output_type": "stream",
     "text": [
      "Mean Squared Error for parameter - 0: 7057.845247965239\n",
      "Mean Absolute Error for parameter - 0: 25.83069510582011\n",
      "\n",
      "\n",
      "Mean Squared Error for parameter - 1: 1077.798219353892\n",
      "Mean Absolute Error for parameter - 1: 10.837815501676767\n",
      "\n",
      "\n",
      "Mean Squared Error for parameter - 2: 1452.4595510153874\n",
      "Mean Absolute Error for parameter - 2: 11.807607726849321\n",
      "\n",
      "\n",
      "Mean Squared Error for parameter - 3: 976.866708283015\n",
      "Mean Absolute Error for parameter - 3: 8.278825717022128\n",
      "\n",
      "\n",
      "Mean Squared Error for parameter - 4: 20.194960667007763\n",
      "Mean Absolute Error for parameter - 4: 1.5673460751673824\n",
      "\n",
      "\n",
      "Mean Squared Error for parameter - 5: 6.881381007520304\n",
      "Mean Absolute Error for parameter - 5: 0.8837655862670044\n",
      "\n",
      "\n",
      "Mean Squared Error for parameter - 6: 264.8351408618017\n",
      "Mean Absolute Error for parameter - 6: 3.333346072423179\n",
      "\n",
      "\n",
      "Mean Squared Error for parameter - 7: 34.120407819801486\n",
      "Mean Absolute Error for parameter - 7: 1.3908070822587442\n",
      "\n",
      "\n",
      "Mean Squared Error for parameter - 8: 47.994098526994954\n",
      "Mean Absolute Error for parameter - 8: 0.8385588041462047\n",
      "\n",
      "\n"
     ]
    }
   ],
   "source": [
    "random_forest_scores = []\n",
    "\n",
    "for i in range(9):\n",
    "    mse = mean_squared_error(y_true=y_val[:,i],y_pred=pred[:,i])\n",
    "    mae = mean_absolute_error(y_pred=pred[:,i],y_true=y_val[:,i])\n",
    "    print(f'Mean Squared Error for parameter - {i}: {mse}')\n",
    "    print(f'Mean Absolute Error for parameter - {i}: {mae}')\n",
    "    random_forest_scores.append([mse,mae])\n",
    "    print('\\n')\n",
    "\n",
    "random_forest_scores.append([mean_squared_error(y_true=y_val,y_pred=pred),mean_absolute_error(y_true=y_val,y_pred=pred)])\n",
    "df = pd.concat([df,pd.DataFrame(random_forest_scores, columns=['Random Forest_Poisson: MSE', 'Random Forest_Poisson: MAE'])],\n",
    "          axis=1)"
   ]
  },
  {
   "cell_type": "markdown",
   "metadata": {
    "collapsed": false,
    "id": "7jGhJHNvHDfL"
   },
   "source": [
    "## Perceptron Model"
   ]
  },
  {
   "cell_type": "code",
   "execution_count": null,
   "metadata": {
    "id": "1PuDumaXHDfL"
   },
   "outputs": [
    {
     "name": "stderr",
     "output_type": "stream",
     "text": [
      "2022-11-11 01:49:36.586333: I tensorflow/core/platform/cpu_feature_guard.cc:193] This TensorFlow binary is optimized with oneAPI Deep Neural Network Library (oneDNN) to use the following CPU instructions in performance-critical operations:  AVX2 FMA\n",
      "To enable them in other operations, rebuild TensorFlow with the appropriate compiler flags.\n",
      "2022-11-11 01:49:36.704050: W tensorflow/stream_executor/platform/default/dso_loader.cc:64] Could not load dynamic library 'libcudart.so.11.0'; dlerror: libcudart.so.11.0: cannot open shared object file: No such file or directory; LD_LIBRARY_PATH: /app/lib\n",
      "2022-11-11 01:49:36.704068: I tensorflow/stream_executor/cuda/cudart_stub.cc:29] Ignore above cudart dlerror if you do not have a GPU set up on your machine.\n",
      "2022-11-11 01:49:36.726796: E tensorflow/stream_executor/cuda/cuda_blas.cc:2981] Unable to register cuBLAS factory: Attempting to register factory for plugin cuBLAS when one has already been registered\n",
      "2022-11-11 01:49:37.330031: W tensorflow/stream_executor/platform/default/dso_loader.cc:64] Could not load dynamic library 'libnvinfer.so.7'; dlerror: libnvinfer.so.7: cannot open shared object file: No such file or directory; LD_LIBRARY_PATH: /app/lib\n",
      "2022-11-11 01:49:37.330103: W tensorflow/stream_executor/platform/default/dso_loader.cc:64] Could not load dynamic library 'libnvinfer_plugin.so.7'; dlerror: libnvinfer_plugin.so.7: cannot open shared object file: No such file or directory; LD_LIBRARY_PATH: /app/lib\n",
      "2022-11-11 01:49:37.330112: W tensorflow/compiler/tf2tensorrt/utils/py_utils.cc:38] TF-TRT Warning: Cannot dlopen some TensorRT libraries. If you would like to use Nvidia GPU with TensorRT, please make sure the missing libraries mentioned above are installed properly.\n"
     ]
    }
   ],
   "source": [
    "import tensorflow as tf\n",
    "from tensorflow import keras\n",
    "from keras.models import Sequential\n",
    "from keras.layers import Dense,Dropout"
   ]
  },
  {
   "cell_type": "code",
   "execution_count": null,
   "metadata": {
    "id": "9mrdCVC0HDfL"
   },
   "outputs": [
    {
     "name": "stderr",
     "output_type": "stream",
     "text": [
      "2022-11-11 01:49:38.016506: I tensorflow/stream_executor/cuda/cuda_gpu_executor.cc:980] successful NUMA node read from SysFS had negative value (-1), but there must be at least one NUMA node, so returning NUMA node zero\n",
      "2022-11-11 01:49:38.017042: W tensorflow/stream_executor/platform/default/dso_loader.cc:64] Could not load dynamic library 'libcudart.so.11.0'; dlerror: libcudart.so.11.0: cannot open shared object file: No such file or directory; LD_LIBRARY_PATH: /app/lib\n",
      "2022-11-11 01:49:38.017099: W tensorflow/stream_executor/platform/default/dso_loader.cc:64] Could not load dynamic library 'libcublas.so.11'; dlerror: libcublas.so.11: cannot open shared object file: No such file or directory; LD_LIBRARY_PATH: /app/lib\n",
      "2022-11-11 01:49:38.017152: W tensorflow/stream_executor/platform/default/dso_loader.cc:64] Could not load dynamic library 'libcublasLt.so.11'; dlerror: libcublasLt.so.11: cannot open shared object file: No such file or directory; LD_LIBRARY_PATH: /app/lib\n",
      "2022-11-11 01:49:38.017202: W tensorflow/stream_executor/platform/default/dso_loader.cc:64] Could not load dynamic library 'libcufft.so.10'; dlerror: libcufft.so.10: cannot open shared object file: No such file or directory; LD_LIBRARY_PATH: /app/lib\n",
      "2022-11-11 01:49:38.017266: W tensorflow/stream_executor/platform/default/dso_loader.cc:64] Could not load dynamic library 'libcurand.so.10'; dlerror: libcurand.so.10: cannot open shared object file: No such file or directory; LD_LIBRARY_PATH: /app/lib\n",
      "2022-11-11 01:49:38.017317: W tensorflow/stream_executor/platform/default/dso_loader.cc:64] Could not load dynamic library 'libcusolver.so.11'; dlerror: libcusolver.so.11: cannot open shared object file: No such file or directory; LD_LIBRARY_PATH: /app/lib\n",
      "2022-11-11 01:49:38.017367: W tensorflow/stream_executor/platform/default/dso_loader.cc:64] Could not load dynamic library 'libcusparse.so.11'; dlerror: libcusparse.so.11: cannot open shared object file: No such file or directory; LD_LIBRARY_PATH: /app/lib\n",
      "2022-11-11 01:49:38.017417: W tensorflow/stream_executor/platform/default/dso_loader.cc:64] Could not load dynamic library 'libcudnn.so.8'; dlerror: libcudnn.so.8: cannot open shared object file: No such file or directory; LD_LIBRARY_PATH: /app/lib\n",
      "2022-11-11 01:49:38.017427: W tensorflow/core/common_runtime/gpu/gpu_device.cc:1934] Cannot dlopen some GPU libraries. Please make sure the missing libraries mentioned above are installed properly if you would like to use GPU. Follow the guide at https://www.tensorflow.org/install/gpu for how to download and setup the required libraries for your platform.\n",
      "Skipping registering GPU devices...\n",
      "2022-11-11 01:49:38.017822: I tensorflow/core/platform/cpu_feature_guard.cc:193] This TensorFlow binary is optimized with oneAPI Deep Neural Network Library (oneDNN) to use the following CPU instructions in performance-critical operations:  AVX2 FMA\n",
      "To enable them in other operations, rebuild TensorFlow with the appropriate compiler flags.\n"
     ]
    }
   ],
   "source": [
    "model = Sequential(\n",
    "    [\n",
    "        Dense(128, input_dim=26, activation='relu', kernel_initializer='normal'),\n",
    "        Dropout(0.2),\n",
    "        Dense(64, activation='relu', kernel_initializer='normal'),\n",
    "        Dropout(0.3),\n",
    "        Dense(32, activation='relu', kernel_initializer='normal'),\n",
    "        Dense(9, kernel_initializer='normal')\n",
    "    ]\n",
    ")\n",
    "\n",
    "model.compile(loss='mse', optimizer='adam', metrics=[ tf.keras.metrics.MeanSquaredError()])"
   ]
  },
  {
   "cell_type": "code",
   "execution_count": null,
   "metadata": {
    "colab": {
     "base_uri": "https://localhost:8080/"
    },
    "id": "hSXIWDeCIi-P",
    "outputId": "ea985206-93a2-411c-e925-21a0318a39f1"
   },
   "outputs": [
    {
     "data": {
      "text/plain": [
       "(2855, 26)"
      ]
     },
     "execution_count": 21,
     "metadata": {},
     "output_type": "execute_result"
    }
   ],
   "source": [
    "x_train.shape"
   ]
  },
  {
   "cell_type": "code",
   "execution_count": null,
   "metadata": {
    "colab": {
     "base_uri": "https://localhost:8080/"
    },
    "id": "YZhxbKRnHDfL",
    "outputId": "aa172080-56ce-4570-8fd3-31649343ed60"
   },
   "outputs": [
    {
     "name": "stdout",
     "output_type": "stream",
     "text": [
      "Epoch 1/100\n",
      "90/90 [==============================] - 1s 1ms/step - loss: 991375.3125 - mean_squared_error: 991375.3125\n",
      "Epoch 2/100\n",
      "90/90 [==============================] - 0s 1ms/step - loss: 988827.8125 - mean_squared_error: 988827.8125\n",
      "Epoch 3/100\n",
      "90/90 [==============================] - 0s 1ms/step - loss: 979043.0625 - mean_squared_error: 979043.0625\n",
      "Epoch 4/100\n",
      "90/90 [==============================] - 0s 1ms/step - loss: 961066.3125 - mean_squared_error: 961066.3125\n",
      "Epoch 5/100\n",
      "90/90 [==============================] - 0s 1ms/step - loss: 932682.4375 - mean_squared_error: 932682.4375\n",
      "Epoch 6/100\n",
      "90/90 [==============================] - 0s 1ms/step - loss: 873234.5000 - mean_squared_error: 873234.5000\n",
      "Epoch 7/100\n",
      "90/90 [==============================] - 0s 1ms/step - loss: 792711.1875 - mean_squared_error: 792711.1875\n",
      "Epoch 8/100\n",
      "90/90 [==============================] - 0s 1ms/step - loss: 688439.3750 - mean_squared_error: 688439.3750\n",
      "Epoch 9/100\n",
      "90/90 [==============================] - 0s 1ms/step - loss: 630576.0000 - mean_squared_error: 630576.0000\n",
      "Epoch 10/100\n",
      "90/90 [==============================] - 0s 2ms/step - loss: 550441.1875 - mean_squared_error: 550441.1875\n",
      "Epoch 11/100\n",
      "90/90 [==============================] - 0s 1ms/step - loss: 479036.0625 - mean_squared_error: 479036.0625\n",
      "Epoch 12/100\n",
      "90/90 [==============================] - 0s 1ms/step - loss: 459579.8438 - mean_squared_error: 459579.8438\n",
      "Epoch 13/100\n",
      "90/90 [==============================] - 0s 1ms/step - loss: 464758.0625 - mean_squared_error: 464758.0625\n",
      "Epoch 14/100\n",
      "90/90 [==============================] - 0s 1ms/step - loss: 425169.1875 - mean_squared_error: 425169.1875\n",
      "Epoch 15/100\n",
      "90/90 [==============================] - 0s 1ms/step - loss: 441270.1562 - mean_squared_error: 441270.1562\n",
      "Epoch 16/100\n",
      "90/90 [==============================] - 0s 1ms/step - loss: 449880.2188 - mean_squared_error: 449880.2188\n",
      "Epoch 17/100\n",
      "90/90 [==============================] - 0s 1ms/step - loss: 386901.1875 - mean_squared_error: 386901.1875\n",
      "Epoch 18/100\n",
      "90/90 [==============================] - 0s 1ms/step - loss: 460426.5312 - mean_squared_error: 460426.5312\n",
      "Epoch 19/100\n",
      "90/90 [==============================] - 0s 1ms/step - loss: 422133.0312 - mean_squared_error: 422133.0312\n",
      "Epoch 20/100\n",
      "90/90 [==============================] - 0s 1ms/step - loss: 348090.8125 - mean_squared_error: 348090.8125\n",
      "Epoch 21/100\n",
      "90/90 [==============================] - 0s 1ms/step - loss: 415532.7500 - mean_squared_error: 415532.7500\n",
      "Epoch 22/100\n",
      "90/90 [==============================] - 0s 1ms/step - loss: 436273.5000 - mean_squared_error: 436273.5000\n",
      "Epoch 23/100\n",
      "90/90 [==============================] - 0s 1ms/step - loss: 394324.5938 - mean_squared_error: 394324.5938\n",
      "Epoch 24/100\n",
      "90/90 [==============================] - 0s 1ms/step - loss: 381521.6562 - mean_squared_error: 381521.6562\n",
      "Epoch 25/100\n",
      "90/90 [==============================] - 0s 1ms/step - loss: 379936.0000 - mean_squared_error: 379936.0000\n",
      "Epoch 26/100\n",
      "90/90 [==============================] - 0s 2ms/step - loss: 406064.4688 - mean_squared_error: 406064.4688\n",
      "Epoch 27/100\n",
      "90/90 [==============================] - 0s 1ms/step - loss: 414544.8750 - mean_squared_error: 414544.8750\n",
      "Epoch 28/100\n",
      "90/90 [==============================] - 0s 1ms/step - loss: 350113.8750 - mean_squared_error: 350113.8750\n",
      "Epoch 29/100\n",
      "90/90 [==============================] - 0s 1ms/step - loss: 415952.7500 - mean_squared_error: 415952.7500\n",
      "Epoch 30/100\n",
      "90/90 [==============================] - 0s 1ms/step - loss: 438762.9375 - mean_squared_error: 438762.9375\n",
      "Epoch 31/100\n",
      "90/90 [==============================] - 0s 1ms/step - loss: 416572.1562 - mean_squared_error: 416572.1562\n",
      "Epoch 32/100\n",
      "90/90 [==============================] - 0s 1ms/step - loss: 385837.5938 - mean_squared_error: 385837.5938\n",
      "Epoch 33/100\n",
      "90/90 [==============================] - 0s 1ms/step - loss: 387495.2812 - mean_squared_error: 387495.2812\n",
      "Epoch 34/100\n",
      "90/90 [==============================] - 0s 2ms/step - loss: 399975.6875 - mean_squared_error: 399975.6875\n",
      "Epoch 35/100\n",
      "90/90 [==============================] - 0s 1ms/step - loss: 353622.5625 - mean_squared_error: 353622.5625\n",
      "Epoch 36/100\n",
      "90/90 [==============================] - 0s 2ms/step - loss: 323079.6562 - mean_squared_error: 323079.6562\n",
      "Epoch 37/100\n",
      "90/90 [==============================] - 0s 2ms/step - loss: 359867.6250 - mean_squared_error: 359867.6250\n",
      "Epoch 38/100\n",
      "90/90 [==============================] - 0s 2ms/step - loss: 363948.3750 - mean_squared_error: 363948.3750\n",
      "Epoch 39/100\n",
      "90/90 [==============================] - 0s 1ms/step - loss: 338076.6875 - mean_squared_error: 338076.6875\n",
      "Epoch 40/100\n",
      "90/90 [==============================] - 0s 2ms/step - loss: 384621.4375 - mean_squared_error: 384621.4375\n",
      "Epoch 41/100\n",
      "90/90 [==============================] - 0s 2ms/step - loss: 360128.0938 - mean_squared_error: 360128.0938\n",
      "Epoch 42/100\n",
      "90/90 [==============================] - 0s 1ms/step - loss: 367244.9688 - mean_squared_error: 367244.9688\n",
      "Epoch 43/100\n",
      "90/90 [==============================] - 0s 1ms/step - loss: 382553.4375 - mean_squared_error: 382553.4375\n",
      "Epoch 44/100\n",
      "90/90 [==============================] - 0s 1ms/step - loss: 380571.7188 - mean_squared_error: 380571.7188\n",
      "Epoch 45/100\n",
      "90/90 [==============================] - 0s 1ms/step - loss: 332643.0312 - mean_squared_error: 332643.0312\n",
      "Epoch 46/100\n",
      "90/90 [==============================] - 0s 2ms/step - loss: 375153.8125 - mean_squared_error: 375153.8125\n",
      "Epoch 47/100\n",
      "90/90 [==============================] - 0s 1ms/step - loss: 369821.9375 - mean_squared_error: 369821.9375\n",
      "Epoch 48/100\n",
      "90/90 [==============================] - 0s 2ms/step - loss: 380783.0000 - mean_squared_error: 380783.0000\n",
      "Epoch 49/100\n",
      "90/90 [==============================] - 0s 1ms/step - loss: 350013.0938 - mean_squared_error: 350013.0938\n",
      "Epoch 50/100\n",
      "90/90 [==============================] - 0s 1ms/step - loss: 406458.4688 - mean_squared_error: 406458.4688\n",
      "Epoch 51/100\n",
      "90/90 [==============================] - 0s 2ms/step - loss: 414804.0938 - mean_squared_error: 414804.0938\n",
      "Epoch 52/100\n",
      "90/90 [==============================] - 0s 1ms/step - loss: 333414.9062 - mean_squared_error: 333414.9062\n",
      "Epoch 53/100\n",
      "90/90 [==============================] - 0s 1ms/step - loss: 360420.8438 - mean_squared_error: 360420.8438\n",
      "Epoch 54/100\n",
      "90/90 [==============================] - 0s 1ms/step - loss: 364481.0312 - mean_squared_error: 364481.0312\n",
      "Epoch 55/100\n",
      "90/90 [==============================] - 0s 1ms/step - loss: 356744.8438 - mean_squared_error: 356744.8438\n",
      "Epoch 56/100\n",
      "90/90 [==============================] - 0s 1ms/step - loss: 337355.1562 - mean_squared_error: 337355.1562\n",
      "Epoch 57/100\n",
      "90/90 [==============================] - 0s 1ms/step - loss: 329207.6562 - mean_squared_error: 329207.6562\n",
      "Epoch 58/100\n",
      "90/90 [==============================] - 0s 1ms/step - loss: 336973.1250 - mean_squared_error: 336973.1250\n",
      "Epoch 59/100\n",
      "90/90 [==============================] - 0s 1ms/step - loss: 392293.4688 - mean_squared_error: 392293.4688\n",
      "Epoch 60/100\n",
      "90/90 [==============================] - 0s 1ms/step - loss: 307208.4062 - mean_squared_error: 307208.4062\n",
      "Epoch 61/100\n",
      "90/90 [==============================] - 0s 1ms/step - loss: 380840.8125 - mean_squared_error: 380840.8125\n",
      "Epoch 62/100\n",
      "90/90 [==============================] - 0s 1ms/step - loss: 334408.9688 - mean_squared_error: 334408.9688\n",
      "Epoch 63/100\n",
      "90/90 [==============================] - 0s 1ms/step - loss: 359288.0625 - mean_squared_error: 359288.0625\n",
      "Epoch 64/100\n",
      "90/90 [==============================] - 0s 1ms/step - loss: 345006.5625 - mean_squared_error: 345006.5625\n",
      "Epoch 65/100\n",
      "90/90 [==============================] - 0s 1ms/step - loss: 337267.0312 - mean_squared_error: 337267.0312\n",
      "Epoch 66/100\n",
      "90/90 [==============================] - 0s 1ms/step - loss: 258424.3281 - mean_squared_error: 258424.3281\n",
      "Epoch 67/100\n",
      "90/90 [==============================] - 0s 1ms/step - loss: 367378.6562 - mean_squared_error: 367378.6562\n",
      "Epoch 68/100\n",
      "90/90 [==============================] - 0s 1ms/step - loss: 341794.6250 - mean_squared_error: 341794.6250\n",
      "Epoch 69/100\n",
      "90/90 [==============================] - 0s 1ms/step - loss: 369605.6562 - mean_squared_error: 369605.6562\n",
      "Epoch 70/100\n",
      "90/90 [==============================] - 0s 2ms/step - loss: 354945.4062 - mean_squared_error: 354945.4062\n",
      "Epoch 71/100\n",
      "90/90 [==============================] - 0s 1ms/step - loss: 312040.7812 - mean_squared_error: 312040.7812\n",
      "Epoch 72/100\n",
      "90/90 [==============================] - 0s 1ms/step - loss: 352840.0312 - mean_squared_error: 352840.0312\n",
      "Epoch 73/100\n",
      "90/90 [==============================] - 0s 1ms/step - loss: 306723.8750 - mean_squared_error: 306723.8750\n",
      "Epoch 74/100\n",
      "90/90 [==============================] - 0s 1ms/step - loss: 293254.8750 - mean_squared_error: 293254.8750\n",
      "Epoch 75/100\n",
      "90/90 [==============================] - 0s 1ms/step - loss: 296271.1562 - mean_squared_error: 296271.1562\n",
      "Epoch 76/100\n",
      "90/90 [==============================] - 0s 1ms/step - loss: 323578.4375 - mean_squared_error: 323578.4375\n",
      "Epoch 77/100\n",
      "90/90 [==============================] - 0s 1ms/step - loss: 321475.3125 - mean_squared_error: 321475.3125\n",
      "Epoch 78/100\n",
      "90/90 [==============================] - 0s 1ms/step - loss: 306843.3125 - mean_squared_error: 306843.3125\n",
      "Epoch 79/100\n",
      "90/90 [==============================] - 0s 1ms/step - loss: 298530.8438 - mean_squared_error: 298530.8438\n",
      "Epoch 80/100\n",
      "90/90 [==============================] - 0s 1ms/step - loss: 322974.3438 - mean_squared_error: 322974.3438\n",
      "Epoch 81/100\n",
      "90/90 [==============================] - 0s 1ms/step - loss: 300717.9688 - mean_squared_error: 300717.9688\n",
      "Epoch 82/100\n",
      "90/90 [==============================] - 0s 1ms/step - loss: 331797.6250 - mean_squared_error: 331797.6250\n",
      "Epoch 83/100\n",
      "90/90 [==============================] - 0s 1ms/step - loss: 304358.4375 - mean_squared_error: 304358.4375\n",
      "Epoch 84/100\n",
      "90/90 [==============================] - 0s 1ms/step - loss: 290629.8438 - mean_squared_error: 290629.8438\n",
      "Epoch 85/100\n",
      "90/90 [==============================] - 0s 1ms/step - loss: 350221.6875 - mean_squared_error: 350221.6875\n",
      "Epoch 86/100\n",
      "90/90 [==============================] - 0s 1ms/step - loss: 329512.0938 - mean_squared_error: 329512.0938\n",
      "Epoch 87/100\n",
      "90/90 [==============================] - 0s 1ms/step - loss: 320734.7188 - mean_squared_error: 320734.7188\n",
      "Epoch 88/100\n",
      "90/90 [==============================] - 0s 1ms/step - loss: 329059.4062 - mean_squared_error: 329059.4062\n",
      "Epoch 89/100\n",
      "90/90 [==============================] - 0s 1ms/step - loss: 301330.8125 - mean_squared_error: 301330.8125\n",
      "Epoch 90/100\n",
      "90/90 [==============================] - 0s 1ms/step - loss: 291644.4688 - mean_squared_error: 291644.4688\n",
      "Epoch 91/100\n",
      "90/90 [==============================] - 0s 1ms/step - loss: 275415.0312 - mean_squared_error: 275415.0312\n",
      "Epoch 92/100\n",
      "90/90 [==============================] - 0s 1ms/step - loss: 296531.4688 - mean_squared_error: 296531.4688\n",
      "Epoch 93/100\n",
      "90/90 [==============================] - 0s 1ms/step - loss: 336163.6562 - mean_squared_error: 336163.6562\n",
      "Epoch 94/100\n",
      "90/90 [==============================] - 0s 1ms/step - loss: 280622.3438 - mean_squared_error: 280622.3438\n",
      "Epoch 95/100\n",
      "90/90 [==============================] - 0s 1ms/step - loss: 270986.6875 - mean_squared_error: 270986.6875\n",
      "Epoch 96/100\n",
      "90/90 [==============================] - 0s 1ms/step - loss: 289515.9062 - mean_squared_error: 289515.9062\n",
      "Epoch 97/100\n",
      "90/90 [==============================] - 0s 1ms/step - loss: 260183.2656 - mean_squared_error: 260183.2656\n",
      "Epoch 98/100\n",
      "90/90 [==============================] - 0s 1ms/step - loss: 287482.3438 - mean_squared_error: 287482.3438\n",
      "Epoch 99/100\n",
      "90/90 [==============================] - 0s 1ms/step - loss: 298021.3125 - mean_squared_error: 298021.3125\n",
      "Epoch 100/100\n",
      "90/90 [==============================] - 0s 1ms/step - loss: 275108.1250 - mean_squared_error: 275108.1250\n"
     ]
    },
    {
     "data": {
      "text/plain": [
       "<keras.callbacks.History at 0x7fe1937770d0>"
      ]
     },
     "execution_count": 22,
     "metadata": {},
     "output_type": "execute_result"
    }
   ],
   "source": [
    "model.fit(x_train,y_train, epochs=100, batch_size=32)"
   ]
  },
  {
   "cell_type": "code",
   "execution_count": null,
   "metadata": {
    "colab": {
     "base_uri": "https://localhost:8080/"
    },
    "id": "sMAxy-P6I0O3",
    "outputId": "8d72dc5c-a83f-4e72-f939-072e4e8c9b0d"
   },
   "outputs": [
    {
     "name": "stdout",
     "output_type": "stream",
     "text": [
      "10/10 [==============================] - 0s 928us/step\n"
     ]
    },
    {
     "data": {
      "text/plain": [
       "2416.1901043455414"
      ]
     },
     "execution_count": 23,
     "metadata": {},
     "output_type": "execute_result"
    }
   ],
   "source": [
    "pred = model.predict(x_val)\n",
    "save_model(model.get_weights(), 'video_mlp')\n",
    "mean_squared_error(y_val,pred)"
   ]
  },
  {
   "cell_type": "code",
   "execution_count": null,
   "metadata": {
    "colab": {
     "base_uri": "https://localhost:8080/"
    },
    "id": "xScCl_7QJetl",
    "outputId": "656a8b4a-4c30-44c0-de00-ca2bbec81d80"
   },
   "outputs": [
    {
     "name": "stdout",
     "output_type": "stream",
     "text": [
      "Mean Squared Error for parameter - 0: 13760.031717079832\n",
      "Mean Absolute Error for parameter - 0: 47.50402707273855\n",
      "\n",
      "\n",
      "Mean Squared Error for parameter - 1: 1759.8144912037203\n",
      "Mean Absolute Error for parameter - 1: 17.12961823985262\n",
      "\n",
      "\n",
      "Mean Squared Error for parameter - 2: 3356.235572961296\n",
      "Mean Absolute Error for parameter - 2: 19.35009704445893\n",
      "\n",
      "\n",
      "Mean Squared Error for parameter - 3: 2404.9846436029297\n",
      "Mean Absolute Error for parameter - 3: 16.92608392613489\n",
      "\n",
      "\n",
      "Mean Squared Error for parameter - 4: 18.76153368982258\n",
      "Mean Absolute Error for parameter - 4: 2.186689617873738\n",
      "\n",
      "\n",
      "Mean Squared Error for parameter - 5: 1.536832167976191\n",
      "Mean Absolute Error for parameter - 5: 0.8103890996309197\n",
      "\n",
      "\n",
      "Mean Squared Error for parameter - 6: 385.9880478768148\n",
      "Mean Absolute Error for parameter - 6: 5.911091552590424\n",
      "\n",
      "\n",
      "Mean Squared Error for parameter - 7: 38.83344892840694\n",
      "Mean Absolute Error for parameter - 7: 1.533059389898612\n",
      "\n",
      "\n",
      "Mean Squared Error for parameter - 8: 19.524651599073497\n",
      "Mean Absolute Error for parameter - 8: 1.4065633054424382\n",
      "\n",
      "\n"
     ]
    }
   ],
   "source": [
    "perceptron_scores = []\n",
    "\n",
    "for i in range(9):\n",
    "    mse = mean_squared_error(y_true=y_val[:,i],y_pred=pred[:,i])\n",
    "    mae = mean_absolute_error(y_pred=pred[:,i],y_true=y_val[:,i])\n",
    "    print(f'Mean Squared Error for parameter - {i}: {mse}')\n",
    "    print(f'Mean Absolute Error for parameter - {i}: {mae}')\n",
    "    perceptron_scores.append([mse,mae])\n",
    "    print('\\n')\n",
    "\n",
    "perceptron_scores.append([mean_squared_error(y_true=y_val,y_pred=pred),mean_absolute_error(y_true=y_val,y_pred=pred)])\n",
    "df = pd.concat([df,pd.DataFrame(perceptron_scores, columns=['Perceptron: MSE', 'Perceptron: MAE'])],\n",
    "          axis=1)"
   ]
  },
  {
   "cell_type": "markdown",
   "metadata": {
    "collapsed": false
   },
   "source": [
    "# Observing the results"
   ]
  },
  {
   "cell_type": "code",
   "execution_count": null,
   "metadata": {
    "id": "4is2lXCmHDfJ"
   },
   "outputs": [],
   "source": [
    "mae_cols = [col for col in df.columns if 'MAE' in col]\n",
    "mse_cols = [col for col in df.columns if 'MSE' in col]"
   ]
  },
  {
   "cell_type": "code",
   "execution_count": null,
   "metadata": {
    "colab": {
     "base_uri": "https://localhost:8080/",
     "height": 332
    },
    "id": "kQ1cQ5wWKnTM",
    "outputId": "aba5c8ef-d784-4d0d-9f3a-c75dffc60755"
   },
   "outputs": [
    {
     "data": {
      "text/html": [
       "<div>\n",
       "<style scoped>\n",
       "    .dataframe tbody tr th:only-of-type {\n",
       "        vertical-align: middle;\n",
       "    }\n",
       "\n",
       "    .dataframe tbody tr th {\n",
       "        vertical-align: top;\n",
       "    }\n",
       "\n",
       "    .dataframe thead th {\n",
       "        text-align: right;\n",
       "    }\n",
       "</style>\n",
       "<table border=\"1\" class=\"dataframe\">\n",
       "  <thead>\n",
       "    <tr style=\"text-align: right;\">\n",
       "      <th></th>\n",
       "      <th>Multi-SVR: MSE</th>\n",
       "      <th>Chain-SVR: MSE</th>\n",
       "      <th>D-Tree: MSE</th>\n",
       "      <th>Linear: MSE</th>\n",
       "      <th>Random Forest: MSE</th>\n",
       "      <th>Random Forest_Poisson: MSE</th>\n",
       "      <th>Perceptron: MSE</th>\n",
       "    </tr>\n",
       "  </thead>\n",
       "  <tbody>\n",
       "    <tr>\n",
       "      <th>0</th>\n",
       "      <td>13121.803774</td>\n",
       "      <td>13121.803774</td>\n",
       "      <td>8472.113208</td>\n",
       "      <td>137887.894595</td>\n",
       "      <td>6682.866818</td>\n",
       "      <td>7057.845248</td>\n",
       "      <td>13760.031717</td>\n",
       "    </tr>\n",
       "    <tr>\n",
       "      <th>1</th>\n",
       "      <td>1589.928349</td>\n",
       "      <td>1919.957003</td>\n",
       "      <td>895.647799</td>\n",
       "      <td>1675.991889</td>\n",
       "      <td>955.034356</td>\n",
       "      <td>1077.798219</td>\n",
       "      <td>1759.814491</td>\n",
       "    </tr>\n",
       "    <tr>\n",
       "      <th>2</th>\n",
       "      <td>3250.593162</td>\n",
       "      <td>3570.518039</td>\n",
       "      <td>4979.707547</td>\n",
       "      <td>45678.807139</td>\n",
       "      <td>1815.271164</td>\n",
       "      <td>1452.459551</td>\n",
       "      <td>3356.235573</td>\n",
       "    </tr>\n",
       "    <tr>\n",
       "      <th>3</th>\n",
       "      <td>2159.856520</td>\n",
       "      <td>2537.198672</td>\n",
       "      <td>1560.015723</td>\n",
       "      <td>43633.899573</td>\n",
       "      <td>957.408463</td>\n",
       "      <td>976.866708</td>\n",
       "      <td>2404.984644</td>\n",
       "    </tr>\n",
       "    <tr>\n",
       "      <th>4</th>\n",
       "      <td>15.980091</td>\n",
       "      <td>20.399049</td>\n",
       "      <td>24.443396</td>\n",
       "      <td>985.177312</td>\n",
       "      <td>12.875277</td>\n",
       "      <td>20.194961</td>\n",
       "      <td>18.761534</td>\n",
       "    </tr>\n",
       "    <tr>\n",
       "      <th>5</th>\n",
       "      <td>1.374217</td>\n",
       "      <td>1.409946</td>\n",
       "      <td>7.305031</td>\n",
       "      <td>1.963851</td>\n",
       "      <td>32.214666</td>\n",
       "      <td>6.881381</td>\n",
       "      <td>1.536832</td>\n",
       "    </tr>\n",
       "    <tr>\n",
       "      <th>6</th>\n",
       "      <td>386.928939</td>\n",
       "      <td>388.837477</td>\n",
       "      <td>694.276730</td>\n",
       "      <td>340.771695</td>\n",
       "      <td>271.889476</td>\n",
       "      <td>264.835141</td>\n",
       "      <td>385.988048</td>\n",
       "    </tr>\n",
       "    <tr>\n",
       "      <th>7</th>\n",
       "      <td>39.790747</td>\n",
       "      <td>39.820237</td>\n",
       "      <td>47.198113</td>\n",
       "      <td>45.498596</td>\n",
       "      <td>43.347769</td>\n",
       "      <td>34.120408</td>\n",
       "      <td>38.833449</td>\n",
       "    </tr>\n",
       "    <tr>\n",
       "      <th>8</th>\n",
       "      <td>16.810255</td>\n",
       "      <td>19.952393</td>\n",
       "      <td>7.798742</td>\n",
       "      <td>1096.111944</td>\n",
       "      <td>23.517118</td>\n",
       "      <td>47.994099</td>\n",
       "      <td>19.524652</td>\n",
       "    </tr>\n",
       "    <tr>\n",
       "      <th>9</th>\n",
       "      <td>2287.007339</td>\n",
       "      <td>2402.210732</td>\n",
       "      <td>1854.278477</td>\n",
       "      <td>25705.124066</td>\n",
       "      <td>1199.380567</td>\n",
       "      <td>1215.443968</td>\n",
       "      <td>2416.190104</td>\n",
       "    </tr>\n",
       "  </tbody>\n",
       "</table>\n",
       "</div>"
      ],
      "text/plain": [
       "   Multi-SVR: MSE  Chain-SVR: MSE  D-Tree: MSE    Linear: MSE  \\\n",
       "0    13121.803774    13121.803774  8472.113208  137887.894595   \n",
       "1     1589.928349     1919.957003   895.647799    1675.991889   \n",
       "2     3250.593162     3570.518039  4979.707547   45678.807139   \n",
       "3     2159.856520     2537.198672  1560.015723   43633.899573   \n",
       "4       15.980091       20.399049    24.443396     985.177312   \n",
       "5        1.374217        1.409946     7.305031       1.963851   \n",
       "6      386.928939      388.837477   694.276730     340.771695   \n",
       "7       39.790747       39.820237    47.198113      45.498596   \n",
       "8       16.810255       19.952393     7.798742    1096.111944   \n",
       "9     2287.007339     2402.210732  1854.278477   25705.124066   \n",
       "\n",
       "   Random Forest: MSE  Random Forest_Poisson: MSE  Perceptron: MSE  \n",
       "0         6682.866818                 7057.845248     13760.031717  \n",
       "1          955.034356                 1077.798219      1759.814491  \n",
       "2         1815.271164                 1452.459551      3356.235573  \n",
       "3          957.408463                  976.866708      2404.984644  \n",
       "4           12.875277                   20.194961        18.761534  \n",
       "5           32.214666                    6.881381         1.536832  \n",
       "6          271.889476                  264.835141       385.988048  \n",
       "7           43.347769                   34.120408        38.833449  \n",
       "8           23.517118                   47.994099        19.524652  \n",
       "9         1199.380567                 1215.443968      2416.190104  "
      ]
     },
     "execution_count": 26,
     "metadata": {},
     "output_type": "execute_result"
    }
   ],
   "source": [
    "df[mse_cols]"
   ]
  },
  {
   "cell_type": "code",
   "execution_count": null,
   "metadata": {},
   "outputs": [
    {
     "data": {
      "text/plain": [
       "['Likes',\n",
       " 'Comments',\n",
       " 'Shares',\n",
       " 'Love',\n",
       " 'Wow',\n",
       " 'Haha',\n",
       " 'Sad',\n",
       " 'Angry',\n",
       " 'Care',\n",
       " 'Overall']"
      ]
     },
     "execution_count": 30,
     "metadata": {},
     "output_type": "execute_result"
    }
   ],
   "source": [
    "titles"
   ]
  },
  {
   "cell_type": "code",
   "execution_count": null,
   "metadata": {},
   "outputs": [],
   "source": [
    "titles.extend([\"Overall\"])"
   ]
  },
  {
   "cell_type": "code",
   "execution_count": null,
   "metadata": {
    "colab": {
     "base_uri": "https://localhost:8080/",
     "height": 542
    },
    "id": "s7AgTEQFHDfK",
    "outputId": "0302e427-17ff-4955-b0ef-9b539d5b0f3b"
   },
   "outputs": [
    {
     "data": {
      "application/vnd.plotly.v1+json": {
       "config": {
        "plotlyServerURL": "https://plot.ly"
       },
       "data": [
        {
         "mode": "lines+markers",
         "name": "Likes",
         "type": "scatter",
         "x": [
          "Multi-SVR: MAE",
          "Chain-SVR: MAE",
          "D-Tree: MAE",
          "Linear: MAE",
          "Random Forest: MAE",
          "Random Forest_Poisson: MAE",
          "Perceptron: MAE"
         ],
         "y": [
          36.7706717565298,
          36.7706717565298,
          30.32704402515723,
          151.86694069303547,
          25.432830188679244,
          25.83069510582011,
          47.50402707273855
         ]
        },
        {
         "mode": "lines+markers",
         "name": "Comments",
         "type": "scatter",
         "x": [
          "Multi-SVR: MAE",
          "Chain-SVR: MAE",
          "D-Tree: MAE",
          "Linear: MAE",
          "Random Forest: MAE",
          "Random Forest_Poisson: MAE",
          "Perceptron: MAE"
         ],
         "y": [
          11.22586518329064,
          12.772797241651457,
          11.452830188679245,
          17.71316560449715,
          10.305377358490565,
          10.837815501676767,
          17.12961823985262
         ]
        },
        {
         "mode": "lines+markers",
         "name": "Shares",
         "type": "scatter",
         "x": [
          "Multi-SVR: MAE",
          "Chain-SVR: MAE",
          "D-Tree: MAE",
          "Linear: MAE",
          "Random Forest: MAE",
          "Random Forest_Poisson: MAE",
          "Perceptron: MAE"
         ],
         "y": [
          14.353393485089178,
          15.510604800614026,
          19.09748427672956,
          97.20915249628175,
          13.433710691823899,
          11.807607726849321,
          19.35009704445893
         ]
        },
        {
         "mode": "lines+markers",
         "name": "Love",
         "type": "scatter",
         "x": [
          "Multi-SVR: MAE",
          "Chain-SVR: MAE",
          "D-Tree: MAE",
          "Linear: MAE",
          "Random Forest: MAE",
          "Random Forest_Poisson: MAE",
          "Perceptron: MAE"
         ],
         "y": [
          10.907644190322943,
          12.293494190573618,
          11.10377358490566,
          109.71757413132994,
          8.128081761006289,
          8.278825717022128,
          16.92608392613489
         ]
        },
        {
         "mode": "lines+markers",
         "name": "Wow",
         "type": "scatter",
         "x": [
          "Multi-SVR: MAE",
          "Chain-SVR: MAE",
          "D-Tree: MAE",
          "Linear: MAE",
          "Random Forest: MAE",
          "Random Forest_Poisson: MAE",
          "Perceptron: MAE"
         ],
         "y": [
          1.3414989748567232,
          1.4620272618028034,
          1.7830188679245282,
          19.36177120701737,
          1.504559748427673,
          1.5673460751673824,
          2.186689617873738
         ]
        },
        {
         "mode": "lines+markers",
         "name": "Haha",
         "type": "scatter",
         "x": [
          "Multi-SVR: MAE",
          "Chain-SVR: MAE",
          "D-Tree: MAE",
          "Linear: MAE",
          "Random Forest: MAE",
          "Random Forest_Poisson: MAE",
          "Perceptron: MAE"
         ],
         "y": [
          0.4271668990639327,
          0.4171743202786188,
          0.7578616352201258,
          0.836330678302422,
          1.1476729559748426,
          0.8837655862670044,
          0.8103890996309197
         ]
        },
        {
         "mode": "lines+markers",
         "name": "Sad",
         "type": "scatter",
         "x": [
          "Multi-SVR: MAE",
          "Chain-SVR: MAE",
          "D-Tree: MAE",
          "Linear: MAE",
          "Random Forest: MAE",
          "Random Forest_Poisson: MAE",
          "Perceptron: MAE"
         ],
         "y": [
          2.5621464270315366,
          2.5674694279674357,
          3.880503144654088,
          7.4312926612705965,
          3.3905974842767295,
          3.333346072423179,
          5.911091552590424
         ]
        },
        {
         "mode": "lines+markers",
         "name": "Angry",
         "type": "scatter",
         "x": [
          "Multi-SVR: MAE",
          "Chain-SVR: MAE",
          "D-Tree: MAE",
          "Linear: MAE",
          "Random Forest: MAE",
          "Random Forest_Poisson: MAE",
          "Perceptron: MAE"
         ],
         "y": [
          1.0789455284992475,
          1.077099491100074,
          1.5188679245283019,
          2.7301650791253884,
          1.3451572327044026,
          1.3908070822587442,
          1.533059389898612
         ]
        },
        {
         "mode": "lines+markers",
         "name": "Care",
         "type": "scatter",
         "x": [
          "Multi-SVR: MAE",
          "Chain-SVR: MAE",
          "D-Tree: MAE",
          "Linear: MAE",
          "Random Forest: MAE",
          "Random Forest_Poisson: MAE",
          "Perceptron: MAE"
         ],
         "y": [
          0.48087198104763496,
          0.5581226919575177,
          0.44025157232704404,
          17.5727793956137,
          0.6912578616352201,
          0.8385588041462047,
          1.4065633054424382
         ]
        },
        {
         "mode": "lines+markers",
         "name": "Overall",
         "type": "scatter",
         "x": [
          "Multi-SVR: MAE",
          "Chain-SVR: MAE",
          "D-Tree: MAE",
          "Linear: MAE",
          "Random Forest: MAE",
          "Random Forest_Poisson: MAE",
          "Perceptron: MAE"
         ],
         "y": [
          8.7942449361924,
          9.26994013138615,
          8.929070580013976,
          47.15990799405262,
          7.2643605870020975,
          7.1965297412923155,
          12.528624360957902
         ]
        }
       ],
       "layout": {
        "template": {
         "data": {
          "bar": [
           {
            "error_x": {
             "color": "#2a3f5f"
            },
            "error_y": {
             "color": "#2a3f5f"
            },
            "marker": {
             "line": {
              "color": "#E5ECF6",
              "width": 0.5
             },
             "pattern": {
              "fillmode": "overlay",
              "size": 10,
              "solidity": 0.2
             }
            },
            "type": "bar"
           }
          ],
          "barpolar": [
           {
            "marker": {
             "line": {
              "color": "#E5ECF6",
              "width": 0.5
             },
             "pattern": {
              "fillmode": "overlay",
              "size": 10,
              "solidity": 0.2
             }
            },
            "type": "barpolar"
           }
          ],
          "carpet": [
           {
            "aaxis": {
             "endlinecolor": "#2a3f5f",
             "gridcolor": "white",
             "linecolor": "white",
             "minorgridcolor": "white",
             "startlinecolor": "#2a3f5f"
            },
            "baxis": {
             "endlinecolor": "#2a3f5f",
             "gridcolor": "white",
             "linecolor": "white",
             "minorgridcolor": "white",
             "startlinecolor": "#2a3f5f"
            },
            "type": "carpet"
           }
          ],
          "choropleth": [
           {
            "colorbar": {
             "outlinewidth": 0,
             "ticks": ""
            },
            "type": "choropleth"
           }
          ],
          "contour": [
           {
            "colorbar": {
             "outlinewidth": 0,
             "ticks": ""
            },
            "colorscale": [
             [
              0,
              "#0d0887"
             ],
             [
              0.1111111111111111,
              "#46039f"
             ],
             [
              0.2222222222222222,
              "#7201a8"
             ],
             [
              0.3333333333333333,
              "#9c179e"
             ],
             [
              0.4444444444444444,
              "#bd3786"
             ],
             [
              0.5555555555555556,
              "#d8576b"
             ],
             [
              0.6666666666666666,
              "#ed7953"
             ],
             [
              0.7777777777777778,
              "#fb9f3a"
             ],
             [
              0.8888888888888888,
              "#fdca26"
             ],
             [
              1,
              "#f0f921"
             ]
            ],
            "type": "contour"
           }
          ],
          "contourcarpet": [
           {
            "colorbar": {
             "outlinewidth": 0,
             "ticks": ""
            },
            "type": "contourcarpet"
           }
          ],
          "heatmap": [
           {
            "colorbar": {
             "outlinewidth": 0,
             "ticks": ""
            },
            "colorscale": [
             [
              0,
              "#0d0887"
             ],
             [
              0.1111111111111111,
              "#46039f"
             ],
             [
              0.2222222222222222,
              "#7201a8"
             ],
             [
              0.3333333333333333,
              "#9c179e"
             ],
             [
              0.4444444444444444,
              "#bd3786"
             ],
             [
              0.5555555555555556,
              "#d8576b"
             ],
             [
              0.6666666666666666,
              "#ed7953"
             ],
             [
              0.7777777777777778,
              "#fb9f3a"
             ],
             [
              0.8888888888888888,
              "#fdca26"
             ],
             [
              1,
              "#f0f921"
             ]
            ],
            "type": "heatmap"
           }
          ],
          "heatmapgl": [
           {
            "colorbar": {
             "outlinewidth": 0,
             "ticks": ""
            },
            "colorscale": [
             [
              0,
              "#0d0887"
             ],
             [
              0.1111111111111111,
              "#46039f"
             ],
             [
              0.2222222222222222,
              "#7201a8"
             ],
             [
              0.3333333333333333,
              "#9c179e"
             ],
             [
              0.4444444444444444,
              "#bd3786"
             ],
             [
              0.5555555555555556,
              "#d8576b"
             ],
             [
              0.6666666666666666,
              "#ed7953"
             ],
             [
              0.7777777777777778,
              "#fb9f3a"
             ],
             [
              0.8888888888888888,
              "#fdca26"
             ],
             [
              1,
              "#f0f921"
             ]
            ],
            "type": "heatmapgl"
           }
          ],
          "histogram": [
           {
            "marker": {
             "pattern": {
              "fillmode": "overlay",
              "size": 10,
              "solidity": 0.2
             }
            },
            "type": "histogram"
           }
          ],
          "histogram2d": [
           {
            "colorbar": {
             "outlinewidth": 0,
             "ticks": ""
            },
            "colorscale": [
             [
              0,
              "#0d0887"
             ],
             [
              0.1111111111111111,
              "#46039f"
             ],
             [
              0.2222222222222222,
              "#7201a8"
             ],
             [
              0.3333333333333333,
              "#9c179e"
             ],
             [
              0.4444444444444444,
              "#bd3786"
             ],
             [
              0.5555555555555556,
              "#d8576b"
             ],
             [
              0.6666666666666666,
              "#ed7953"
             ],
             [
              0.7777777777777778,
              "#fb9f3a"
             ],
             [
              0.8888888888888888,
              "#fdca26"
             ],
             [
              1,
              "#f0f921"
             ]
            ],
            "type": "histogram2d"
           }
          ],
          "histogram2dcontour": [
           {
            "colorbar": {
             "outlinewidth": 0,
             "ticks": ""
            },
            "colorscale": [
             [
              0,
              "#0d0887"
             ],
             [
              0.1111111111111111,
              "#46039f"
             ],
             [
              0.2222222222222222,
              "#7201a8"
             ],
             [
              0.3333333333333333,
              "#9c179e"
             ],
             [
              0.4444444444444444,
              "#bd3786"
             ],
             [
              0.5555555555555556,
              "#d8576b"
             ],
             [
              0.6666666666666666,
              "#ed7953"
             ],
             [
              0.7777777777777778,
              "#fb9f3a"
             ],
             [
              0.8888888888888888,
              "#fdca26"
             ],
             [
              1,
              "#f0f921"
             ]
            ],
            "type": "histogram2dcontour"
           }
          ],
          "mesh3d": [
           {
            "colorbar": {
             "outlinewidth": 0,
             "ticks": ""
            },
            "type": "mesh3d"
           }
          ],
          "parcoords": [
           {
            "line": {
             "colorbar": {
              "outlinewidth": 0,
              "ticks": ""
             }
            },
            "type": "parcoords"
           }
          ],
          "pie": [
           {
            "automargin": true,
            "type": "pie"
           }
          ],
          "scatter": [
           {
            "fillpattern": {
             "fillmode": "overlay",
             "size": 10,
             "solidity": 0.2
            },
            "type": "scatter"
           }
          ],
          "scatter3d": [
           {
            "line": {
             "colorbar": {
              "outlinewidth": 0,
              "ticks": ""
             }
            },
            "marker": {
             "colorbar": {
              "outlinewidth": 0,
              "ticks": ""
             }
            },
            "type": "scatter3d"
           }
          ],
          "scattercarpet": [
           {
            "marker": {
             "colorbar": {
              "outlinewidth": 0,
              "ticks": ""
             }
            },
            "type": "scattercarpet"
           }
          ],
          "scattergeo": [
           {
            "marker": {
             "colorbar": {
              "outlinewidth": 0,
              "ticks": ""
             }
            },
            "type": "scattergeo"
           }
          ],
          "scattergl": [
           {
            "marker": {
             "colorbar": {
              "outlinewidth": 0,
              "ticks": ""
             }
            },
            "type": "scattergl"
           }
          ],
          "scattermapbox": [
           {
            "marker": {
             "colorbar": {
              "outlinewidth": 0,
              "ticks": ""
             }
            },
            "type": "scattermapbox"
           }
          ],
          "scatterpolar": [
           {
            "marker": {
             "colorbar": {
              "outlinewidth": 0,
              "ticks": ""
             }
            },
            "type": "scatterpolar"
           }
          ],
          "scatterpolargl": [
           {
            "marker": {
             "colorbar": {
              "outlinewidth": 0,
              "ticks": ""
             }
            },
            "type": "scatterpolargl"
           }
          ],
          "scatterternary": [
           {
            "marker": {
             "colorbar": {
              "outlinewidth": 0,
              "ticks": ""
             }
            },
            "type": "scatterternary"
           }
          ],
          "surface": [
           {
            "colorbar": {
             "outlinewidth": 0,
             "ticks": ""
            },
            "colorscale": [
             [
              0,
              "#0d0887"
             ],
             [
              0.1111111111111111,
              "#46039f"
             ],
             [
              0.2222222222222222,
              "#7201a8"
             ],
             [
              0.3333333333333333,
              "#9c179e"
             ],
             [
              0.4444444444444444,
              "#bd3786"
             ],
             [
              0.5555555555555556,
              "#d8576b"
             ],
             [
              0.6666666666666666,
              "#ed7953"
             ],
             [
              0.7777777777777778,
              "#fb9f3a"
             ],
             [
              0.8888888888888888,
              "#fdca26"
             ],
             [
              1,
              "#f0f921"
             ]
            ],
            "type": "surface"
           }
          ],
          "table": [
           {
            "cells": {
             "fill": {
              "color": "#EBF0F8"
             },
             "line": {
              "color": "white"
             }
            },
            "header": {
             "fill": {
              "color": "#C8D4E3"
             },
             "line": {
              "color": "white"
             }
            },
            "type": "table"
           }
          ]
         },
         "layout": {
          "annotationdefaults": {
           "arrowcolor": "#2a3f5f",
           "arrowhead": 0,
           "arrowwidth": 1
          },
          "autotypenumbers": "strict",
          "coloraxis": {
           "colorbar": {
            "outlinewidth": 0,
            "ticks": ""
           }
          },
          "colorscale": {
           "diverging": [
            [
             0,
             "#8e0152"
            ],
            [
             0.1,
             "#c51b7d"
            ],
            [
             0.2,
             "#de77ae"
            ],
            [
             0.3,
             "#f1b6da"
            ],
            [
             0.4,
             "#fde0ef"
            ],
            [
             0.5,
             "#f7f7f7"
            ],
            [
             0.6,
             "#e6f5d0"
            ],
            [
             0.7,
             "#b8e186"
            ],
            [
             0.8,
             "#7fbc41"
            ],
            [
             0.9,
             "#4d9221"
            ],
            [
             1,
             "#276419"
            ]
           ],
           "sequential": [
            [
             0,
             "#0d0887"
            ],
            [
             0.1111111111111111,
             "#46039f"
            ],
            [
             0.2222222222222222,
             "#7201a8"
            ],
            [
             0.3333333333333333,
             "#9c179e"
            ],
            [
             0.4444444444444444,
             "#bd3786"
            ],
            [
             0.5555555555555556,
             "#d8576b"
            ],
            [
             0.6666666666666666,
             "#ed7953"
            ],
            [
             0.7777777777777778,
             "#fb9f3a"
            ],
            [
             0.8888888888888888,
             "#fdca26"
            ],
            [
             1,
             "#f0f921"
            ]
           ],
           "sequentialminus": [
            [
             0,
             "#0d0887"
            ],
            [
             0.1111111111111111,
             "#46039f"
            ],
            [
             0.2222222222222222,
             "#7201a8"
            ],
            [
             0.3333333333333333,
             "#9c179e"
            ],
            [
             0.4444444444444444,
             "#bd3786"
            ],
            [
             0.5555555555555556,
             "#d8576b"
            ],
            [
             0.6666666666666666,
             "#ed7953"
            ],
            [
             0.7777777777777778,
             "#fb9f3a"
            ],
            [
             0.8888888888888888,
             "#fdca26"
            ],
            [
             1,
             "#f0f921"
            ]
           ]
          },
          "colorway": [
           "#636efa",
           "#EF553B",
           "#00cc96",
           "#ab63fa",
           "#FFA15A",
           "#19d3f3",
           "#FF6692",
           "#B6E880",
           "#FF97FF",
           "#FECB52"
          ],
          "font": {
           "color": "#2a3f5f"
          },
          "geo": {
           "bgcolor": "white",
           "lakecolor": "white",
           "landcolor": "#E5ECF6",
           "showlakes": true,
           "showland": true,
           "subunitcolor": "white"
          },
          "hoverlabel": {
           "align": "left"
          },
          "hovermode": "closest",
          "mapbox": {
           "style": "light"
          },
          "paper_bgcolor": "white",
          "plot_bgcolor": "#E5ECF6",
          "polar": {
           "angularaxis": {
            "gridcolor": "white",
            "linecolor": "white",
            "ticks": ""
           },
           "bgcolor": "#E5ECF6",
           "radialaxis": {
            "gridcolor": "white",
            "linecolor": "white",
            "ticks": ""
           }
          },
          "scene": {
           "xaxis": {
            "backgroundcolor": "#E5ECF6",
            "gridcolor": "white",
            "gridwidth": 2,
            "linecolor": "white",
            "showbackground": true,
            "ticks": "",
            "zerolinecolor": "white"
           },
           "yaxis": {
            "backgroundcolor": "#E5ECF6",
            "gridcolor": "white",
            "gridwidth": 2,
            "linecolor": "white",
            "showbackground": true,
            "ticks": "",
            "zerolinecolor": "white"
           },
           "zaxis": {
            "backgroundcolor": "#E5ECF6",
            "gridcolor": "white",
            "gridwidth": 2,
            "linecolor": "white",
            "showbackground": true,
            "ticks": "",
            "zerolinecolor": "white"
           }
          },
          "shapedefaults": {
           "line": {
            "color": "#2a3f5f"
           }
          },
          "ternary": {
           "aaxis": {
            "gridcolor": "white",
            "linecolor": "white",
            "ticks": ""
           },
           "baxis": {
            "gridcolor": "white",
            "linecolor": "white",
            "ticks": ""
           },
           "bgcolor": "#E5ECF6",
           "caxis": {
            "gridcolor": "white",
            "linecolor": "white",
            "ticks": ""
           }
          },
          "title": {
           "x": 0.05
          },
          "xaxis": {
           "automargin": true,
           "gridcolor": "white",
           "linecolor": "white",
           "ticks": "",
           "title": {
            "standoff": 15
           },
           "zerolinecolor": "white",
           "zerolinewidth": 2
          },
          "yaxis": {
           "automargin": true,
           "gridcolor": "white",
           "linecolor": "white",
           "ticks": "",
           "title": {
            "standoff": 15
           },
           "zerolinecolor": "white",
           "zerolinewidth": 2
          }
         }
        }
       }
      }
     },
     "metadata": {},
     "output_type": "display_data"
    }
   ],
   "source": [
    "fig= go.Figure()\n",
    "\n",
    "for i in range(10):\n",
    "    fig.add_trace(go.Scatter(x=df[mae_cols].columns, y =df[mae_cols].values[i],\n",
    "                             mode='lines+markers', name=titles[i]))\n",
    "\n",
    "fig.show()"
   ]
  },
  {
   "cell_type": "code",
   "execution_count": null,
   "metadata": {
    "colab": {
     "base_uri": "https://localhost:8080/",
     "height": 542
    },
    "id": "xHEvk0cdHDfK",
    "outputId": "6e4e4fa7-67dd-46f4-bfc5-f92c1df63f21"
   },
   "outputs": [
    {
     "data": {
      "application/vnd.plotly.v1+json": {
       "config": {
        "plotlyServerURL": "https://plot.ly"
       },
       "data": [
        {
         "mode": "lines+markers",
         "name": "Likes",
         "type": "scatter",
         "x": [
          "Multi-SVR: MSE",
          "Chain-SVR: MSE",
          "D-Tree: MSE",
          "Linear: MSE",
          "Random Forest: MSE",
          "Random Forest_Poisson: MSE",
          "Perceptron: MSE"
         ],
         "y": [
          13121.803774051064,
          13121.803774051064,
          8472.11320754717,
          137887.89459492583,
          6682.866818238994,
          7057.845247965239,
          13760.031717079832
         ]
        },
        {
         "mode": "lines+markers",
         "name": "Comments",
         "type": "scatter",
         "x": [
          "Multi-SVR: MSE",
          "Chain-SVR: MSE",
          "D-Tree: MSE",
          "Linear: MSE",
          "Random Forest: MSE",
          "Random Forest_Poisson: MSE",
          "Perceptron: MSE"
         ],
         "y": [
          1589.9283488137753,
          1919.9570031281005,
          895.6477987421383,
          1675.9918888636932,
          955.0343556603773,
          1077.798219353892,
          1759.8144912037203
         ]
        },
        {
         "mode": "lines+markers",
         "name": "Shares",
         "type": "scatter",
         "x": [
          "Multi-SVR: MSE",
          "Chain-SVR: MSE",
          "D-Tree: MSE",
          "Linear: MSE",
          "Random Forest: MSE",
          "Random Forest_Poisson: MSE",
          "Perceptron: MSE"
         ],
         "y": [
          3250.5931616135686,
          3570.5180386550683,
          4979.707547169812,
          45678.80713912998,
          1815.2711635220126,
          1452.4595510153874,
          3356.235572961296
         ]
        },
        {
         "mode": "lines+markers",
         "name": "Love",
         "type": "scatter",
         "x": [
          "Multi-SVR: MSE",
          "Chain-SVR: MSE",
          "D-Tree: MSE",
          "Linear: MSE",
          "Random Forest: MSE",
          "Random Forest_Poisson: MSE",
          "Perceptron: MSE"
         ],
         "y": [
          2159.8565204843535,
          2537.198672270509,
          1560.0157232704403,
          43633.89957318244,
          957.4084625786164,
          976.866708283015,
          2404.9846436029297
         ]
        },
        {
         "mode": "lines+markers",
         "name": "Wow",
         "type": "scatter",
         "x": [
          "Multi-SVR: MSE",
          "Chain-SVR: MSE",
          "D-Tree: MSE",
          "Linear: MSE",
          "Random Forest: MSE",
          "Random Forest_Poisson: MSE",
          "Perceptron: MSE"
         ],
         "y": [
          15.980091015816958,
          20.3990485140151,
          24.443396226415093,
          985.1773122069492,
          12.87527704402516,
          20.194960667007763,
          18.76153368982258
         ]
        },
        {
         "mode": "lines+markers",
         "name": "Haha",
         "type": "scatter",
         "x": [
          "Multi-SVR: MSE",
          "Chain-SVR: MSE",
          "D-Tree: MSE",
          "Linear: MSE",
          "Random Forest: MSE",
          "Random Forest_Poisson: MSE",
          "Perceptron: MSE"
         ],
         "y": [
          1.3742165474556884,
          1.409946375784454,
          7.30503144654088,
          1.9638512177252772,
          32.21466603773586,
          6.881381007520304,
          1.536832167976191
         ]
        },
        {
         "mode": "lines+markers",
         "name": "Sad",
         "type": "scatter",
         "x": [
          "Multi-SVR: MSE",
          "Chain-SVR: MSE",
          "D-Tree: MSE",
          "Linear: MSE",
          "Random Forest: MSE",
          "Random Forest_Poisson: MSE",
          "Perceptron: MSE"
         ],
         "y": [
          386.92893930184283,
          388.8374768790617,
          694.2767295597484,
          340.7716947410513,
          271.88947578616353,
          264.8351408618017,
          385.9880478768148
         ]
        },
        {
         "mode": "lines+markers",
         "name": "Angry",
         "type": "scatter",
         "x": [
          "Multi-SVR: MSE",
          "Chain-SVR: MSE",
          "D-Tree: MSE",
          "Linear: MSE",
          "Random Forest: MSE",
          "Random Forest_Poisson: MSE",
          "Perceptron: MSE"
         ],
         "y": [
          39.790746666915034,
          39.82023693768767,
          47.198113207547166,
          45.498595672708895,
          43.34776855345911,
          34.120407819801486,
          38.83344892840694
         ]
        },
        {
         "mode": "lines+markers",
         "name": "Care",
         "type": "scatter",
         "x": [
          "Multi-SVR: MSE",
          "Chain-SVR: MSE",
          "D-Tree: MSE",
          "Linear: MSE",
          "Random Forest: MSE",
          "Random Forest_Poisson: MSE",
          "Perceptron: MSE"
         ],
         "y": [
          16.810255351098803,
          19.952393047466124,
          7.79874213836478,
          1096.1119440709929,
          23.517117610062893,
          47.994098526994954,
          19.524651599073497
         ]
        },
        {
         "mode": "lines+markers",
         "name": "Overall",
         "type": "scatter",
         "x": [
          "Multi-SVR: MSE",
          "Chain-SVR: MSE",
          "D-Tree: MSE",
          "Linear: MSE",
          "Random Forest: MSE",
          "Random Forest_Poisson: MSE",
          "Perceptron: MSE"
         ],
         "y": [
          2287.00733931621,
          2402.2107322065285,
          1854.2784765897975,
          25705.124066001266,
          1199.3805672257163,
          1215.4439683889625,
          2416.1901043455414
         ]
        }
       ],
       "layout": {
        "template": {
         "data": {
          "bar": [
           {
            "error_x": {
             "color": "#2a3f5f"
            },
            "error_y": {
             "color": "#2a3f5f"
            },
            "marker": {
             "line": {
              "color": "#E5ECF6",
              "width": 0.5
             },
             "pattern": {
              "fillmode": "overlay",
              "size": 10,
              "solidity": 0.2
             }
            },
            "type": "bar"
           }
          ],
          "barpolar": [
           {
            "marker": {
             "line": {
              "color": "#E5ECF6",
              "width": 0.5
             },
             "pattern": {
              "fillmode": "overlay",
              "size": 10,
              "solidity": 0.2
             }
            },
            "type": "barpolar"
           }
          ],
          "carpet": [
           {
            "aaxis": {
             "endlinecolor": "#2a3f5f",
             "gridcolor": "white",
             "linecolor": "white",
             "minorgridcolor": "white",
             "startlinecolor": "#2a3f5f"
            },
            "baxis": {
             "endlinecolor": "#2a3f5f",
             "gridcolor": "white",
             "linecolor": "white",
             "minorgridcolor": "white",
             "startlinecolor": "#2a3f5f"
            },
            "type": "carpet"
           }
          ],
          "choropleth": [
           {
            "colorbar": {
             "outlinewidth": 0,
             "ticks": ""
            },
            "type": "choropleth"
           }
          ],
          "contour": [
           {
            "colorbar": {
             "outlinewidth": 0,
             "ticks": ""
            },
            "colorscale": [
             [
              0,
              "#0d0887"
             ],
             [
              0.1111111111111111,
              "#46039f"
             ],
             [
              0.2222222222222222,
              "#7201a8"
             ],
             [
              0.3333333333333333,
              "#9c179e"
             ],
             [
              0.4444444444444444,
              "#bd3786"
             ],
             [
              0.5555555555555556,
              "#d8576b"
             ],
             [
              0.6666666666666666,
              "#ed7953"
             ],
             [
              0.7777777777777778,
              "#fb9f3a"
             ],
             [
              0.8888888888888888,
              "#fdca26"
             ],
             [
              1,
              "#f0f921"
             ]
            ],
            "type": "contour"
           }
          ],
          "contourcarpet": [
           {
            "colorbar": {
             "outlinewidth": 0,
             "ticks": ""
            },
            "type": "contourcarpet"
           }
          ],
          "heatmap": [
           {
            "colorbar": {
             "outlinewidth": 0,
             "ticks": ""
            },
            "colorscale": [
             [
              0,
              "#0d0887"
             ],
             [
              0.1111111111111111,
              "#46039f"
             ],
             [
              0.2222222222222222,
              "#7201a8"
             ],
             [
              0.3333333333333333,
              "#9c179e"
             ],
             [
              0.4444444444444444,
              "#bd3786"
             ],
             [
              0.5555555555555556,
              "#d8576b"
             ],
             [
              0.6666666666666666,
              "#ed7953"
             ],
             [
              0.7777777777777778,
              "#fb9f3a"
             ],
             [
              0.8888888888888888,
              "#fdca26"
             ],
             [
              1,
              "#f0f921"
             ]
            ],
            "type": "heatmap"
           }
          ],
          "heatmapgl": [
           {
            "colorbar": {
             "outlinewidth": 0,
             "ticks": ""
            },
            "colorscale": [
             [
              0,
              "#0d0887"
             ],
             [
              0.1111111111111111,
              "#46039f"
             ],
             [
              0.2222222222222222,
              "#7201a8"
             ],
             [
              0.3333333333333333,
              "#9c179e"
             ],
             [
              0.4444444444444444,
              "#bd3786"
             ],
             [
              0.5555555555555556,
              "#d8576b"
             ],
             [
              0.6666666666666666,
              "#ed7953"
             ],
             [
              0.7777777777777778,
              "#fb9f3a"
             ],
             [
              0.8888888888888888,
              "#fdca26"
             ],
             [
              1,
              "#f0f921"
             ]
            ],
            "type": "heatmapgl"
           }
          ],
          "histogram": [
           {
            "marker": {
             "pattern": {
              "fillmode": "overlay",
              "size": 10,
              "solidity": 0.2
             }
            },
            "type": "histogram"
           }
          ],
          "histogram2d": [
           {
            "colorbar": {
             "outlinewidth": 0,
             "ticks": ""
            },
            "colorscale": [
             [
              0,
              "#0d0887"
             ],
             [
              0.1111111111111111,
              "#46039f"
             ],
             [
              0.2222222222222222,
              "#7201a8"
             ],
             [
              0.3333333333333333,
              "#9c179e"
             ],
             [
              0.4444444444444444,
              "#bd3786"
             ],
             [
              0.5555555555555556,
              "#d8576b"
             ],
             [
              0.6666666666666666,
              "#ed7953"
             ],
             [
              0.7777777777777778,
              "#fb9f3a"
             ],
             [
              0.8888888888888888,
              "#fdca26"
             ],
             [
              1,
              "#f0f921"
             ]
            ],
            "type": "histogram2d"
           }
          ],
          "histogram2dcontour": [
           {
            "colorbar": {
             "outlinewidth": 0,
             "ticks": ""
            },
            "colorscale": [
             [
              0,
              "#0d0887"
             ],
             [
              0.1111111111111111,
              "#46039f"
             ],
             [
              0.2222222222222222,
              "#7201a8"
             ],
             [
              0.3333333333333333,
              "#9c179e"
             ],
             [
              0.4444444444444444,
              "#bd3786"
             ],
             [
              0.5555555555555556,
              "#d8576b"
             ],
             [
              0.6666666666666666,
              "#ed7953"
             ],
             [
              0.7777777777777778,
              "#fb9f3a"
             ],
             [
              0.8888888888888888,
              "#fdca26"
             ],
             [
              1,
              "#f0f921"
             ]
            ],
            "type": "histogram2dcontour"
           }
          ],
          "mesh3d": [
           {
            "colorbar": {
             "outlinewidth": 0,
             "ticks": ""
            },
            "type": "mesh3d"
           }
          ],
          "parcoords": [
           {
            "line": {
             "colorbar": {
              "outlinewidth": 0,
              "ticks": ""
             }
            },
            "type": "parcoords"
           }
          ],
          "pie": [
           {
            "automargin": true,
            "type": "pie"
           }
          ],
          "scatter": [
           {
            "fillpattern": {
             "fillmode": "overlay",
             "size": 10,
             "solidity": 0.2
            },
            "type": "scatter"
           }
          ],
          "scatter3d": [
           {
            "line": {
             "colorbar": {
              "outlinewidth": 0,
              "ticks": ""
             }
            },
            "marker": {
             "colorbar": {
              "outlinewidth": 0,
              "ticks": ""
             }
            },
            "type": "scatter3d"
           }
          ],
          "scattercarpet": [
           {
            "marker": {
             "colorbar": {
              "outlinewidth": 0,
              "ticks": ""
             }
            },
            "type": "scattercarpet"
           }
          ],
          "scattergeo": [
           {
            "marker": {
             "colorbar": {
              "outlinewidth": 0,
              "ticks": ""
             }
            },
            "type": "scattergeo"
           }
          ],
          "scattergl": [
           {
            "marker": {
             "colorbar": {
              "outlinewidth": 0,
              "ticks": ""
             }
            },
            "type": "scattergl"
           }
          ],
          "scattermapbox": [
           {
            "marker": {
             "colorbar": {
              "outlinewidth": 0,
              "ticks": ""
             }
            },
            "type": "scattermapbox"
           }
          ],
          "scatterpolar": [
           {
            "marker": {
             "colorbar": {
              "outlinewidth": 0,
              "ticks": ""
             }
            },
            "type": "scatterpolar"
           }
          ],
          "scatterpolargl": [
           {
            "marker": {
             "colorbar": {
              "outlinewidth": 0,
              "ticks": ""
             }
            },
            "type": "scatterpolargl"
           }
          ],
          "scatterternary": [
           {
            "marker": {
             "colorbar": {
              "outlinewidth": 0,
              "ticks": ""
             }
            },
            "type": "scatterternary"
           }
          ],
          "surface": [
           {
            "colorbar": {
             "outlinewidth": 0,
             "ticks": ""
            },
            "colorscale": [
             [
              0,
              "#0d0887"
             ],
             [
              0.1111111111111111,
              "#46039f"
             ],
             [
              0.2222222222222222,
              "#7201a8"
             ],
             [
              0.3333333333333333,
              "#9c179e"
             ],
             [
              0.4444444444444444,
              "#bd3786"
             ],
             [
              0.5555555555555556,
              "#d8576b"
             ],
             [
              0.6666666666666666,
              "#ed7953"
             ],
             [
              0.7777777777777778,
              "#fb9f3a"
             ],
             [
              0.8888888888888888,
              "#fdca26"
             ],
             [
              1,
              "#f0f921"
             ]
            ],
            "type": "surface"
           }
          ],
          "table": [
           {
            "cells": {
             "fill": {
              "color": "#EBF0F8"
             },
             "line": {
              "color": "white"
             }
            },
            "header": {
             "fill": {
              "color": "#C8D4E3"
             },
             "line": {
              "color": "white"
             }
            },
            "type": "table"
           }
          ]
         },
         "layout": {
          "annotationdefaults": {
           "arrowcolor": "#2a3f5f",
           "arrowhead": 0,
           "arrowwidth": 1
          },
          "autotypenumbers": "strict",
          "coloraxis": {
           "colorbar": {
            "outlinewidth": 0,
            "ticks": ""
           }
          },
          "colorscale": {
           "diverging": [
            [
             0,
             "#8e0152"
            ],
            [
             0.1,
             "#c51b7d"
            ],
            [
             0.2,
             "#de77ae"
            ],
            [
             0.3,
             "#f1b6da"
            ],
            [
             0.4,
             "#fde0ef"
            ],
            [
             0.5,
             "#f7f7f7"
            ],
            [
             0.6,
             "#e6f5d0"
            ],
            [
             0.7,
             "#b8e186"
            ],
            [
             0.8,
             "#7fbc41"
            ],
            [
             0.9,
             "#4d9221"
            ],
            [
             1,
             "#276419"
            ]
           ],
           "sequential": [
            [
             0,
             "#0d0887"
            ],
            [
             0.1111111111111111,
             "#46039f"
            ],
            [
             0.2222222222222222,
             "#7201a8"
            ],
            [
             0.3333333333333333,
             "#9c179e"
            ],
            [
             0.4444444444444444,
             "#bd3786"
            ],
            [
             0.5555555555555556,
             "#d8576b"
            ],
            [
             0.6666666666666666,
             "#ed7953"
            ],
            [
             0.7777777777777778,
             "#fb9f3a"
            ],
            [
             0.8888888888888888,
             "#fdca26"
            ],
            [
             1,
             "#f0f921"
            ]
           ],
           "sequentialminus": [
            [
             0,
             "#0d0887"
            ],
            [
             0.1111111111111111,
             "#46039f"
            ],
            [
             0.2222222222222222,
             "#7201a8"
            ],
            [
             0.3333333333333333,
             "#9c179e"
            ],
            [
             0.4444444444444444,
             "#bd3786"
            ],
            [
             0.5555555555555556,
             "#d8576b"
            ],
            [
             0.6666666666666666,
             "#ed7953"
            ],
            [
             0.7777777777777778,
             "#fb9f3a"
            ],
            [
             0.8888888888888888,
             "#fdca26"
            ],
            [
             1,
             "#f0f921"
            ]
           ]
          },
          "colorway": [
           "#636efa",
           "#EF553B",
           "#00cc96",
           "#ab63fa",
           "#FFA15A",
           "#19d3f3",
           "#FF6692",
           "#B6E880",
           "#FF97FF",
           "#FECB52"
          ],
          "font": {
           "color": "#2a3f5f"
          },
          "geo": {
           "bgcolor": "white",
           "lakecolor": "white",
           "landcolor": "#E5ECF6",
           "showlakes": true,
           "showland": true,
           "subunitcolor": "white"
          },
          "hoverlabel": {
           "align": "left"
          },
          "hovermode": "closest",
          "mapbox": {
           "style": "light"
          },
          "paper_bgcolor": "white",
          "plot_bgcolor": "#E5ECF6",
          "polar": {
           "angularaxis": {
            "gridcolor": "white",
            "linecolor": "white",
            "ticks": ""
           },
           "bgcolor": "#E5ECF6",
           "radialaxis": {
            "gridcolor": "white",
            "linecolor": "white",
            "ticks": ""
           }
          },
          "scene": {
           "xaxis": {
            "backgroundcolor": "#E5ECF6",
            "gridcolor": "white",
            "gridwidth": 2,
            "linecolor": "white",
            "showbackground": true,
            "ticks": "",
            "zerolinecolor": "white"
           },
           "yaxis": {
            "backgroundcolor": "#E5ECF6",
            "gridcolor": "white",
            "gridwidth": 2,
            "linecolor": "white",
            "showbackground": true,
            "ticks": "",
            "zerolinecolor": "white"
           },
           "zaxis": {
            "backgroundcolor": "#E5ECF6",
            "gridcolor": "white",
            "gridwidth": 2,
            "linecolor": "white",
            "showbackground": true,
            "ticks": "",
            "zerolinecolor": "white"
           }
          },
          "shapedefaults": {
           "line": {
            "color": "#2a3f5f"
           }
          },
          "ternary": {
           "aaxis": {
            "gridcolor": "white",
            "linecolor": "white",
            "ticks": ""
           },
           "baxis": {
            "gridcolor": "white",
            "linecolor": "white",
            "ticks": ""
           },
           "bgcolor": "#E5ECF6",
           "caxis": {
            "gridcolor": "white",
            "linecolor": "white",
            "ticks": ""
           }
          },
          "title": {
           "x": 0.05
          },
          "xaxis": {
           "automargin": true,
           "gridcolor": "white",
           "linecolor": "white",
           "ticks": "",
           "title": {
            "standoff": 15
           },
           "zerolinecolor": "white",
           "zerolinewidth": 2
          },
          "yaxis": {
           "automargin": true,
           "gridcolor": "white",
           "linecolor": "white",
           "ticks": "",
           "title": {
            "standoff": 15
           },
           "zerolinecolor": "white",
           "zerolinewidth": 2
          }
         }
        }
       }
      }
     },
     "metadata": {},
     "output_type": "display_data"
    }
   ],
   "source": [
    "import plotly.graph_objects as go\n",
    "\n",
    "fig= go.Figure()\n",
    "\n",
    "for i in range(10):\n",
    "    fig.add_trace(go.Scatter(x=df[mse_cols].columns, y =df[mse_cols].values[i],\n",
    "                             mode='lines+markers', name=titles[i]))\n",
    "\n",
    "fig.show()"
   ]
  },
  {
   "cell_type": "code",
   "execution_count": null,
   "metadata": {
    "id": "HrmdLRf0SK3_"
   },
   "outputs": [],
   "source": []
  }
 ],
 "metadata": {
  "colab": {
   "provenance": []
  },
  "kernelspec": {
   "display_name": "Python 3.10.8 ('btp')",
   "language": "python",
   "name": "python3"
  },
  "language_info": {
   "codemirror_mode": {
    "name": "ipython",
    "version": 3
   },
   "file_extension": ".py",
   "mimetype": "text/x-python",
   "name": "python",
   "nbconvert_exporter": "python",
   "pygments_lexer": "ipython3",
   "version": "3.10.8"
  },
  "vscode": {
   "interpreter": {
    "hash": "eda4300cb0d28a21f7fc24f1781b5b92abfd3ac6d03439f9c4efec22a825e260"
   }
  }
 },
 "nbformat": 4,
 "nbformat_minor": 0
}
